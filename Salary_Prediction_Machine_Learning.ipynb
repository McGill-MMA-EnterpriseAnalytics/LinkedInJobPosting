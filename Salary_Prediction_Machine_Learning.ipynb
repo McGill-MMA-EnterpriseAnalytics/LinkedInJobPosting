{
  "cells": [
    {
      "cell_type": "code",
      "id": "initial_id",
      "metadata": {
        "collapsed": true,
        "ExecuteTime": {
          "end_time": "2025-02-21T03:34:47.315093Z",
          "start_time": "2025-02-21T03:34:47.311913Z"
        },
        "id": "initial_id"
      },
      "source": [
        "import pandas as pd\n",
        "import numpy as np\n",
        "from sklearn.model_selection import train_test_split\n",
        "import tensorflow as tf\n",
        "from tensorflow.keras import layers, models, callbacks\n",
        "import numpy as np\n",
        "from sklearn.preprocessing import StandardScaler\n",
        "from sklearn.metrics import mean_squared_error, r2_score\n",
        "import matplotlib.pyplot as plt\n",
        "from sklearn.ensemble import RandomForestRegressor, GradientBoostingRegressor\n",
        "from sklearn.tree import DecisionTreeRegressor\n",
        "from sklearn.model_selection import GridSearchCV\n",
        "\n",
        "\n"
      ],
      "outputs": [],
      "execution_count": 279
    },
    {
      "metadata": {
        "ExecuteTime": {
          "end_time": "2025-02-21T02:29:07.699834Z",
          "start_time": "2025-02-21T02:29:07.348608Z"
        },
        "colab": {
          "base_uri": "https://localhost:8080/",
          "height": 73
        },
        "id": "ffc4aa03385d1af3",
        "outputId": "5bdb01a7-dd5d-483a-ac01-9bc997836db8"
      },
      "cell_type": "code",
      "source": [
        "from google.colab import files\n",
        "uploaded = files.upload()\n",
        "data = pd.read_csv(list(uploaded.keys())[0])"
      ],
      "id": "ffc4aa03385d1af3",
      "outputs": [
        {
          "output_type": "display_data",
          "data": {
            "text/plain": [
              "<IPython.core.display.HTML object>"
            ],
            "text/html": [
              "\n",
              "     <input type=\"file\" id=\"files-f0d345b4-0371-43a0-b3f7-aad92871b4f8\" name=\"files[]\" multiple disabled\n",
              "        style=\"border:none\" />\n",
              "     <output id=\"result-f0d345b4-0371-43a0-b3f7-aad92871b4f8\">\n",
              "      Upload widget is only available when the cell has been executed in the\n",
              "      current browser session. Please rerun this cell to enable.\n",
              "      </output>\n",
              "      <script>// Copyright 2017 Google LLC\n",
              "//\n",
              "// Licensed under the Apache License, Version 2.0 (the \"License\");\n",
              "// you may not use this file except in compliance with the License.\n",
              "// You may obtain a copy of the License at\n",
              "//\n",
              "//      http://www.apache.org/licenses/LICENSE-2.0\n",
              "//\n",
              "// Unless required by applicable law or agreed to in writing, software\n",
              "// distributed under the License is distributed on an \"AS IS\" BASIS,\n",
              "// WITHOUT WARRANTIES OR CONDITIONS OF ANY KIND, either express or implied.\n",
              "// See the License for the specific language governing permissions and\n",
              "// limitations under the License.\n",
              "\n",
              "/**\n",
              " * @fileoverview Helpers for google.colab Python module.\n",
              " */\n",
              "(function(scope) {\n",
              "function span(text, styleAttributes = {}) {\n",
              "  const element = document.createElement('span');\n",
              "  element.textContent = text;\n",
              "  for (const key of Object.keys(styleAttributes)) {\n",
              "    element.style[key] = styleAttributes[key];\n",
              "  }\n",
              "  return element;\n",
              "}\n",
              "\n",
              "// Max number of bytes which will be uploaded at a time.\n",
              "const MAX_PAYLOAD_SIZE = 100 * 1024;\n",
              "\n",
              "function _uploadFiles(inputId, outputId) {\n",
              "  const steps = uploadFilesStep(inputId, outputId);\n",
              "  const outputElement = document.getElementById(outputId);\n",
              "  // Cache steps on the outputElement to make it available for the next call\n",
              "  // to uploadFilesContinue from Python.\n",
              "  outputElement.steps = steps;\n",
              "\n",
              "  return _uploadFilesContinue(outputId);\n",
              "}\n",
              "\n",
              "// This is roughly an async generator (not supported in the browser yet),\n",
              "// where there are multiple asynchronous steps and the Python side is going\n",
              "// to poll for completion of each step.\n",
              "// This uses a Promise to block the python side on completion of each step,\n",
              "// then passes the result of the previous step as the input to the next step.\n",
              "function _uploadFilesContinue(outputId) {\n",
              "  const outputElement = document.getElementById(outputId);\n",
              "  const steps = outputElement.steps;\n",
              "\n",
              "  const next = steps.next(outputElement.lastPromiseValue);\n",
              "  return Promise.resolve(next.value.promise).then((value) => {\n",
              "    // Cache the last promise value to make it available to the next\n",
              "    // step of the generator.\n",
              "    outputElement.lastPromiseValue = value;\n",
              "    return next.value.response;\n",
              "  });\n",
              "}\n",
              "\n",
              "/**\n",
              " * Generator function which is called between each async step of the upload\n",
              " * process.\n",
              " * @param {string} inputId Element ID of the input file picker element.\n",
              " * @param {string} outputId Element ID of the output display.\n",
              " * @return {!Iterable<!Object>} Iterable of next steps.\n",
              " */\n",
              "function* uploadFilesStep(inputId, outputId) {\n",
              "  const inputElement = document.getElementById(inputId);\n",
              "  inputElement.disabled = false;\n",
              "\n",
              "  const outputElement = document.getElementById(outputId);\n",
              "  outputElement.innerHTML = '';\n",
              "\n",
              "  const pickedPromise = new Promise((resolve) => {\n",
              "    inputElement.addEventListener('change', (e) => {\n",
              "      resolve(e.target.files);\n",
              "    });\n",
              "  });\n",
              "\n",
              "  const cancel = document.createElement('button');\n",
              "  inputElement.parentElement.appendChild(cancel);\n",
              "  cancel.textContent = 'Cancel upload';\n",
              "  const cancelPromise = new Promise((resolve) => {\n",
              "    cancel.onclick = () => {\n",
              "      resolve(null);\n",
              "    };\n",
              "  });\n",
              "\n",
              "  // Wait for the user to pick the files.\n",
              "  const files = yield {\n",
              "    promise: Promise.race([pickedPromise, cancelPromise]),\n",
              "    response: {\n",
              "      action: 'starting',\n",
              "    }\n",
              "  };\n",
              "\n",
              "  cancel.remove();\n",
              "\n",
              "  // Disable the input element since further picks are not allowed.\n",
              "  inputElement.disabled = true;\n",
              "\n",
              "  if (!files) {\n",
              "    return {\n",
              "      response: {\n",
              "        action: 'complete',\n",
              "      }\n",
              "    };\n",
              "  }\n",
              "\n",
              "  for (const file of files) {\n",
              "    const li = document.createElement('li');\n",
              "    li.append(span(file.name, {fontWeight: 'bold'}));\n",
              "    li.append(span(\n",
              "        `(${file.type || 'n/a'}) - ${file.size} bytes, ` +\n",
              "        `last modified: ${\n",
              "            file.lastModifiedDate ? file.lastModifiedDate.toLocaleDateString() :\n",
              "                                    'n/a'} - `));\n",
              "    const percent = span('0% done');\n",
              "    li.appendChild(percent);\n",
              "\n",
              "    outputElement.appendChild(li);\n",
              "\n",
              "    const fileDataPromise = new Promise((resolve) => {\n",
              "      const reader = new FileReader();\n",
              "      reader.onload = (e) => {\n",
              "        resolve(e.target.result);\n",
              "      };\n",
              "      reader.readAsArrayBuffer(file);\n",
              "    });\n",
              "    // Wait for the data to be ready.\n",
              "    let fileData = yield {\n",
              "      promise: fileDataPromise,\n",
              "      response: {\n",
              "        action: 'continue',\n",
              "      }\n",
              "    };\n",
              "\n",
              "    // Use a chunked sending to avoid message size limits. See b/62115660.\n",
              "    let position = 0;\n",
              "    do {\n",
              "      const length = Math.min(fileData.byteLength - position, MAX_PAYLOAD_SIZE);\n",
              "      const chunk = new Uint8Array(fileData, position, length);\n",
              "      position += length;\n",
              "\n",
              "      const base64 = btoa(String.fromCharCode.apply(null, chunk));\n",
              "      yield {\n",
              "        response: {\n",
              "          action: 'append',\n",
              "          file: file.name,\n",
              "          data: base64,\n",
              "        },\n",
              "      };\n",
              "\n",
              "      let percentDone = fileData.byteLength === 0 ?\n",
              "          100 :\n",
              "          Math.round((position / fileData.byteLength) * 100);\n",
              "      percent.textContent = `${percentDone}% done`;\n",
              "\n",
              "    } while (position < fileData.byteLength);\n",
              "  }\n",
              "\n",
              "  // All done.\n",
              "  yield {\n",
              "    response: {\n",
              "      action: 'complete',\n",
              "    }\n",
              "  };\n",
              "}\n",
              "\n",
              "scope.google = scope.google || {};\n",
              "scope.google.colab = scope.google.colab || {};\n",
              "scope.google.colab._files = {\n",
              "  _uploadFiles,\n",
              "  _uploadFilesContinue,\n",
              "};\n",
              "})(self);\n",
              "</script> "
            ]
          },
          "metadata": {}
        },
        {
          "output_type": "stream",
          "name": "stdout",
          "text": [
            "Saving final_Clean_flattened_cleaned_Official_V3_numeric.csv to final_Clean_flattened_cleaned_Official_V3_numeric (1).csv\n"
          ]
        }
      ],
      "execution_count": 278
    },
    {
      "metadata": {
        "id": "b2379b7baf5e66e8"
      },
      "cell_type": "code",
      "outputs": [],
      "execution_count": 280,
      "source": [
        "data=data.drop(columns=\"Unnamed: 0\")\n"
      ],
      "id": "b2379b7baf5e66e8"
    },
    {
      "metadata": {
        "ExecuteTime": {
          "end_time": "2025-02-21T02:32:49.336140Z",
          "start_time": "2025-02-21T02:32:49.324822Z"
        },
        "colab": {
          "base_uri": "https://localhost:8080/",
          "height": 273
        },
        "id": "daf4333083191d52",
        "outputId": "fa327df3-35c4-4150-f7ad-7be35c76b4ec"
      },
      "cell_type": "code",
      "source": [
        "data.head()"
      ],
      "id": "daf4333083191d52",
      "outputs": [
        {
          "output_type": "execute_result",
          "data": {
            "text/plain": [
              "   views  applies  remote_allowed  normalized_salary  employee_count  \\\n",
              "0      4        0               0             110000             102   \n",
              "1      4        1               0             105000              24   \n",
              "2      4        1               0             105000              24   \n",
              "3      4        1               0             105000              24   \n",
              "4      8        1               0              70720            1425   \n",
              "\n",
              "   follower_count  company_size  max_salary_in_usd  min_salary_in_usd  \\\n",
              "0            2831             2             120000             100000   \n",
              "1           68099             1             200000              10000   \n",
              "2           68099             1             200000              10000   \n",
              "3           68099             1             200000              10000   \n",
              "4          982403             4                 35                 33   \n",
              "\n",
              "   max_hourly_salary_in_usd  ...  TitleClean_store manager  \\\n",
              "0                        57  ...                         0   \n",
              "1                        96  ...                         0   \n",
              "2                        96  ...                         0   \n",
              "3                        96  ...                         0   \n",
              "4                        35  ...                         0   \n",
              "\n",
              "   TitleClean_supply chain  TitleClean_support specialist  \\\n",
              "0                        0                              0   \n",
              "1                        0                              0   \n",
              "2                        0                              0   \n",
              "3                        0                              0   \n",
              "4                        0                              0   \n",
              "\n",
              "   TitleClean_systems engineer  TitleClean_tax manager  \\\n",
              "0                            0                       0   \n",
              "1                            0                       0   \n",
              "2                            0                       0   \n",
              "3                            0                       0   \n",
              "4                            0                       0   \n",
              "\n",
              "   TitleClean_technical support  TitleClean_test engineer  \\\n",
              "0                             0                         0   \n",
              "1                             0                         0   \n",
              "2                             0                         0   \n",
              "3                             0                         0   \n",
              "4                             0                         0   \n",
              "\n",
              "   TitleClean_travel rn  TitleClean_vice president  \\\n",
              "0                     0                          0   \n",
              "1                     0                          0   \n",
              "2                     0                          0   \n",
              "3                     0                          0   \n",
              "4                     0                          0   \n",
              "\n",
              "   TitleClean_warehouse associate  \n",
              "0                               0  \n",
              "1                               0  \n",
              "2                               0  \n",
              "3                               0  \n",
              "4                               0  \n",
              "\n",
              "[5 rows x 369 columns]"
            ],
            "text/html": [
              "\n",
              "  <div id=\"df-284a1682-c1cd-48fd-8dc8-8dab4f86fa5c\" class=\"colab-df-container\">\n",
              "    <div>\n",
              "<style scoped>\n",
              "    .dataframe tbody tr th:only-of-type {\n",
              "        vertical-align: middle;\n",
              "    }\n",
              "\n",
              "    .dataframe tbody tr th {\n",
              "        vertical-align: top;\n",
              "    }\n",
              "\n",
              "    .dataframe thead th {\n",
              "        text-align: right;\n",
              "    }\n",
              "</style>\n",
              "<table border=\"1\" class=\"dataframe\">\n",
              "  <thead>\n",
              "    <tr style=\"text-align: right;\">\n",
              "      <th></th>\n",
              "      <th>views</th>\n",
              "      <th>applies</th>\n",
              "      <th>remote_allowed</th>\n",
              "      <th>normalized_salary</th>\n",
              "      <th>employee_count</th>\n",
              "      <th>follower_count</th>\n",
              "      <th>company_size</th>\n",
              "      <th>max_salary_in_usd</th>\n",
              "      <th>min_salary_in_usd</th>\n",
              "      <th>max_hourly_salary_in_usd</th>\n",
              "      <th>...</th>\n",
              "      <th>TitleClean_store manager</th>\n",
              "      <th>TitleClean_supply chain</th>\n",
              "      <th>TitleClean_support specialist</th>\n",
              "      <th>TitleClean_systems engineer</th>\n",
              "      <th>TitleClean_tax manager</th>\n",
              "      <th>TitleClean_technical support</th>\n",
              "      <th>TitleClean_test engineer</th>\n",
              "      <th>TitleClean_travel rn</th>\n",
              "      <th>TitleClean_vice president</th>\n",
              "      <th>TitleClean_warehouse associate</th>\n",
              "    </tr>\n",
              "  </thead>\n",
              "  <tbody>\n",
              "    <tr>\n",
              "      <th>0</th>\n",
              "      <td>4</td>\n",
              "      <td>0</td>\n",
              "      <td>0</td>\n",
              "      <td>110000</td>\n",
              "      <td>102</td>\n",
              "      <td>2831</td>\n",
              "      <td>2</td>\n",
              "      <td>120000</td>\n",
              "      <td>100000</td>\n",
              "      <td>57</td>\n",
              "      <td>...</td>\n",
              "      <td>0</td>\n",
              "      <td>0</td>\n",
              "      <td>0</td>\n",
              "      <td>0</td>\n",
              "      <td>0</td>\n",
              "      <td>0</td>\n",
              "      <td>0</td>\n",
              "      <td>0</td>\n",
              "      <td>0</td>\n",
              "      <td>0</td>\n",
              "    </tr>\n",
              "    <tr>\n",
              "      <th>1</th>\n",
              "      <td>4</td>\n",
              "      <td>1</td>\n",
              "      <td>0</td>\n",
              "      <td>105000</td>\n",
              "      <td>24</td>\n",
              "      <td>68099</td>\n",
              "      <td>1</td>\n",
              "      <td>200000</td>\n",
              "      <td>10000</td>\n",
              "      <td>96</td>\n",
              "      <td>...</td>\n",
              "      <td>0</td>\n",
              "      <td>0</td>\n",
              "      <td>0</td>\n",
              "      <td>0</td>\n",
              "      <td>0</td>\n",
              "      <td>0</td>\n",
              "      <td>0</td>\n",
              "      <td>0</td>\n",
              "      <td>0</td>\n",
              "      <td>0</td>\n",
              "    </tr>\n",
              "    <tr>\n",
              "      <th>2</th>\n",
              "      <td>4</td>\n",
              "      <td>1</td>\n",
              "      <td>0</td>\n",
              "      <td>105000</td>\n",
              "      <td>24</td>\n",
              "      <td>68099</td>\n",
              "      <td>1</td>\n",
              "      <td>200000</td>\n",
              "      <td>10000</td>\n",
              "      <td>96</td>\n",
              "      <td>...</td>\n",
              "      <td>0</td>\n",
              "      <td>0</td>\n",
              "      <td>0</td>\n",
              "      <td>0</td>\n",
              "      <td>0</td>\n",
              "      <td>0</td>\n",
              "      <td>0</td>\n",
              "      <td>0</td>\n",
              "      <td>0</td>\n",
              "      <td>0</td>\n",
              "    </tr>\n",
              "    <tr>\n",
              "      <th>3</th>\n",
              "      <td>4</td>\n",
              "      <td>1</td>\n",
              "      <td>0</td>\n",
              "      <td>105000</td>\n",
              "      <td>24</td>\n",
              "      <td>68099</td>\n",
              "      <td>1</td>\n",
              "      <td>200000</td>\n",
              "      <td>10000</td>\n",
              "      <td>96</td>\n",
              "      <td>...</td>\n",
              "      <td>0</td>\n",
              "      <td>0</td>\n",
              "      <td>0</td>\n",
              "      <td>0</td>\n",
              "      <td>0</td>\n",
              "      <td>0</td>\n",
              "      <td>0</td>\n",
              "      <td>0</td>\n",
              "      <td>0</td>\n",
              "      <td>0</td>\n",
              "    </tr>\n",
              "    <tr>\n",
              "      <th>4</th>\n",
              "      <td>8</td>\n",
              "      <td>1</td>\n",
              "      <td>0</td>\n",
              "      <td>70720</td>\n",
              "      <td>1425</td>\n",
              "      <td>982403</td>\n",
              "      <td>4</td>\n",
              "      <td>35</td>\n",
              "      <td>33</td>\n",
              "      <td>35</td>\n",
              "      <td>...</td>\n",
              "      <td>0</td>\n",
              "      <td>0</td>\n",
              "      <td>0</td>\n",
              "      <td>0</td>\n",
              "      <td>0</td>\n",
              "      <td>0</td>\n",
              "      <td>0</td>\n",
              "      <td>0</td>\n",
              "      <td>0</td>\n",
              "      <td>0</td>\n",
              "    </tr>\n",
              "  </tbody>\n",
              "</table>\n",
              "<p>5 rows × 369 columns</p>\n",
              "</div>\n",
              "    <div class=\"colab-df-buttons\">\n",
              "\n",
              "  <div class=\"colab-df-container\">\n",
              "    <button class=\"colab-df-convert\" onclick=\"convertToInteractive('df-284a1682-c1cd-48fd-8dc8-8dab4f86fa5c')\"\n",
              "            title=\"Convert this dataframe to an interactive table.\"\n",
              "            style=\"display:none;\">\n",
              "\n",
              "  <svg xmlns=\"http://www.w3.org/2000/svg\" height=\"24px\" viewBox=\"0 -960 960 960\">\n",
              "    <path d=\"M120-120v-720h720v720H120Zm60-500h600v-160H180v160Zm220 220h160v-160H400v160Zm0 220h160v-160H400v160ZM180-400h160v-160H180v160Zm440 0h160v-160H620v160ZM180-180h160v-160H180v160Zm440 0h160v-160H620v160Z\"/>\n",
              "  </svg>\n",
              "    </button>\n",
              "\n",
              "  <style>\n",
              "    .colab-df-container {\n",
              "      display:flex;\n",
              "      gap: 12px;\n",
              "    }\n",
              "\n",
              "    .colab-df-convert {\n",
              "      background-color: #E8F0FE;\n",
              "      border: none;\n",
              "      border-radius: 50%;\n",
              "      cursor: pointer;\n",
              "      display: none;\n",
              "      fill: #1967D2;\n",
              "      height: 32px;\n",
              "      padding: 0 0 0 0;\n",
              "      width: 32px;\n",
              "    }\n",
              "\n",
              "    .colab-df-convert:hover {\n",
              "      background-color: #E2EBFA;\n",
              "      box-shadow: 0px 1px 2px rgba(60, 64, 67, 0.3), 0px 1px 3px 1px rgba(60, 64, 67, 0.15);\n",
              "      fill: #174EA6;\n",
              "    }\n",
              "\n",
              "    .colab-df-buttons div {\n",
              "      margin-bottom: 4px;\n",
              "    }\n",
              "\n",
              "    [theme=dark] .colab-df-convert {\n",
              "      background-color: #3B4455;\n",
              "      fill: #D2E3FC;\n",
              "    }\n",
              "\n",
              "    [theme=dark] .colab-df-convert:hover {\n",
              "      background-color: #434B5C;\n",
              "      box-shadow: 0px 1px 3px 1px rgba(0, 0, 0, 0.15);\n",
              "      filter: drop-shadow(0px 1px 2px rgba(0, 0, 0, 0.3));\n",
              "      fill: #FFFFFF;\n",
              "    }\n",
              "  </style>\n",
              "\n",
              "    <script>\n",
              "      const buttonEl =\n",
              "        document.querySelector('#df-284a1682-c1cd-48fd-8dc8-8dab4f86fa5c button.colab-df-convert');\n",
              "      buttonEl.style.display =\n",
              "        google.colab.kernel.accessAllowed ? 'block' : 'none';\n",
              "\n",
              "      async function convertToInteractive(key) {\n",
              "        const element = document.querySelector('#df-284a1682-c1cd-48fd-8dc8-8dab4f86fa5c');\n",
              "        const dataTable =\n",
              "          await google.colab.kernel.invokeFunction('convertToInteractive',\n",
              "                                                    [key], {});\n",
              "        if (!dataTable) return;\n",
              "\n",
              "        const docLinkHtml = 'Like what you see? Visit the ' +\n",
              "          '<a target=\"_blank\" href=https://colab.research.google.com/notebooks/data_table.ipynb>data table notebook</a>'\n",
              "          + ' to learn more about interactive tables.';\n",
              "        element.innerHTML = '';\n",
              "        dataTable['output_type'] = 'display_data';\n",
              "        await google.colab.output.renderOutput(dataTable, element);\n",
              "        const docLink = document.createElement('div');\n",
              "        docLink.innerHTML = docLinkHtml;\n",
              "        element.appendChild(docLink);\n",
              "      }\n",
              "    </script>\n",
              "  </div>\n",
              "\n",
              "\n",
              "<div id=\"df-0248b2d4-4a1c-4ac1-906f-22f9a4519444\">\n",
              "  <button class=\"colab-df-quickchart\" onclick=\"quickchart('df-0248b2d4-4a1c-4ac1-906f-22f9a4519444')\"\n",
              "            title=\"Suggest charts\"\n",
              "            style=\"display:none;\">\n",
              "\n",
              "<svg xmlns=\"http://www.w3.org/2000/svg\" height=\"24px\"viewBox=\"0 0 24 24\"\n",
              "     width=\"24px\">\n",
              "    <g>\n",
              "        <path d=\"M19 3H5c-1.1 0-2 .9-2 2v14c0 1.1.9 2 2 2h14c1.1 0 2-.9 2-2V5c0-1.1-.9-2-2-2zM9 17H7v-7h2v7zm4 0h-2V7h2v10zm4 0h-2v-4h2v4z\"/>\n",
              "    </g>\n",
              "</svg>\n",
              "  </button>\n",
              "\n",
              "<style>\n",
              "  .colab-df-quickchart {\n",
              "      --bg-color: #E8F0FE;\n",
              "      --fill-color: #1967D2;\n",
              "      --hover-bg-color: #E2EBFA;\n",
              "      --hover-fill-color: #174EA6;\n",
              "      --disabled-fill-color: #AAA;\n",
              "      --disabled-bg-color: #DDD;\n",
              "  }\n",
              "\n",
              "  [theme=dark] .colab-df-quickchart {\n",
              "      --bg-color: #3B4455;\n",
              "      --fill-color: #D2E3FC;\n",
              "      --hover-bg-color: #434B5C;\n",
              "      --hover-fill-color: #FFFFFF;\n",
              "      --disabled-bg-color: #3B4455;\n",
              "      --disabled-fill-color: #666;\n",
              "  }\n",
              "\n",
              "  .colab-df-quickchart {\n",
              "    background-color: var(--bg-color);\n",
              "    border: none;\n",
              "    border-radius: 50%;\n",
              "    cursor: pointer;\n",
              "    display: none;\n",
              "    fill: var(--fill-color);\n",
              "    height: 32px;\n",
              "    padding: 0;\n",
              "    width: 32px;\n",
              "  }\n",
              "\n",
              "  .colab-df-quickchart:hover {\n",
              "    background-color: var(--hover-bg-color);\n",
              "    box-shadow: 0 1px 2px rgba(60, 64, 67, 0.3), 0 1px 3px 1px rgba(60, 64, 67, 0.15);\n",
              "    fill: var(--button-hover-fill-color);\n",
              "  }\n",
              "\n",
              "  .colab-df-quickchart-complete:disabled,\n",
              "  .colab-df-quickchart-complete:disabled:hover {\n",
              "    background-color: var(--disabled-bg-color);\n",
              "    fill: var(--disabled-fill-color);\n",
              "    box-shadow: none;\n",
              "  }\n",
              "\n",
              "  .colab-df-spinner {\n",
              "    border: 2px solid var(--fill-color);\n",
              "    border-color: transparent;\n",
              "    border-bottom-color: var(--fill-color);\n",
              "    animation:\n",
              "      spin 1s steps(1) infinite;\n",
              "  }\n",
              "\n",
              "  @keyframes spin {\n",
              "    0% {\n",
              "      border-color: transparent;\n",
              "      border-bottom-color: var(--fill-color);\n",
              "      border-left-color: var(--fill-color);\n",
              "    }\n",
              "    20% {\n",
              "      border-color: transparent;\n",
              "      border-left-color: var(--fill-color);\n",
              "      border-top-color: var(--fill-color);\n",
              "    }\n",
              "    30% {\n",
              "      border-color: transparent;\n",
              "      border-left-color: var(--fill-color);\n",
              "      border-top-color: var(--fill-color);\n",
              "      border-right-color: var(--fill-color);\n",
              "    }\n",
              "    40% {\n",
              "      border-color: transparent;\n",
              "      border-right-color: var(--fill-color);\n",
              "      border-top-color: var(--fill-color);\n",
              "    }\n",
              "    60% {\n",
              "      border-color: transparent;\n",
              "      border-right-color: var(--fill-color);\n",
              "    }\n",
              "    80% {\n",
              "      border-color: transparent;\n",
              "      border-right-color: var(--fill-color);\n",
              "      border-bottom-color: var(--fill-color);\n",
              "    }\n",
              "    90% {\n",
              "      border-color: transparent;\n",
              "      border-bottom-color: var(--fill-color);\n",
              "    }\n",
              "  }\n",
              "</style>\n",
              "\n",
              "  <script>\n",
              "    async function quickchart(key) {\n",
              "      const quickchartButtonEl =\n",
              "        document.querySelector('#' + key + ' button');\n",
              "      quickchartButtonEl.disabled = true;  // To prevent multiple clicks.\n",
              "      quickchartButtonEl.classList.add('colab-df-spinner');\n",
              "      try {\n",
              "        const charts = await google.colab.kernel.invokeFunction(\n",
              "            'suggestCharts', [key], {});\n",
              "      } catch (error) {\n",
              "        console.error('Error during call to suggestCharts:', error);\n",
              "      }\n",
              "      quickchartButtonEl.classList.remove('colab-df-spinner');\n",
              "      quickchartButtonEl.classList.add('colab-df-quickchart-complete');\n",
              "    }\n",
              "    (() => {\n",
              "      let quickchartButtonEl =\n",
              "        document.querySelector('#df-0248b2d4-4a1c-4ac1-906f-22f9a4519444 button');\n",
              "      quickchartButtonEl.style.display =\n",
              "        google.colab.kernel.accessAllowed ? 'block' : 'none';\n",
              "    })();\n",
              "  </script>\n",
              "</div>\n",
              "\n",
              "    </div>\n",
              "  </div>\n"
            ],
            "application/vnd.google.colaboratory.intrinsic+json": {
              "type": "dataframe",
              "variable_name": "data"
            }
          },
          "metadata": {},
          "execution_count": 281
        }
      ],
      "execution_count": 281
    },
    {
      "metadata": {
        "ExecuteTime": {
          "end_time": "2025-02-21T02:33:40.320372Z",
          "start_time": "2025-02-21T02:33:40.317950Z"
        },
        "id": "bd960a84e064e78e"
      },
      "cell_type": "code",
      "source": [
        "data[\"normalized_salary_hourly\"] = (data[\"max_hourly_salary_in_usd\"] + data[\"min_hourly_salary_in_usd\"]) / 2"
      ],
      "id": "bd960a84e064e78e",
      "outputs": [],
      "execution_count": 282
    },
    {
      "cell_type": "code",
      "source": [
        "data.head()"
      ],
      "metadata": {
        "colab": {
          "base_uri": "https://localhost:8080/",
          "height": 273
        },
        "id": "F7U8rohnbj7N",
        "outputId": "92292237-da39-4efc-87cd-5958c6bb950a"
      },
      "id": "F7U8rohnbj7N",
      "execution_count": 283,
      "outputs": [
        {
          "output_type": "execute_result",
          "data": {
            "text/plain": [
              "   views  applies  remote_allowed  normalized_salary  employee_count  \\\n",
              "0      4        0               0             110000             102   \n",
              "1      4        1               0             105000              24   \n",
              "2      4        1               0             105000              24   \n",
              "3      4        1               0             105000              24   \n",
              "4      8        1               0              70720            1425   \n",
              "\n",
              "   follower_count  company_size  max_salary_in_usd  min_salary_in_usd  \\\n",
              "0            2831             2             120000             100000   \n",
              "1           68099             1             200000              10000   \n",
              "2           68099             1             200000              10000   \n",
              "3           68099             1             200000              10000   \n",
              "4          982403             4                 35                 33   \n",
              "\n",
              "   max_hourly_salary_in_usd  ...  TitleClean_supply chain  \\\n",
              "0                        57  ...                        0   \n",
              "1                        96  ...                        0   \n",
              "2                        96  ...                        0   \n",
              "3                        96  ...                        0   \n",
              "4                        35  ...                        0   \n",
              "\n",
              "   TitleClean_support specialist  TitleClean_systems engineer  \\\n",
              "0                              0                            0   \n",
              "1                              0                            0   \n",
              "2                              0                            0   \n",
              "3                              0                            0   \n",
              "4                              0                            0   \n",
              "\n",
              "   TitleClean_tax manager  TitleClean_technical support  \\\n",
              "0                       0                             0   \n",
              "1                       0                             0   \n",
              "2                       0                             0   \n",
              "3                       0                             0   \n",
              "4                       0                             0   \n",
              "\n",
              "   TitleClean_test engineer  TitleClean_travel rn  TitleClean_vice president  \\\n",
              "0                         0                     0                          0   \n",
              "1                         0                     0                          0   \n",
              "2                         0                     0                          0   \n",
              "3                         0                     0                          0   \n",
              "4                         0                     0                          0   \n",
              "\n",
              "   TitleClean_warehouse associate  normalized_salary_hourly  \n",
              "0                               0                      52.5  \n",
              "1                               0                      50.0  \n",
              "2                               0                      50.0  \n",
              "3                               0                      50.0  \n",
              "4                               0                      34.0  \n",
              "\n",
              "[5 rows x 370 columns]"
            ],
            "text/html": [
              "\n",
              "  <div id=\"df-b36b8d48-b0c8-4448-9c9a-b0478b01c9bb\" class=\"colab-df-container\">\n",
              "    <div>\n",
              "<style scoped>\n",
              "    .dataframe tbody tr th:only-of-type {\n",
              "        vertical-align: middle;\n",
              "    }\n",
              "\n",
              "    .dataframe tbody tr th {\n",
              "        vertical-align: top;\n",
              "    }\n",
              "\n",
              "    .dataframe thead th {\n",
              "        text-align: right;\n",
              "    }\n",
              "</style>\n",
              "<table border=\"1\" class=\"dataframe\">\n",
              "  <thead>\n",
              "    <tr style=\"text-align: right;\">\n",
              "      <th></th>\n",
              "      <th>views</th>\n",
              "      <th>applies</th>\n",
              "      <th>remote_allowed</th>\n",
              "      <th>normalized_salary</th>\n",
              "      <th>employee_count</th>\n",
              "      <th>follower_count</th>\n",
              "      <th>company_size</th>\n",
              "      <th>max_salary_in_usd</th>\n",
              "      <th>min_salary_in_usd</th>\n",
              "      <th>max_hourly_salary_in_usd</th>\n",
              "      <th>...</th>\n",
              "      <th>TitleClean_supply chain</th>\n",
              "      <th>TitleClean_support specialist</th>\n",
              "      <th>TitleClean_systems engineer</th>\n",
              "      <th>TitleClean_tax manager</th>\n",
              "      <th>TitleClean_technical support</th>\n",
              "      <th>TitleClean_test engineer</th>\n",
              "      <th>TitleClean_travel rn</th>\n",
              "      <th>TitleClean_vice president</th>\n",
              "      <th>TitleClean_warehouse associate</th>\n",
              "      <th>normalized_salary_hourly</th>\n",
              "    </tr>\n",
              "  </thead>\n",
              "  <tbody>\n",
              "    <tr>\n",
              "      <th>0</th>\n",
              "      <td>4</td>\n",
              "      <td>0</td>\n",
              "      <td>0</td>\n",
              "      <td>110000</td>\n",
              "      <td>102</td>\n",
              "      <td>2831</td>\n",
              "      <td>2</td>\n",
              "      <td>120000</td>\n",
              "      <td>100000</td>\n",
              "      <td>57</td>\n",
              "      <td>...</td>\n",
              "      <td>0</td>\n",
              "      <td>0</td>\n",
              "      <td>0</td>\n",
              "      <td>0</td>\n",
              "      <td>0</td>\n",
              "      <td>0</td>\n",
              "      <td>0</td>\n",
              "      <td>0</td>\n",
              "      <td>0</td>\n",
              "      <td>52.5</td>\n",
              "    </tr>\n",
              "    <tr>\n",
              "      <th>1</th>\n",
              "      <td>4</td>\n",
              "      <td>1</td>\n",
              "      <td>0</td>\n",
              "      <td>105000</td>\n",
              "      <td>24</td>\n",
              "      <td>68099</td>\n",
              "      <td>1</td>\n",
              "      <td>200000</td>\n",
              "      <td>10000</td>\n",
              "      <td>96</td>\n",
              "      <td>...</td>\n",
              "      <td>0</td>\n",
              "      <td>0</td>\n",
              "      <td>0</td>\n",
              "      <td>0</td>\n",
              "      <td>0</td>\n",
              "      <td>0</td>\n",
              "      <td>0</td>\n",
              "      <td>0</td>\n",
              "      <td>0</td>\n",
              "      <td>50.0</td>\n",
              "    </tr>\n",
              "    <tr>\n",
              "      <th>2</th>\n",
              "      <td>4</td>\n",
              "      <td>1</td>\n",
              "      <td>0</td>\n",
              "      <td>105000</td>\n",
              "      <td>24</td>\n",
              "      <td>68099</td>\n",
              "      <td>1</td>\n",
              "      <td>200000</td>\n",
              "      <td>10000</td>\n",
              "      <td>96</td>\n",
              "      <td>...</td>\n",
              "      <td>0</td>\n",
              "      <td>0</td>\n",
              "      <td>0</td>\n",
              "      <td>0</td>\n",
              "      <td>0</td>\n",
              "      <td>0</td>\n",
              "      <td>0</td>\n",
              "      <td>0</td>\n",
              "      <td>0</td>\n",
              "      <td>50.0</td>\n",
              "    </tr>\n",
              "    <tr>\n",
              "      <th>3</th>\n",
              "      <td>4</td>\n",
              "      <td>1</td>\n",
              "      <td>0</td>\n",
              "      <td>105000</td>\n",
              "      <td>24</td>\n",
              "      <td>68099</td>\n",
              "      <td>1</td>\n",
              "      <td>200000</td>\n",
              "      <td>10000</td>\n",
              "      <td>96</td>\n",
              "      <td>...</td>\n",
              "      <td>0</td>\n",
              "      <td>0</td>\n",
              "      <td>0</td>\n",
              "      <td>0</td>\n",
              "      <td>0</td>\n",
              "      <td>0</td>\n",
              "      <td>0</td>\n",
              "      <td>0</td>\n",
              "      <td>0</td>\n",
              "      <td>50.0</td>\n",
              "    </tr>\n",
              "    <tr>\n",
              "      <th>4</th>\n",
              "      <td>8</td>\n",
              "      <td>1</td>\n",
              "      <td>0</td>\n",
              "      <td>70720</td>\n",
              "      <td>1425</td>\n",
              "      <td>982403</td>\n",
              "      <td>4</td>\n",
              "      <td>35</td>\n",
              "      <td>33</td>\n",
              "      <td>35</td>\n",
              "      <td>...</td>\n",
              "      <td>0</td>\n",
              "      <td>0</td>\n",
              "      <td>0</td>\n",
              "      <td>0</td>\n",
              "      <td>0</td>\n",
              "      <td>0</td>\n",
              "      <td>0</td>\n",
              "      <td>0</td>\n",
              "      <td>0</td>\n",
              "      <td>34.0</td>\n",
              "    </tr>\n",
              "  </tbody>\n",
              "</table>\n",
              "<p>5 rows × 370 columns</p>\n",
              "</div>\n",
              "    <div class=\"colab-df-buttons\">\n",
              "\n",
              "  <div class=\"colab-df-container\">\n",
              "    <button class=\"colab-df-convert\" onclick=\"convertToInteractive('df-b36b8d48-b0c8-4448-9c9a-b0478b01c9bb')\"\n",
              "            title=\"Convert this dataframe to an interactive table.\"\n",
              "            style=\"display:none;\">\n",
              "\n",
              "  <svg xmlns=\"http://www.w3.org/2000/svg\" height=\"24px\" viewBox=\"0 -960 960 960\">\n",
              "    <path d=\"M120-120v-720h720v720H120Zm60-500h600v-160H180v160Zm220 220h160v-160H400v160Zm0 220h160v-160H400v160ZM180-400h160v-160H180v160Zm440 0h160v-160H620v160ZM180-180h160v-160H180v160Zm440 0h160v-160H620v160Z\"/>\n",
              "  </svg>\n",
              "    </button>\n",
              "\n",
              "  <style>\n",
              "    .colab-df-container {\n",
              "      display:flex;\n",
              "      gap: 12px;\n",
              "    }\n",
              "\n",
              "    .colab-df-convert {\n",
              "      background-color: #E8F0FE;\n",
              "      border: none;\n",
              "      border-radius: 50%;\n",
              "      cursor: pointer;\n",
              "      display: none;\n",
              "      fill: #1967D2;\n",
              "      height: 32px;\n",
              "      padding: 0 0 0 0;\n",
              "      width: 32px;\n",
              "    }\n",
              "\n",
              "    .colab-df-convert:hover {\n",
              "      background-color: #E2EBFA;\n",
              "      box-shadow: 0px 1px 2px rgba(60, 64, 67, 0.3), 0px 1px 3px 1px rgba(60, 64, 67, 0.15);\n",
              "      fill: #174EA6;\n",
              "    }\n",
              "\n",
              "    .colab-df-buttons div {\n",
              "      margin-bottom: 4px;\n",
              "    }\n",
              "\n",
              "    [theme=dark] .colab-df-convert {\n",
              "      background-color: #3B4455;\n",
              "      fill: #D2E3FC;\n",
              "    }\n",
              "\n",
              "    [theme=dark] .colab-df-convert:hover {\n",
              "      background-color: #434B5C;\n",
              "      box-shadow: 0px 1px 3px 1px rgba(0, 0, 0, 0.15);\n",
              "      filter: drop-shadow(0px 1px 2px rgba(0, 0, 0, 0.3));\n",
              "      fill: #FFFFFF;\n",
              "    }\n",
              "  </style>\n",
              "\n",
              "    <script>\n",
              "      const buttonEl =\n",
              "        document.querySelector('#df-b36b8d48-b0c8-4448-9c9a-b0478b01c9bb button.colab-df-convert');\n",
              "      buttonEl.style.display =\n",
              "        google.colab.kernel.accessAllowed ? 'block' : 'none';\n",
              "\n",
              "      async function convertToInteractive(key) {\n",
              "        const element = document.querySelector('#df-b36b8d48-b0c8-4448-9c9a-b0478b01c9bb');\n",
              "        const dataTable =\n",
              "          await google.colab.kernel.invokeFunction('convertToInteractive',\n",
              "                                                    [key], {});\n",
              "        if (!dataTable) return;\n",
              "\n",
              "        const docLinkHtml = 'Like what you see? Visit the ' +\n",
              "          '<a target=\"_blank\" href=https://colab.research.google.com/notebooks/data_table.ipynb>data table notebook</a>'\n",
              "          + ' to learn more about interactive tables.';\n",
              "        element.innerHTML = '';\n",
              "        dataTable['output_type'] = 'display_data';\n",
              "        await google.colab.output.renderOutput(dataTable, element);\n",
              "        const docLink = document.createElement('div');\n",
              "        docLink.innerHTML = docLinkHtml;\n",
              "        element.appendChild(docLink);\n",
              "      }\n",
              "    </script>\n",
              "  </div>\n",
              "\n",
              "\n",
              "<div id=\"df-48afa1d6-51b9-4c76-ba77-1ffdd451ebb6\">\n",
              "  <button class=\"colab-df-quickchart\" onclick=\"quickchart('df-48afa1d6-51b9-4c76-ba77-1ffdd451ebb6')\"\n",
              "            title=\"Suggest charts\"\n",
              "            style=\"display:none;\">\n",
              "\n",
              "<svg xmlns=\"http://www.w3.org/2000/svg\" height=\"24px\"viewBox=\"0 0 24 24\"\n",
              "     width=\"24px\">\n",
              "    <g>\n",
              "        <path d=\"M19 3H5c-1.1 0-2 .9-2 2v14c0 1.1.9 2 2 2h14c1.1 0 2-.9 2-2V5c0-1.1-.9-2-2-2zM9 17H7v-7h2v7zm4 0h-2V7h2v10zm4 0h-2v-4h2v4z\"/>\n",
              "    </g>\n",
              "</svg>\n",
              "  </button>\n",
              "\n",
              "<style>\n",
              "  .colab-df-quickchart {\n",
              "      --bg-color: #E8F0FE;\n",
              "      --fill-color: #1967D2;\n",
              "      --hover-bg-color: #E2EBFA;\n",
              "      --hover-fill-color: #174EA6;\n",
              "      --disabled-fill-color: #AAA;\n",
              "      --disabled-bg-color: #DDD;\n",
              "  }\n",
              "\n",
              "  [theme=dark] .colab-df-quickchart {\n",
              "      --bg-color: #3B4455;\n",
              "      --fill-color: #D2E3FC;\n",
              "      --hover-bg-color: #434B5C;\n",
              "      --hover-fill-color: #FFFFFF;\n",
              "      --disabled-bg-color: #3B4455;\n",
              "      --disabled-fill-color: #666;\n",
              "  }\n",
              "\n",
              "  .colab-df-quickchart {\n",
              "    background-color: var(--bg-color);\n",
              "    border: none;\n",
              "    border-radius: 50%;\n",
              "    cursor: pointer;\n",
              "    display: none;\n",
              "    fill: var(--fill-color);\n",
              "    height: 32px;\n",
              "    padding: 0;\n",
              "    width: 32px;\n",
              "  }\n",
              "\n",
              "  .colab-df-quickchart:hover {\n",
              "    background-color: var(--hover-bg-color);\n",
              "    box-shadow: 0 1px 2px rgba(60, 64, 67, 0.3), 0 1px 3px 1px rgba(60, 64, 67, 0.15);\n",
              "    fill: var(--button-hover-fill-color);\n",
              "  }\n",
              "\n",
              "  .colab-df-quickchart-complete:disabled,\n",
              "  .colab-df-quickchart-complete:disabled:hover {\n",
              "    background-color: var(--disabled-bg-color);\n",
              "    fill: var(--disabled-fill-color);\n",
              "    box-shadow: none;\n",
              "  }\n",
              "\n",
              "  .colab-df-spinner {\n",
              "    border: 2px solid var(--fill-color);\n",
              "    border-color: transparent;\n",
              "    border-bottom-color: var(--fill-color);\n",
              "    animation:\n",
              "      spin 1s steps(1) infinite;\n",
              "  }\n",
              "\n",
              "  @keyframes spin {\n",
              "    0% {\n",
              "      border-color: transparent;\n",
              "      border-bottom-color: var(--fill-color);\n",
              "      border-left-color: var(--fill-color);\n",
              "    }\n",
              "    20% {\n",
              "      border-color: transparent;\n",
              "      border-left-color: var(--fill-color);\n",
              "      border-top-color: var(--fill-color);\n",
              "    }\n",
              "    30% {\n",
              "      border-color: transparent;\n",
              "      border-left-color: var(--fill-color);\n",
              "      border-top-color: var(--fill-color);\n",
              "      border-right-color: var(--fill-color);\n",
              "    }\n",
              "    40% {\n",
              "      border-color: transparent;\n",
              "      border-right-color: var(--fill-color);\n",
              "      border-top-color: var(--fill-color);\n",
              "    }\n",
              "    60% {\n",
              "      border-color: transparent;\n",
              "      border-right-color: var(--fill-color);\n",
              "    }\n",
              "    80% {\n",
              "      border-color: transparent;\n",
              "      border-right-color: var(--fill-color);\n",
              "      border-bottom-color: var(--fill-color);\n",
              "    }\n",
              "    90% {\n",
              "      border-color: transparent;\n",
              "      border-bottom-color: var(--fill-color);\n",
              "    }\n",
              "  }\n",
              "</style>\n",
              "\n",
              "  <script>\n",
              "    async function quickchart(key) {\n",
              "      const quickchartButtonEl =\n",
              "        document.querySelector('#' + key + ' button');\n",
              "      quickchartButtonEl.disabled = true;  // To prevent multiple clicks.\n",
              "      quickchartButtonEl.classList.add('colab-df-spinner');\n",
              "      try {\n",
              "        const charts = await google.colab.kernel.invokeFunction(\n",
              "            'suggestCharts', [key], {});\n",
              "      } catch (error) {\n",
              "        console.error('Error during call to suggestCharts:', error);\n",
              "      }\n",
              "      quickchartButtonEl.classList.remove('colab-df-spinner');\n",
              "      quickchartButtonEl.classList.add('colab-df-quickchart-complete');\n",
              "    }\n",
              "    (() => {\n",
              "      let quickchartButtonEl =\n",
              "        document.querySelector('#df-48afa1d6-51b9-4c76-ba77-1ffdd451ebb6 button');\n",
              "      quickchartButtonEl.style.display =\n",
              "        google.colab.kernel.accessAllowed ? 'block' : 'none';\n",
              "    })();\n",
              "  </script>\n",
              "</div>\n",
              "\n",
              "    </div>\n",
              "  </div>\n"
            ],
            "application/vnd.google.colaboratory.intrinsic+json": {
              "type": "dataframe",
              "variable_name": "data"
            }
          },
          "metadata": {},
          "execution_count": 283
        }
      ]
    },
    {
      "cell_type": "code",
      "source": [
        "y_1=data[\"max_salary_in_usd\"]\n",
        "y_2=data[\"min_salary_in_usd\"]\n",
        "y_3=data[\"normalized_salary_hourly\"]"
      ],
      "metadata": {
        "id": "SSwYhoPvbuZU"
      },
      "id": "SSwYhoPvbuZU",
      "execution_count": 284,
      "outputs": []
    },
    {
      "metadata": {
        "ExecuteTime": {
          "end_time": "2025-02-21T03:12:04.555274Z",
          "start_time": "2025-02-21T03:12:04.514199Z"
        },
        "id": "bf08e8633150af10"
      },
      "cell_type": "code",
      "source": [
        "x=data.drop(columns=[\"max_salary_in_usd\",\"min_salary_in_usd\",\"max_hourly_salary_in_usd\",\"min_hourly_salary_in_usd\",\"normalized_salary\",\"normalized_salary_hourly\"])"
      ],
      "id": "bf08e8633150af10",
      "outputs": [],
      "execution_count": 285
    },
    {
      "cell_type": "code",
      "source": [
        "final_results_df_1 = pd.DataFrame(columns=['Model', 'Train_RMSE', 'Test_RMSE', 'Train_R2', 'Test_R2'])\n",
        "final_results_df_2 = pd.DataFrame(columns=['Model', 'Train_RMSE', 'Test_RMSE', 'Train_R2', 'Test_R2'])\n",
        "final_results_df_3 = pd.DataFrame(columns=['Model', 'Train_RMSE', 'Test_RMSE', 'Train_R2', 'Test_R2'])"
      ],
      "metadata": {
        "id": "Df3U4DMR5B9c"
      },
      "id": "Df3U4DMR5B9c",
      "execution_count": 287,
      "outputs": []
    },
    {
      "cell_type": "code",
      "source": [
        "print(y_1)"
      ],
      "metadata": {
        "colab": {
          "base_uri": "https://localhost:8080/"
        },
        "id": "2nHh6wt00zEJ",
        "outputId": "f5f7ad53-d36b-40c2-ef54-9e76be8c6fc6"
      },
      "id": "2nHh6wt00zEJ",
      "execution_count": 288,
      "outputs": [
        {
          "output_type": "stream",
          "name": "stdout",
          "text": [
            "0        120000\n",
            "1        200000\n",
            "2        200000\n",
            "3        200000\n",
            "4            35\n",
            "          ...  \n",
            "39953        50\n",
            "39954        50\n",
            "39955        50\n",
            "39956        21\n",
            "39957     85862\n",
            "Name: max_salary_in_usd, Length: 39958, dtype: int64\n"
          ]
        }
      ]
    },
    {
      "metadata": {
        "id": "9dbe18db8c35070c"
      },
      "cell_type": "markdown",
      "source": [
        "# drop the high correlated features"
      ],
      "id": "9dbe18db8c35070c"
    },
    {
      "metadata": {
        "ExecuteTime": {
          "end_time": "2025-02-21T03:12:12.893884Z",
          "start_time": "2025-02-21T03:12:06.520212Z"
        },
        "id": "cfc23ccb3fc91e43"
      },
      "cell_type": "code",
      "source": [
        "corr_matrix = x.corr().abs()  # Compute correlation matrix\n",
        "\n",
        "upper_triangle = corr_matrix.where(np.triu(np.ones(corr_matrix.shape), k=1).astype(bool))\n",
        "\n",
        "to_drop = [column for column in upper_triangle.columns if any(upper_triangle[column] > 0.8)]\n",
        "\n",
        "X_selected = x.drop(columns=to_drop)\n"
      ],
      "id": "cfc23ccb3fc91e43",
      "outputs": [],
      "execution_count": 289
    },
    {
      "metadata": {
        "ExecuteTime": {
          "end_time": "2025-02-21T03:12:26.321686Z",
          "start_time": "2025-02-21T03:12:26.275569Z"
        },
        "id": "425d7e5b2e282cb3"
      },
      "cell_type": "code",
      "source": [
        "# Split dataset into train and test sets\n",
        "X_train, X_test, y_train, y_test = train_test_split(X_selected, y_1, test_size=0.3, random_state=42)"
      ],
      "id": "425d7e5b2e282cb3",
      "outputs": [],
      "execution_count": 12
    },
    {
      "metadata": {
        "id": "b5144cf2c58fafa2"
      },
      "cell_type": "markdown",
      "source": [
        "# feature selection"
      ],
      "id": "b5144cf2c58fafa2"
    },
    {
      "metadata": {
        "ExecuteTime": {
          "end_time": "2025-02-21T03:18:01.479819Z",
          "start_time": "2025-02-21T03:13:28.539968Z"
        },
        "id": "acf76363b0c86600",
        "colab": {
          "base_uri": "https://localhost:8080/"
        },
        "outputId": "e2bae192-32da-4cbf-b4bb-946bbf168619"
      },
      "cell_type": "code",
      "source": [
        "rf = RandomForestRegressor(n_estimators=600, random_state=42)\n",
        "rf.fit(X_train, y_train)\n",
        "\n",
        "# Feature importance selection (Now based on X_train's actual columns)\n",
        "feature_importance_rf = pd.DataFrame(list(zip(X_train.columns, rf.feature_importances_)),\n",
        "                                     columns=['predictor', 'feature importance'])\n",
        "\n",
        "# Sort by importance\n",
        "feature_importance_rf = feature_importance_rf.sort_values(by='feature importance', ascending=False)\n",
        "\n",
        "# Select top 200 features\n",
        "selected_features_rf = feature_importance_rf.head(200)['predictor'].tolist()\n",
        "# Print selected features\n",
        "print(\"Top 200 Important Features:\", selected_features_rf)"
      ],
      "id": "acf76363b0c86600",
      "outputs": [
        {
          "output_type": "stream",
          "name": "stdout",
          "text": [
            "Top 200 Important Features: ['industry_Software Development', 'application_type_SimpleOnsiteApply', 'formatted_work_type_Full-time', 'feature_individual', 'feature_hour', 'employee_count', 'formatted_experience_level_Entry level', 'feature_software', 'feature_education', 'views', 'feature_training', 'formatted_experience_level_Director', 'CompApplication', 'feature_salary', 'formatted_experience_level_Executive', 'feature_engineering', 'industry_Legal Services', 'feature_design', 'feature_strategy', 'TitleClean_software engineer', 'feature_degree', 'feature_market', 'company_size', 'feature_family', 'formatted_experience_level_Mid-Senior level', 'TitleClean_real estate', 'TitleClean_marketing manager', 'feature_growth', 'applies', 'feature_development', 'TitleClean_project manager', 'feature_practice', 'TitleClean_associate attorney', 'country_GB', 'feature_technology', 'feature_equipment', 'feature_account', 'industry_IT Services and IT Consulting', 'remote_allowed', 'feature_marketing', 'feature_communication', 'feature_state', 'industry_Retail', 'industry_Staffing and Recruiting', 'industry_Hospitals and Health Care', 'feature_performance', 'application_type_OffsiteApply', 'feature_culture', 'feature_healthcare', 'feature_environment', 'feature_employer', 'feature_information', 'industry_Entertainment Providers', 'feature_group', 'feature_value', 'feature_law', 'feature_insurance', 'feature_need', 'feature_plan', 'feature_patient', 'feature_location', 'feature_security', 'country_US', 'industry_Financial Services', 'feature_application', 'TitleClean_litigation associate', 'feature_health', 'feature_responsibility', 'feature_disability', 'feature_accounting', 'feature_area', 'feature_member', 'industry_Real Estate', 'feature_policy', 'TitleClean_senior director', 'formatted_experience_level_Other', 'feature_construction', 'Dental insurance', 'TitleClean_general manager', 'feature_operation', 'TitleClean_senior accountant', 'TitleClean_network engineer', 'TitleClean_vice president', 'TitleClean_sales representative', 'TitleClean_information technology', 'industry_Government Administration', 'feature_resource', 'Disability insurance', 'TitleClean_product manager', 'industry_Biotechnology Research', 'TitleClean_support specialist', 'TitleClean_sales manager', 'TitleClean_sales associate', 'TitleClean_staff accountant', 'industry_Insurance', 'feature_qualification', 'TitleClean_senior manager', 'TitleClean_account executive', 'TitleClean_program manager', 'industry_Computer Hardware Manufacturing', 'TitleClean_registered nurse', 'industry_Law Practice', 'TitleClean_administrative assistant', 'industry_Research Services', 'TitleClean_medical assistant', 'Commuter benefits', 'feature_sale', 'TitleClean_business development', 'TitleClean_maintenance technician', 'industry_Business Consulting and Services', 'TitleClean_financial analyst', 'industry_Civil Engineering', 'TitleClean_account manager', 'industry_Advertising Services', 'TitleClean_nurse practitioner', 'industry_Construction', 'country_DE', 'TitleClean_business analyst', 'TitleClean_engineering manager', 'TitleClean_project coordinator', 'TitleClean_home health', 'TitleClean_travel rn', 'industry_Defense and Space Manufacturing', 'industry_Higher Education', 'TitleClean_data scientist', 'Student loan assistance', 'TitleClean_accounting manager', 'TitleClean_sales consultant', 'TitleClean_assistant manager', 'formatted_work_type_Part-time', 'industry_Banking', 'industry_Investment Management', 'Tuition assistance', 'industry_Online Audio and Video Media', 'industry_Non-profit Organizations', 'Paid maternity leave', 'TitleClean_customer service', 'Pension plan', 'industry_Motor Vehicle Manufacturing', 'industry_Telecommunications', 'formatted_experience_level_Internship', 'TitleClean_tax manager', 'industry_Truck Transportation', 'country_CA', 'TitleClean_data analyst', 'industry_Oil and Gas', 'TitleClean_operations manager', 'country_IN', 'TitleClean_financial advisor', 'TitleClean_design engineer', 'industry_Semiconductor Manufacturing', 'industry_Renewable Energy Semiconductor Manufacturing', 'industry_Hospitality', 'TitleClean_construction project', 'TitleClean_store manager', 'Child care support', 'TitleClean_security engineer', 'TitleClean_physical therapist', 'TitleClean_engineer ii', 'TitleClean_associate director', 'industry_Manufacturing', 'TitleClean_sales executive', 'TitleClean_executive assistant', 'industry_Pharmaceutical Manufacturing', 'formatted_work_type_Other', 'TitleClean_process engineer', 'TitleClean_human resources', 'TitleClean_entry level', 'TitleClean_systems engineer', 'industry_Airlines and Aviation', 'industry_Human Resources Services', 'industry_Computer and Network Security', 'industry_Medical Equipment Manufacturing', 'TitleClean_service technician', 'TitleClean_finance manager', 'TitleClean_quality engineer', 'industry_Medical Practices', 'industry_Mental Health Care', 'industry_Utilities', 'country_OO', 'industry_Retail Apparel and Fashion', 'TitleClean_electrical engineer', 'industry_Environmental Services', 'TitleClean_quality assurance', 'TitleClean_test engineer', 'industry_Food and Beverage Services', 'industry_Recreational Facilities', 'TitleClean_sales specialist', 'TitleClean_development representative', 'industry_Musicians', 'industry_Appliances, Electrical, and Electronics Manufacturing', 'industry_Consumer Services', 'industry_Education Administration Programs', 'industry_Wholesale', 'TitleClean_construction superintendent', 'industry_Computers and Electronics Manufacturing', 'industry_Computer Games', 'industry_Industrial Machinery Manufacturing', 'country_FR', 'industry_Wellness and Fitness Services']\n"
          ]
        }
      ],
      "execution_count": 13
    },
    {
      "metadata": {
        "ExecuteTime": {
          "end_time": "2025-02-21T03:19:45.689041Z",
          "start_time": "2025-02-21T03:19:45.681165Z"
        },
        "id": "228e2fe6ff7a3711"
      },
      "cell_type": "code",
      "source": [
        "X_train = X_train[selected_features_rf]\n",
        "X_test = X_test[selected_features_rf]"
      ],
      "id": "228e2fe6ff7a3711",
      "outputs": [],
      "execution_count": 14
    },
    {
      "metadata": {
        "ExecuteTime": {
          "end_time": "2025-02-21T03:35:14.491329Z",
          "start_time": "2025-02-21T03:35:14.483387Z"
        },
        "id": "9272467b3bfe217d"
      },
      "cell_type": "code",
      "source": [
        "scaler = StandardScaler()\n",
        "X_train_scaled = scaler.fit_transform(X_train)\n",
        "X_test_scaled = scaler.transform(X_test)"
      ],
      "id": "9272467b3bfe217d",
      "outputs": [],
      "execution_count": 15
    },
    {
      "cell_type": "code",
      "source": [
        "y_scaler = StandardScaler()\n",
        "y_train_scaled = y_scaler.fit_transform(y_train.values.reshape(-1, 1))\n",
        "y_test_scaled = y_scaler.transform(y_test.values.reshape(-1, 1))"
      ],
      "metadata": {
        "id": "HEriD22o8XHJ"
      },
      "id": "HEriD22o8XHJ",
      "execution_count": 16,
      "outputs": []
    },
    {
      "metadata": {
        "ExecuteTime": {
          "end_time": "2025-02-21T03:35:54.529869Z",
          "start_time": "2025-02-21T03:35:54.526995Z"
        },
        "id": "bbd50d45549a5c6f"
      },
      "cell_type": "code",
      "source": [
        "# Define model parameters\n",
        "INPUT_DIM = X_train_scaled.shape[1]\n",
        "LEARNING_RATE = 0.001\n",
        "BATCH_SIZE = 32\n",
        "NUM_EPOCHS = 150"
      ],
      "id": "bbd50d45549a5c6f",
      "outputs": [],
      "execution_count": 17
    },
    {
      "metadata": {
        "ExecuteTime": {
          "end_time": "2025-02-21T03:36:06.736997Z",
          "start_time": "2025-02-21T03:36:06.734086Z"
        },
        "id": "e4b619e37f5a446f"
      },
      "cell_type": "code",
      "source": [
        "class AdaptiveLayer(layers.Layer):\n",
        "    def __init__(self, units, **kwargs):\n",
        "        super(AdaptiveLayer, self).__init__(**kwargs)\n",
        "        self.units = units\n",
        "        self.dense = layers.Dense(units, activation='relu')\n",
        "        self.batch_norm = layers.BatchNormalization()\n",
        "        self.dropout = layers.Dropout(0.3)\n",
        "        self.activation = layers.ReLU()\n",
        "\n",
        "    def call(self, inputs, training=False):\n",
        "        x = self.dense(inputs)\n",
        "        x = self.batch_norm(x, training=training)\n",
        "        x = self.dropout(x, training=training)\n",
        "        return self.activation(x)"
      ],
      "id": "e4b619e37f5a446f",
      "outputs": [],
      "execution_count": 18
    },
    {
      "metadata": {
        "ExecuteTime": {
          "end_time": "2025-02-21T03:36:19.963495Z",
          "start_time": "2025-02-21T03:36:19.960322Z"
        },
        "id": "683a72887ab1d538"
      },
      "cell_type": "code",
      "source": [
        "def create_adaptive_model(input_dim):\n",
        "    inputs = layers.Input(shape=(input_dim,))\n",
        "\n",
        "    # First adaptive layer with larger units\n",
        "    x = AdaptiveLayer(128)(inputs)\n",
        "\n",
        "    # Multiple adaptive layers with decreasing units\n",
        "    x = AdaptiveLayer(64)(x)\n",
        "    x = AdaptiveLayer(32)(x)\n",
        "    x = AdaptiveLayer(16)(x)\n",
        "\n",
        "    # Output layer\n",
        "    outputs = layers.Dense(1, activation='linear')(x)\n",
        "\n",
        "    model = models.Model(inputs=inputs, outputs=outputs)\n",
        "    return model"
      ],
      "id": "683a72887ab1d538",
      "outputs": [],
      "execution_count": 19
    },
    {
      "metadata": {
        "ExecuteTime": {
          "end_time": "2025-02-21T03:36:42.008499Z",
          "start_time": "2025-02-21T03:36:41.886540Z"
        },
        "id": "941e424b28963718"
      },
      "cell_type": "code",
      "source": [
        "# Create and compile the model\n",
        "model = create_adaptive_model(INPUT_DIM)\n",
        "optimizer = tf.keras.optimizers.Adam(learning_rate=LEARNING_RATE)\n",
        "\n",
        "model.compile(\n",
        "    optimizer=optimizer,\n",
        "    loss='mse',\n",
        "    metrics=['mae', 'mse']\n",
        ")"
      ],
      "id": "941e424b28963718",
      "outputs": [],
      "execution_count": 20
    },
    {
      "metadata": {
        "ExecuteTime": {
          "end_time": "2025-02-21T03:37:10.529792Z",
          "start_time": "2025-02-21T03:37:10.525550Z"
        },
        "id": "eb88bb1cc71161a3"
      },
      "cell_type": "code",
      "source": [
        "# Define callbacks\n",
        "early_stopping = callbacks.EarlyStopping(\n",
        "    monitor='val_loss',\n",
        "    patience=15,\n",
        "    restore_best_weights=True,\n",
        "    verbose=1\n",
        ")\n",
        "\n",
        "reduce_lr = callbacks.ReduceLROnPlateau(\n",
        "    monitor='val_loss',\n",
        "    factor=0.2,\n",
        "    patience=5,\n",
        "    min_lr=0.00001,\n",
        "    verbose=1\n",
        ")\n"
      ],
      "id": "eb88bb1cc71161a3",
      "outputs": [],
      "execution_count": 21
    },
    {
      "metadata": {
        "ExecuteTime": {
          "end_time": "2025-02-21T03:37:22.746481Z",
          "start_time": "2025-02-21T03:37:22.743564Z"
        },
        "id": "f6db6ccb0ab9bd15"
      },
      "cell_type": "code",
      "source": [
        "# Model checkpoint\n",
        "checkpoint = callbacks.ModelCheckpoint(\n",
        "    'best_model.h5',\n",
        "    monitor='val_loss',\n",
        "    save_best_only=True,\n",
        "    verbose=1\n",
        ")"
      ],
      "id": "f6db6ccb0ab9bd15",
      "outputs": [],
      "execution_count": 22
    },
    {
      "metadata": {
        "ExecuteTime": {
          "end_time": "2025-02-21T03:38:32.941951Z",
          "start_time": "2025-02-21T03:37:33.495235Z"
        },
        "colab": {
          "base_uri": "https://localhost:8080/"
        },
        "id": "cf38984b6ede8730",
        "outputId": "15cda119-b77b-4ea4-8729-9f3ba5b25378"
      },
      "cell_type": "code",
      "source": [
        "# Train the model\n",
        "history = model.fit(\n",
        "    X_train_scaled,\n",
        "    y_train_scaled,  # Use scaled target\n",
        "    batch_size=BATCH_SIZE,\n",
        "    epochs=NUM_EPOCHS,\n",
        "    validation_split=0.2,\n",
        "    callbacks=[early_stopping, reduce_lr, checkpoint],\n",
        "    verbose=1\n",
        ")\n"
      ],
      "id": "cf38984b6ede8730",
      "outputs": [
        {
          "output_type": "stream",
          "name": "stdout",
          "text": [
            "Epoch 1/150\n",
            "\u001b[1m700/700\u001b[0m \u001b[32m━━━━━━━━━━━━━━━━━━━━\u001b[0m\u001b[37m\u001b[0m \u001b[1m0s\u001b[0m 11ms/step - loss: 1.4667 - mae: 0.7278 - mse: 1.4667\n",
            "Epoch 1: val_loss improved from inf to 0.03595, saving model to best_model.h5\n"
          ]
        },
        {
          "output_type": "stream",
          "name": "stderr",
          "text": [
            "WARNING:absl:You are saving your model as an HDF5 file via `model.save()` or `keras.saving.save_model(model)`. This file format is considered legacy. We recommend using instead the native Keras format, e.g. `model.save('my_model.keras')` or `keras.saving.save_model(model, 'my_model.keras')`. \n"
          ]
        },
        {
          "output_type": "stream",
          "name": "stdout",
          "text": [
            "\b\b\b\b\b\b\b\b\b\b\b\b\b\b\b\b\b\b\b\b\b\b\b\b\b\b\b\b\b\b\b\b\b\b\b\b\b\b\b\b\b\b\b\b\b\b\b\b\b\b\b\b\b\b\b\b\b\b\b\b\b\b\b\b\b\b\b\b\b\b\b\b\b\b\b\b\b\b\b\b\b\b\b\b\r\u001b[1m700/700\u001b[0m \u001b[32m━━━━━━━━━━━━━━━━━━━━\u001b[0m\u001b[37m\u001b[0m \u001b[1m22s\u001b[0m 16ms/step - loss: 1.4674 - mae: 0.7275 - mse: 1.4674 - val_loss: 0.0359 - val_mae: 0.1315 - val_mse: 0.0359 - learning_rate: 0.0010\n",
            "Epoch 2/150\n",
            "\u001b[1m692/700\u001b[0m \u001b[32m━━━━━━━━━━━━━━━━━━━\u001b[0m\u001b[37m━\u001b[0m \u001b[1m0s\u001b[0m 5ms/step - loss: 0.3596 - mae: 0.2630 - mse: 0.3596\n",
            "Epoch 2: val_loss improved from 0.03595 to 0.02369, saving model to best_model.h5\n"
          ]
        },
        {
          "output_type": "stream",
          "name": "stderr",
          "text": [
            "WARNING:absl:You are saving your model as an HDF5 file via `model.save()` or `keras.saving.save_model(model)`. This file format is considered legacy. We recommend using instead the native Keras format, e.g. `model.save('my_model.keras')` or `keras.saving.save_model(model, 'my_model.keras')`. \n"
          ]
        },
        {
          "output_type": "stream",
          "name": "stdout",
          "text": [
            "\b\b\b\b\b\b\b\b\b\b\b\b\b\b\b\b\b\b\b\b\b\b\b\b\b\b\b\b\b\b\b\b\b\b\b\b\b\b\b\b\b\b\b\b\b\b\b\b\b\b\b\b\b\b\b\b\b\b\b\b\b\b\b\b\b\b\b\b\b\b\b\b\b\b\b\b\b\b\b\b\b\b\b\r\u001b[1m700/700\u001b[0m \u001b[32m━━━━━━━━━━━━━━━━━━━━\u001b[0m\u001b[37m\u001b[0m \u001b[1m4s\u001b[0m 6ms/step - loss: 0.3723 - mae: 0.2626 - mse: 0.3723 - val_loss: 0.0237 - val_mae: 0.1094 - val_mse: 0.0237 - learning_rate: 0.0010\n",
            "Epoch 3/150\n",
            "\u001b[1m697/700\u001b[0m \u001b[32m━━━━━━━━━━━━━━━━━━━\u001b[0m\u001b[37m━\u001b[0m \u001b[1m0s\u001b[0m 4ms/step - loss: 2.6117 - mae: 0.1792 - mse: 2.6117\n",
            "Epoch 3: val_loss improved from 0.02369 to 0.02062, saving model to best_model.h5\n"
          ]
        },
        {
          "output_type": "stream",
          "name": "stderr",
          "text": [
            "WARNING:absl:You are saving your model as an HDF5 file via `model.save()` or `keras.saving.save_model(model)`. This file format is considered legacy. We recommend using instead the native Keras format, e.g. `model.save('my_model.keras')` or `keras.saving.save_model(model, 'my_model.keras')`. \n"
          ]
        },
        {
          "output_type": "stream",
          "name": "stdout",
          "text": [
            "\b\b\b\b\b\b\b\b\b\b\b\b\b\b\b\b\b\b\b\b\b\b\b\b\b\b\b\b\b\b\b\b\b\b\b\b\b\b\b\b\b\b\b\b\b\b\b\b\b\b\b\b\b\b\b\b\b\b\b\b\b\b\b\b\b\b\b\b\b\b\b\b\b\b\b\b\b\b\b\b\b\b\b\r\u001b[1m700/700\u001b[0m \u001b[32m━━━━━━━━━━━━━━━━━━━━\u001b[0m\u001b[37m\u001b[0m \u001b[1m4s\u001b[0m 5ms/step - loss: 2.6041 - mae: 0.1791 - mse: 2.6041 - val_loss: 0.0206 - val_mae: 0.1027 - val_mse: 0.0206 - learning_rate: 0.0010\n",
            "Epoch 4/150\n",
            "\u001b[1m699/700\u001b[0m \u001b[32m━━━━━━━━━━━━━━━━━━━\u001b[0m\u001b[37m━\u001b[0m \u001b[1m0s\u001b[0m 5ms/step - loss: 1.8437 - mae: 0.1455 - mse: 1.8437\n",
            "Epoch 4: val_loss improved from 0.02062 to 0.01995, saving model to best_model.h5\n"
          ]
        },
        {
          "output_type": "stream",
          "name": "stderr",
          "text": [
            "WARNING:absl:You are saving your model as an HDF5 file via `model.save()` or `keras.saving.save_model(model)`. This file format is considered legacy. We recommend using instead the native Keras format, e.g. `model.save('my_model.keras')` or `keras.saving.save_model(model, 'my_model.keras')`. \n"
          ]
        },
        {
          "output_type": "stream",
          "name": "stdout",
          "text": [
            "\b\b\b\b\b\b\b\b\b\b\b\b\b\b\b\b\b\b\b\b\b\b\b\b\b\b\b\b\b\b\b\b\b\b\b\b\b\b\b\b\b\b\b\b\b\b\b\b\b\b\b\b\b\b\b\b\b\b\b\b\b\b\b\b\b\b\b\b\b\b\b\b\b\b\b\b\b\b\b\b\b\b\b\r\u001b[1m700/700\u001b[0m \u001b[32m━━━━━━━━━━━━━━━━━━━━\u001b[0m\u001b[37m\u001b[0m \u001b[1m6s\u001b[0m 7ms/step - loss: 1.8420 - mae: 0.1455 - mse: 1.8420 - val_loss: 0.0200 - val_mae: 0.1008 - val_mse: 0.0200 - learning_rate: 0.0010\n",
            "Epoch 5/150\n",
            "\u001b[1m694/700\u001b[0m \u001b[32m━━━━━━━━━━━━━━━━━━━\u001b[0m\u001b[37m━\u001b[0m \u001b[1m0s\u001b[0m 4ms/step - loss: 0.6128 - mae: 0.1192 - mse: 0.6128\n",
            "Epoch 5: val_loss improved from 0.01995 to 0.01867, saving model to best_model.h5\n"
          ]
        },
        {
          "output_type": "stream",
          "name": "stderr",
          "text": [
            "WARNING:absl:You are saving your model as an HDF5 file via `model.save()` or `keras.saving.save_model(model)`. This file format is considered legacy. We recommend using instead the native Keras format, e.g. `model.save('my_model.keras')` or `keras.saving.save_model(model, 'my_model.keras')`. \n"
          ]
        },
        {
          "output_type": "stream",
          "name": "stdout",
          "text": [
            "\b\b\b\b\b\b\b\b\b\b\b\b\b\b\b\b\b\b\b\b\b\b\b\b\b\b\b\b\b\b\b\b\b\b\b\b\b\b\b\b\b\b\b\b\b\b\b\b\b\b\b\b\b\b\b\b\b\b\b\b\b\b\b\b\b\b\b\b\b\b\b\b\b\b\b\b\b\b\b\b\b\b\b\r\u001b[1m700/700\u001b[0m \u001b[32m━━━━━━━━━━━━━━━━━━━━\u001b[0m\u001b[37m\u001b[0m \u001b[1m9s\u001b[0m 5ms/step - loss: 0.6192 - mae: 0.1192 - mse: 0.6192 - val_loss: 0.0187 - val_mae: 0.0984 - val_mse: 0.0187 - learning_rate: 0.0010\n",
            "Epoch 6/150\n",
            "\u001b[1m695/700\u001b[0m \u001b[32m━━━━━━━━━━━━━━━━━━━\u001b[0m\u001b[37m━\u001b[0m \u001b[1m0s\u001b[0m 6ms/step - loss: 0.1142 - mae: 0.1085 - mse: 0.1142\n",
            "Epoch 6: val_loss improved from 0.01867 to 0.01848, saving model to best_model.h5\n"
          ]
        },
        {
          "output_type": "stream",
          "name": "stderr",
          "text": [
            "WARNING:absl:You are saving your model as an HDF5 file via `model.save()` or `keras.saving.save_model(model)`. This file format is considered legacy. We recommend using instead the native Keras format, e.g. `model.save('my_model.keras')` or `keras.saving.save_model(model, 'my_model.keras')`. \n"
          ]
        },
        {
          "output_type": "stream",
          "name": "stdout",
          "text": [
            "\b\b\b\b\b\b\b\b\b\b\b\b\b\b\b\b\b\b\b\b\b\b\b\b\b\b\b\b\b\b\b\b\b\b\b\b\b\b\b\b\b\b\b\b\b\b\b\b\b\b\b\b\b\b\b\b\b\b\b\b\b\b\b\b\b\b\b\b\b\b\b\b\b\b\b\b\b\b\b\b\b\b\b\r\u001b[1m700/700\u001b[0m \u001b[32m━━━━━━━━━━━━━━━━━━━━\u001b[0m\u001b[37m\u001b[0m \u001b[1m5s\u001b[0m 7ms/step - loss: 0.1239 - mae: 0.1086 - mse: 0.1239 - val_loss: 0.0185 - val_mae: 0.0987 - val_mse: 0.0185 - learning_rate: 0.0010\n",
            "Epoch 7/150\n",
            "\u001b[1m700/700\u001b[0m \u001b[32m━━━━━━━━━━━━━━━━━━━━\u001b[0m\u001b[37m\u001b[0m \u001b[1m0s\u001b[0m 4ms/step - loss: 2.2775 - mae: 0.1208 - mse: 2.2775\n",
            "Epoch 7: val_loss improved from 0.01848 to 0.01843, saving model to best_model.h5\n"
          ]
        },
        {
          "output_type": "stream",
          "name": "stderr",
          "text": [
            "WARNING:absl:You are saving your model as an HDF5 file via `model.save()` or `keras.saving.save_model(model)`. This file format is considered legacy. We recommend using instead the native Keras format, e.g. `model.save('my_model.keras')` or `keras.saving.save_model(model, 'my_model.keras')`. \n"
          ]
        },
        {
          "output_type": "stream",
          "name": "stdout",
          "text": [
            "\b\b\b\b\b\b\b\b\b\b\b\b\b\b\b\b\b\b\b\b\b\b\b\b\b\b\b\b\b\b\b\b\b\b\b\b\b\b\b\b\b\b\b\b\b\b\b\b\b\b\b\b\b\b\b\b\b\b\b\b\b\b\b\b\b\b\b\b\b\b\b\b\b\b\b\b\b\b\b\b\b\b\b\r\u001b[1m700/700\u001b[0m \u001b[32m━━━━━━━━━━━━━━━━━━━━\u001b[0m\u001b[37m\u001b[0m \u001b[1m4s\u001b[0m 5ms/step - loss: 2.2760 - mae: 0.1208 - mse: 2.2760 - val_loss: 0.0184 - val_mae: 0.0975 - val_mse: 0.0184 - learning_rate: 0.0010\n",
            "Epoch 8/150\n",
            "\u001b[1m699/700\u001b[0m \u001b[32m━━━━━━━━━━━━━━━━━━━\u001b[0m\u001b[37m━\u001b[0m \u001b[1m0s\u001b[0m 5ms/step - loss: 1.8182 - mae: 0.1151 - mse: 1.8182\n",
            "Epoch 8: val_loss improved from 0.01843 to 0.01814, saving model to best_model.h5\n"
          ]
        },
        {
          "output_type": "stream",
          "name": "stderr",
          "text": [
            "WARNING:absl:You are saving your model as an HDF5 file via `model.save()` or `keras.saving.save_model(model)`. This file format is considered legacy. We recommend using instead the native Keras format, e.g. `model.save('my_model.keras')` or `keras.saving.save_model(model, 'my_model.keras')`. \n"
          ]
        },
        {
          "output_type": "stream",
          "name": "stdout",
          "text": [
            "\b\b\b\b\b\b\b\b\b\b\b\b\b\b\b\b\b\b\b\b\b\b\b\b\b\b\b\b\b\b\b\b\b\b\b\b\b\b\b\b\b\b\b\b\b\b\b\b\b\b\b\b\b\b\b\b\b\b\b\b\b\b\b\b\b\b\b\b\b\b\b\b\b\b\b\b\b\b\b\b\b\b\b\r\u001b[1m700/700\u001b[0m \u001b[32m━━━━━━━━━━━━━━━━━━━━\u001b[0m\u001b[37m\u001b[0m \u001b[1m6s\u001b[0m 6ms/step - loss: 1.8165 - mae: 0.1151 - mse: 1.8165 - val_loss: 0.0181 - val_mae: 0.0964 - val_mse: 0.0181 - learning_rate: 0.0010\n",
            "Epoch 9/150\n",
            "\u001b[1m695/700\u001b[0m \u001b[32m━━━━━━━━━━━━━━━━━━━\u001b[0m\u001b[37m━\u001b[0m \u001b[1m0s\u001b[0m 5ms/step - loss: 1.9362 - mae: 0.1172 - mse: 1.9362\n",
            "Epoch 9: val_loss improved from 0.01814 to 0.01775, saving model to best_model.h5\n"
          ]
        },
        {
          "output_type": "stream",
          "name": "stderr",
          "text": [
            "WARNING:absl:You are saving your model as an HDF5 file via `model.save()` or `keras.saving.save_model(model)`. This file format is considered legacy. We recommend using instead the native Keras format, e.g. `model.save('my_model.keras')` or `keras.saving.save_model(model, 'my_model.keras')`. \n"
          ]
        },
        {
          "output_type": "stream",
          "name": "stdout",
          "text": [
            "\b\b\b\b\b\b\b\b\b\b\b\b\b\b\b\b\b\b\b\b\b\b\b\b\b\b\b\b\b\b\b\b\b\b\b\b\b\b\b\b\b\b\b\b\b\b\b\b\b\b\b\b\b\b\b\b\b\b\b\b\b\b\b\b\b\b\b\b\b\b\b\b\b\b\b\b\b\b\b\b\b\b\b\r\u001b[1m700/700\u001b[0m \u001b[32m━━━━━━━━━━━━━━━━━━━━\u001b[0m\u001b[37m\u001b[0m \u001b[1m4s\u001b[0m 6ms/step - loss: 1.9302 - mae: 0.1172 - mse: 1.9302 - val_loss: 0.0178 - val_mae: 0.0951 - val_mse: 0.0178 - learning_rate: 0.0010\n",
            "Epoch 10/150\n",
            "\u001b[1m689/700\u001b[0m \u001b[32m━━━━━━━━━━━━━━━━━━━\u001b[0m\u001b[37m━\u001b[0m \u001b[1m0s\u001b[0m 4ms/step - loss: 0.1711 - mae: 0.0997 - mse: 0.1711\n",
            "Epoch 10: val_loss improved from 0.01775 to 0.01752, saving model to best_model.h5\n"
          ]
        },
        {
          "output_type": "stream",
          "name": "stderr",
          "text": [
            "WARNING:absl:You are saving your model as an HDF5 file via `model.save()` or `keras.saving.save_model(model)`. This file format is considered legacy. We recommend using instead the native Keras format, e.g. `model.save('my_model.keras')` or `keras.saving.save_model(model, 'my_model.keras')`. \n"
          ]
        },
        {
          "output_type": "stream",
          "name": "stdout",
          "text": [
            "\b\b\b\b\b\b\b\b\b\b\b\b\b\b\b\b\b\b\b\b\b\b\b\b\b\b\b\b\b\b\b\b\b\b\b\b\b\b\b\b\b\b\b\b\b\b\b\b\b\b\b\b\b\b\b\b\b\b\b\b\b\b\b\b\b\b\b\b\b\b\b\b\b\b\b\b\b\b\b\b\b\b\b\r\u001b[1m700/700\u001b[0m \u001b[32m━━━━━━━━━━━━━━━━━━━━\u001b[0m\u001b[37m\u001b[0m \u001b[1m4s\u001b[0m 5ms/step - loss: 0.1895 - mae: 0.0998 - mse: 0.1895 - val_loss: 0.0175 - val_mae: 0.0945 - val_mse: 0.0175 - learning_rate: 0.0010\n",
            "Epoch 11/150\n",
            "\u001b[1m697/700\u001b[0m \u001b[32m━━━━━━━━━━━━━━━━━━━\u001b[0m\u001b[37m━\u001b[0m \u001b[1m0s\u001b[0m 4ms/step - loss: 0.2124 - mae: 0.1021 - mse: 0.2124\n",
            "Epoch 11: val_loss improved from 0.01752 to 0.01687, saving model to best_model.h5\n"
          ]
        },
        {
          "output_type": "stream",
          "name": "stderr",
          "text": [
            "WARNING:absl:You are saving your model as an HDF5 file via `model.save()` or `keras.saving.save_model(model)`. This file format is considered legacy. We recommend using instead the native Keras format, e.g. `model.save('my_model.keras')` or `keras.saving.save_model(model, 'my_model.keras')`. \n"
          ]
        },
        {
          "output_type": "stream",
          "name": "stdout",
          "text": [
            "\b\b\b\b\b\b\b\b\b\b\b\b\b\b\b\b\b\b\b\b\b\b\b\b\b\b\b\b\b\b\b\b\b\b\b\b\b\b\b\b\b\b\b\b\b\b\b\b\b\b\b\b\b\b\b\b\b\b\b\b\b\b\b\b\b\b\b\b\b\b\b\b\b\b\b\b\b\b\b\b\b\b\b\r\u001b[1m700/700\u001b[0m \u001b[32m━━━━━━━━━━━━━━━━━━━━\u001b[0m\u001b[37m\u001b[0m \u001b[1m4s\u001b[0m 6ms/step - loss: 0.2183 - mae: 0.1021 - mse: 0.2183 - val_loss: 0.0169 - val_mae: 0.0932 - val_mse: 0.0169 - learning_rate: 0.0010\n",
            "Epoch 12/150\n",
            "\u001b[1m695/700\u001b[0m \u001b[32m━━━━━━━━━━━━━━━━━━━\u001b[0m\u001b[37m━\u001b[0m \u001b[1m0s\u001b[0m 5ms/step - loss: 1.0433 - mae: 0.1063 - mse: 1.0433\n",
            "Epoch 12: val_loss improved from 0.01687 to 0.01651, saving model to best_model.h5\n"
          ]
        },
        {
          "output_type": "stream",
          "name": "stderr",
          "text": [
            "WARNING:absl:You are saving your model as an HDF5 file via `model.save()` or `keras.saving.save_model(model)`. This file format is considered legacy. We recommend using instead the native Keras format, e.g. `model.save('my_model.keras')` or `keras.saving.save_model(model, 'my_model.keras')`. \n"
          ]
        },
        {
          "output_type": "stream",
          "name": "stdout",
          "text": [
            "\b\b\b\b\b\b\b\b\b\b\b\b\b\b\b\b\b\b\b\b\b\b\b\b\b\b\b\b\b\b\b\b\b\b\b\b\b\b\b\b\b\b\b\b\b\b\b\b\b\b\b\b\b\b\b\b\b\b\b\b\b\b\b\b\b\b\b\b\b\b\b\b\b\b\b\b\b\b\b\b\b\b\b\r\u001b[1m700/700\u001b[0m \u001b[32m━━━━━━━━━━━━━━━━━━━━\u001b[0m\u001b[37m\u001b[0m \u001b[1m4s\u001b[0m 6ms/step - loss: 1.0450 - mae: 0.1063 - mse: 1.0450 - val_loss: 0.0165 - val_mae: 0.0928 - val_mse: 0.0165 - learning_rate: 0.0010\n",
            "Epoch 13/150\n",
            "\u001b[1m693/700\u001b[0m \u001b[32m━━━━━━━━━━━━━━━━━━━\u001b[0m\u001b[37m━\u001b[0m \u001b[1m0s\u001b[0m 4ms/step - loss: 2.4606 - mae: 0.1177 - mse: 2.4606\n",
            "Epoch 13: val_loss did not improve from 0.01651\n",
            "\u001b[1m700/700\u001b[0m \u001b[32m━━━━━━━━━━━━━━━━━━━━\u001b[0m\u001b[37m\u001b[0m \u001b[1m5s\u001b[0m 5ms/step - loss: 2.4467 - mae: 0.1176 - mse: 2.4467 - val_loss: 0.0165 - val_mae: 0.0931 - val_mse: 0.0165 - learning_rate: 0.0010\n",
            "Epoch 14/150\n",
            "\u001b[1m692/700\u001b[0m \u001b[32m━━━━━━━━━━━━━━━━━━━\u001b[0m\u001b[37m━\u001b[0m \u001b[1m0s\u001b[0m 6ms/step - loss: 1.0061 - mae: 0.1030 - mse: 1.0061\n",
            "Epoch 14: val_loss improved from 0.01651 to 0.01639, saving model to best_model.h5\n"
          ]
        },
        {
          "output_type": "stream",
          "name": "stderr",
          "text": [
            "WARNING:absl:You are saving your model as an HDF5 file via `model.save()` or `keras.saving.save_model(model)`. This file format is considered legacy. We recommend using instead the native Keras format, e.g. `model.save('my_model.keras')` or `keras.saving.save_model(model, 'my_model.keras')`. \n"
          ]
        },
        {
          "output_type": "stream",
          "name": "stdout",
          "text": [
            "\b\b\b\b\b\b\b\b\b\b\b\b\b\b\b\b\b\b\b\b\b\b\b\b\b\b\b\b\b\b\b\b\b\b\b\b\b\b\b\b\b\b\b\b\b\b\b\b\b\b\b\b\b\b\b\b\b\b\b\b\b\b\b\b\b\b\b\b\b\b\b\b\b\b\b\b\b\b\b\b\b\b\b\r\u001b[1m700/700\u001b[0m \u001b[32m━━━━━━━━━━━━━━━━━━━━\u001b[0m\u001b[37m\u001b[0m \u001b[1m6s\u001b[0m 7ms/step - loss: 1.0091 - mae: 0.1031 - mse: 1.0091 - val_loss: 0.0164 - val_mae: 0.0929 - val_mse: 0.0164 - learning_rate: 0.0010\n",
            "Epoch 15/150\n",
            "\u001b[1m695/700\u001b[0m \u001b[32m━━━━━━━━━━━━━━━━━━━\u001b[0m\u001b[37m━\u001b[0m \u001b[1m0s\u001b[0m 4ms/step - loss: 0.0464 - mae: 0.0943 - mse: 0.0464\n",
            "Epoch 15: val_loss improved from 0.01639 to 0.01523, saving model to best_model.h5\n"
          ]
        },
        {
          "output_type": "stream",
          "name": "stderr",
          "text": [
            "WARNING:absl:You are saving your model as an HDF5 file via `model.save()` or `keras.saving.save_model(model)`. This file format is considered legacy. We recommend using instead the native Keras format, e.g. `model.save('my_model.keras')` or `keras.saving.save_model(model, 'my_model.keras')`. \n"
          ]
        },
        {
          "output_type": "stream",
          "name": "stdout",
          "text": [
            "\b\b\b\b\b\b\b\b\b\b\b\b\b\b\b\b\b\b\b\b\b\b\b\b\b\b\b\b\b\b\b\b\b\b\b\b\b\b\b\b\b\b\b\b\b\b\b\b\b\b\b\b\b\b\b\b\b\b\b\b\b\b\b\b\b\b\b\b\b\b\b\b\b\b\b\b\b\b\b\b\b\b\b\r\u001b[1m700/700\u001b[0m \u001b[32m━━━━━━━━━━━━━━━━━━━━\u001b[0m\u001b[37m\u001b[0m \u001b[1m4s\u001b[0m 5ms/step - loss: 0.0566 - mae: 0.0943 - mse: 0.0566 - val_loss: 0.0152 - val_mae: 0.0898 - val_mse: 0.0152 - learning_rate: 0.0010\n",
            "Epoch 16/150\n",
            "\u001b[1m697/700\u001b[0m \u001b[32m━━━━━━━━━━━━━━━━━━━\u001b[0m\u001b[37m━\u001b[0m \u001b[1m0s\u001b[0m 4ms/step - loss: 0.0182 - mae: 0.0959 - mse: 0.0182\n",
            "Epoch 16: val_loss improved from 0.01523 to 0.01466, saving model to best_model.h5\n"
          ]
        },
        {
          "output_type": "stream",
          "name": "stderr",
          "text": [
            "WARNING:absl:You are saving your model as an HDF5 file via `model.save()` or `keras.saving.save_model(model)`. This file format is considered legacy. We recommend using instead the native Keras format, e.g. `model.save('my_model.keras')` or `keras.saving.save_model(model, 'my_model.keras')`. \n"
          ]
        },
        {
          "output_type": "stream",
          "name": "stdout",
          "text": [
            "\b\b\b\b\b\b\b\b\b\b\b\b\b\b\b\b\b\b\b\b\b\b\b\b\b\b\b\b\b\b\b\b\b\b\b\b\b\b\b\b\b\b\b\b\b\b\b\b\b\b\b\b\b\b\b\b\b\b\b\b\b\b\b\b\b\b\b\b\b\b\b\b\b\b\b\b\b\b\b\b\b\b\b\r\u001b[1m700/700\u001b[0m \u001b[32m━━━━━━━━━━━━━━━━━━━━\u001b[0m\u001b[37m\u001b[0m \u001b[1m4s\u001b[0m 5ms/step - loss: 0.0251 - mae: 0.0959 - mse: 0.0251 - val_loss: 0.0147 - val_mae: 0.0880 - val_mse: 0.0147 - learning_rate: 0.0010\n",
            "Epoch 17/150\n",
            "\u001b[1m691/700\u001b[0m \u001b[32m━━━━━━━━━━━━━━━━━━━\u001b[0m\u001b[37m━\u001b[0m \u001b[1m0s\u001b[0m 6ms/step - loss: 0.8443 - mae: 0.1063 - mse: 0.8443\n",
            "Epoch 17: val_loss did not improve from 0.01466\n",
            "\u001b[1m700/700\u001b[0m \u001b[32m━━━━━━━━━━━━━━━━━━━━\u001b[0m\u001b[37m\u001b[0m \u001b[1m6s\u001b[0m 7ms/step - loss: 0.8500 - mae: 0.1063 - mse: 0.8500 - val_loss: 0.0156 - val_mae: 0.0899 - val_mse: 0.0156 - learning_rate: 0.0010\n",
            "Epoch 18/150\n",
            "\u001b[1m690/700\u001b[0m \u001b[32m━━━━━━━━━━━━━━━━━━━\u001b[0m\u001b[37m━\u001b[0m \u001b[1m0s\u001b[0m 4ms/step - loss: 1.9618 - mae: 0.1115 - mse: 1.9618\n",
            "Epoch 18: val_loss did not improve from 0.01466\n",
            "\u001b[1m700/700\u001b[0m \u001b[32m━━━━━━━━━━━━━━━━━━━━\u001b[0m\u001b[37m\u001b[0m \u001b[1m4s\u001b[0m 5ms/step - loss: 1.9504 - mae: 0.1114 - mse: 1.9504 - val_loss: 0.0153 - val_mae: 0.0895 - val_mse: 0.0153 - learning_rate: 0.0010\n",
            "Epoch 19/150\n",
            "\u001b[1m693/700\u001b[0m \u001b[32m━━━━━━━━━━━━━━━━━━━\u001b[0m\u001b[37m━\u001b[0m \u001b[1m0s\u001b[0m 5ms/step - loss: 7.5658 - mae: 0.1443 - mse: 7.5658\n",
            "Epoch 19: val_loss did not improve from 0.01466\n",
            "\u001b[1m700/700\u001b[0m \u001b[32m━━━━━━━━━━━━━━━━━━━━\u001b[0m\u001b[37m\u001b[0m \u001b[1m5s\u001b[0m 6ms/step - loss: 7.4937 - mae: 0.1438 - mse: 7.4937 - val_loss: 0.0148 - val_mae: 0.0872 - val_mse: 0.0148 - learning_rate: 0.0010\n",
            "Epoch 20/150\n",
            "\u001b[1m699/700\u001b[0m \u001b[32m━━━━━━━━━━━━━━━━━━━\u001b[0m\u001b[37m━\u001b[0m \u001b[1m0s\u001b[0m 4ms/step - loss: 4.9434 - mae: 0.1246 - mse: 4.9434\n",
            "Epoch 20: val_loss did not improve from 0.01466\n",
            "\u001b[1m700/700\u001b[0m \u001b[32m━━━━━━━━━━━━━━━━━━━━\u001b[0m\u001b[37m\u001b[0m \u001b[1m5s\u001b[0m 5ms/step - loss: 4.9328 - mae: 0.1246 - mse: 4.9328 - val_loss: 0.0148 - val_mae: 0.0869 - val_mse: 0.0148 - learning_rate: 0.0010\n",
            "Epoch 21/150\n",
            "\u001b[1m692/700\u001b[0m \u001b[32m━━━━━━━━━━━━━━━━━━━\u001b[0m\u001b[37m━\u001b[0m \u001b[1m0s\u001b[0m 4ms/step - loss: 0.3448 - mae: 0.0901 - mse: 0.3448\n",
            "Epoch 21: val_loss improved from 0.01466 to 0.01440, saving model to best_model.h5\n"
          ]
        },
        {
          "output_type": "stream",
          "name": "stderr",
          "text": [
            "WARNING:absl:You are saving your model as an HDF5 file via `model.save()` or `keras.saving.save_model(model)`. This file format is considered legacy. We recommend using instead the native Keras format, e.g. `model.save('my_model.keras')` or `keras.saving.save_model(model, 'my_model.keras')`. \n"
          ]
        },
        {
          "output_type": "stream",
          "name": "stdout",
          "text": [
            "\b\b\b\b\b\b\b\b\b\b\b\b\b\b\b\b\b\b\b\b\b\b\b\b\b\b\b\b\b\b\b\b\b\b\b\b\b\b\b\b\b\b\b\b\b\b\b\b\b\b\b\b\b\b\b\b\b\b\b\b\b\b\b\b\b\b\b\b\b\b\b\b\b\b\b\b\b\b\b\b\b\b\b\r\u001b[1m700/700\u001b[0m \u001b[32m━━━━━━━━━━━━━━━━━━━━\u001b[0m\u001b[37m\u001b[0m \u001b[1m4s\u001b[0m 5ms/step - loss: 0.3563 - mae: 0.0902 - mse: 0.3563 - val_loss: 0.0144 - val_mae: 0.0842 - val_mse: 0.0144 - learning_rate: 0.0010\n",
            "Epoch 22/150\n",
            "\u001b[1m699/700\u001b[0m \u001b[32m━━━━━━━━━━━━━━━━━━━\u001b[0m\u001b[37m━\u001b[0m \u001b[1m0s\u001b[0m 6ms/step - loss: 1.4444 - mae: 0.1024 - mse: 1.4444\n",
            "Epoch 22: val_loss did not improve from 0.01440\n",
            "\u001b[1m700/700\u001b[0m \u001b[32m━━━━━━━━━━━━━━━━━━━━\u001b[0m\u001b[37m\u001b[0m \u001b[1m6s\u001b[0m 7ms/step - loss: 1.4438 - mae: 0.1024 - mse: 1.4438 - val_loss: 0.0145 - val_mae: 0.0854 - val_mse: 0.0145 - learning_rate: 0.0010\n",
            "Epoch 23/150\n",
            "\u001b[1m699/700\u001b[0m \u001b[32m━━━━━━━━━━━━━━━━━━━\u001b[0m\u001b[37m━\u001b[0m \u001b[1m0s\u001b[0m 4ms/step - loss: 0.4776 - mae: 0.0917 - mse: 0.4776\n",
            "Epoch 23: val_loss improved from 0.01440 to 0.01372, saving model to best_model.h5\n"
          ]
        },
        {
          "output_type": "stream",
          "name": "stderr",
          "text": [
            "WARNING:absl:You are saving your model as an HDF5 file via `model.save()` or `keras.saving.save_model(model)`. This file format is considered legacy. We recommend using instead the native Keras format, e.g. `model.save('my_model.keras')` or `keras.saving.save_model(model, 'my_model.keras')`. \n"
          ]
        },
        {
          "output_type": "stream",
          "name": "stdout",
          "text": [
            "\b\b\b\b\b\b\b\b\b\b\b\b\b\b\b\b\b\b\b\b\b\b\b\b\b\b\b\b\b\b\b\b\b\b\b\b\b\b\b\b\b\b\b\b\b\b\b\b\b\b\b\b\b\b\b\b\b\b\b\b\b\b\b\b\b\b\b\b\b\b\b\b\b\b\b\b\b\b\b\b\b\b\b\r\u001b[1m700/700\u001b[0m \u001b[32m━━━━━━━━━━━━━━━━━━━━\u001b[0m\u001b[37m\u001b[0m \u001b[1m4s\u001b[0m 5ms/step - loss: 0.4798 - mae: 0.0918 - mse: 0.4798 - val_loss: 0.0137 - val_mae: 0.0826 - val_mse: 0.0137 - learning_rate: 0.0010\n",
            "Epoch 24/150\n",
            "\u001b[1m696/700\u001b[0m \u001b[32m━━━━━━━━━━━━━━━━━━━\u001b[0m\u001b[37m━\u001b[0m \u001b[1m0s\u001b[0m 4ms/step - loss: 1.7632 - mae: 0.0989 - mse: 1.7632\n",
            "Epoch 24: val_loss improved from 0.01372 to 0.01341, saving model to best_model.h5\n"
          ]
        },
        {
          "output_type": "stream",
          "name": "stderr",
          "text": [
            "WARNING:absl:You are saving your model as an HDF5 file via `model.save()` or `keras.saving.save_model(model)`. This file format is considered legacy. We recommend using instead the native Keras format, e.g. `model.save('my_model.keras')` or `keras.saving.save_model(model, 'my_model.keras')`. \n"
          ]
        },
        {
          "output_type": "stream",
          "name": "stdout",
          "text": [
            "\b\b\b\b\b\b\b\b\b\b\b\b\b\b\b\b\b\b\b\b\b\b\b\b\b\b\b\b\b\b\b\b\b\b\b\b\b\b\b\b\b\b\b\b\b\b\b\b\b\b\b\b\b\b\b\b\b\b\b\b\b\b\b\b\b\b\b\b\b\b\b\b\b\b\b\b\b\b\b\b\b\b\b\r\u001b[1m700/700\u001b[0m \u001b[32m━━━━━━━━━━━━━━━━━━━━\u001b[0m\u001b[37m\u001b[0m \u001b[1m6s\u001b[0m 6ms/step - loss: 1.7594 - mae: 0.0989 - mse: 1.7594 - val_loss: 0.0134 - val_mae: 0.0803 - val_mse: 0.0134 - learning_rate: 0.0010\n",
            "Epoch 25/150\n",
            "\u001b[1m689/700\u001b[0m \u001b[32m━━━━━━━━━━━━━━━━━━━\u001b[0m\u001b[37m━\u001b[0m \u001b[1m0s\u001b[0m 5ms/step - loss: 2.0801 - mae: 0.1000 - mse: 2.0801\n",
            "Epoch 25: val_loss did not improve from 0.01341\n",
            "\u001b[1m700/700\u001b[0m \u001b[32m━━━━━━━━━━━━━━━━━━━━\u001b[0m\u001b[37m\u001b[0m \u001b[1m4s\u001b[0m 5ms/step - loss: 2.0658 - mae: 0.0999 - mse: 2.0658 - val_loss: 0.0137 - val_mae: 0.0804 - val_mse: 0.0137 - learning_rate: 0.0010\n",
            "Epoch 26/150\n",
            "\u001b[1m691/700\u001b[0m \u001b[32m━━━━━━━━━━━━━━━━━━━\u001b[0m\u001b[37m━\u001b[0m \u001b[1m0s\u001b[0m 4ms/step - loss: 0.7814 - mae: 0.0867 - mse: 0.7814\n",
            "Epoch 26: val_loss improved from 0.01341 to 0.01304, saving model to best_model.h5\n"
          ]
        },
        {
          "output_type": "stream",
          "name": "stderr",
          "text": [
            "WARNING:absl:You are saving your model as an HDF5 file via `model.save()` or `keras.saving.save_model(model)`. This file format is considered legacy. We recommend using instead the native Keras format, e.g. `model.save('my_model.keras')` or `keras.saving.save_model(model, 'my_model.keras')`. \n"
          ]
        },
        {
          "output_type": "stream",
          "name": "stdout",
          "text": [
            "\b\b\b\b\b\b\b\b\b\b\b\b\b\b\b\b\b\b\b\b\b\b\b\b\b\b\b\b\b\b\b\b\b\b\b\b\b\b\b\b\b\b\b\b\b\b\b\b\b\b\b\b\b\b\b\b\b\b\b\b\b\b\b\b\b\b\b\b\b\b\b\b\b\b\b\b\b\b\b\b\b\b\b\r\u001b[1m700/700\u001b[0m \u001b[32m━━━━━━━━━━━━━━━━━━━━\u001b[0m\u001b[37m\u001b[0m \u001b[1m4s\u001b[0m 5ms/step - loss: 0.7879 - mae: 0.0868 - mse: 0.7879 - val_loss: 0.0130 - val_mae: 0.0778 - val_mse: 0.0130 - learning_rate: 0.0010\n",
            "Epoch 27/150\n",
            "\u001b[1m693/700\u001b[0m \u001b[32m━━━━━━━━━━━━━━━━━━━\u001b[0m\u001b[37m━\u001b[0m \u001b[1m0s\u001b[0m 6ms/step - loss: 0.3118 - mae: 0.0833 - mse: 0.3118\n",
            "Epoch 27: val_loss improved from 0.01304 to 0.01255, saving model to best_model.h5\n"
          ]
        },
        {
          "output_type": "stream",
          "name": "stderr",
          "text": [
            "WARNING:absl:You are saving your model as an HDF5 file via `model.save()` or `keras.saving.save_model(model)`. This file format is considered legacy. We recommend using instead the native Keras format, e.g. `model.save('my_model.keras')` or `keras.saving.save_model(model, 'my_model.keras')`. \n"
          ]
        },
        {
          "output_type": "stream",
          "name": "stdout",
          "text": [
            "\b\b\b\b\b\b\b\b\b\b\b\b\b\b\b\b\b\b\b\b\b\b\b\b\b\b\b\b\b\b\b\b\b\b\b\b\b\b\b\b\b\b\b\b\b\b\b\b\b\b\b\b\b\b\b\b\b\b\b\b\b\b\b\b\b\b\b\b\b\b\b\b\b\b\b\b\b\b\b\b\b\b\b\r\u001b[1m700/700\u001b[0m \u001b[32m━━━━━━━━━━━━━━━━━━━━\u001b[0m\u001b[37m\u001b[0m \u001b[1m6s\u001b[0m 7ms/step - loss: 0.3223 - mae: 0.0834 - mse: 0.3223 - val_loss: 0.0126 - val_mae: 0.0746 - val_mse: 0.0126 - learning_rate: 0.0010\n",
            "Epoch 28/150\n",
            "\u001b[1m692/700\u001b[0m \u001b[32m━━━━━━━━━━━━━━━━━━━\u001b[0m\u001b[37m━\u001b[0m \u001b[1m0s\u001b[0m 4ms/step - loss: 0.3998 - mae: 0.0858 - mse: 0.3998\n",
            "Epoch 28: val_loss improved from 0.01255 to 0.01239, saving model to best_model.h5\n"
          ]
        },
        {
          "output_type": "stream",
          "name": "stderr",
          "text": [
            "WARNING:absl:You are saving your model as an HDF5 file via `model.save()` or `keras.saving.save_model(model)`. This file format is considered legacy. We recommend using instead the native Keras format, e.g. `model.save('my_model.keras')` or `keras.saving.save_model(model, 'my_model.keras')`. \n"
          ]
        },
        {
          "output_type": "stream",
          "name": "stdout",
          "text": [
            "\b\b\b\b\b\b\b\b\b\b\b\b\b\b\b\b\b\b\b\b\b\b\b\b\b\b\b\b\b\b\b\b\b\b\b\b\b\b\b\b\b\b\b\b\b\b\b\b\b\b\b\b\b\b\b\b\b\b\b\b\b\b\b\b\b\b\b\b\b\b\b\b\b\b\b\b\b\b\b\b\b\b\b\r\u001b[1m700/700\u001b[0m \u001b[32m━━━━━━━━━━━━━━━━━━━━\u001b[0m\u001b[37m\u001b[0m \u001b[1m4s\u001b[0m 5ms/step - loss: 0.4105 - mae: 0.0858 - mse: 0.4105 - val_loss: 0.0124 - val_mae: 0.0741 - val_mse: 0.0124 - learning_rate: 0.0010\n",
            "Epoch 29/150\n",
            "\u001b[1m692/700\u001b[0m \u001b[32m━━━━━━━━━━━━━━━━━━━\u001b[0m\u001b[37m━\u001b[0m \u001b[1m0s\u001b[0m 4ms/step - loss: 0.1113 - mae: 0.0817 - mse: 0.1113\n",
            "Epoch 29: val_loss improved from 0.01239 to 0.01195, saving model to best_model.h5\n"
          ]
        },
        {
          "output_type": "stream",
          "name": "stderr",
          "text": [
            "WARNING:absl:You are saving your model as an HDF5 file via `model.save()` or `keras.saving.save_model(model)`. This file format is considered legacy. We recommend using instead the native Keras format, e.g. `model.save('my_model.keras')` or `keras.saving.save_model(model, 'my_model.keras')`. \n"
          ]
        },
        {
          "output_type": "stream",
          "name": "stdout",
          "text": [
            "\b\b\b\b\b\b\b\b\b\b\b\b\b\b\b\b\b\b\b\b\b\b\b\b\b\b\b\b\b\b\b\b\b\b\b\b\b\b\b\b\b\b\b\b\b\b\b\b\b\b\b\b\b\b\b\b\b\b\b\b\b\b\b\b\b\b\b\b\b\b\b\b\b\b\b\b\b\b\b\b\b\b\b\r\u001b[1m700/700\u001b[0m \u001b[32m━━━━━━━━━━━━━━━━━━━━\u001b[0m\u001b[37m\u001b[0m \u001b[1m5s\u001b[0m 5ms/step - loss: 0.1257 - mae: 0.0818 - mse: 0.1257 - val_loss: 0.0119 - val_mae: 0.0697 - val_mse: 0.0119 - learning_rate: 0.0010\n",
            "Epoch 30/150\n",
            "\u001b[1m694/700\u001b[0m \u001b[32m━━━━━━━━━━━━━━━━━━━\u001b[0m\u001b[37m━\u001b[0m \u001b[1m0s\u001b[0m 5ms/step - loss: 2.1517 - mae: 0.0987 - mse: 2.1517\n",
            "Epoch 30: val_loss did not improve from 0.01195\n",
            "\u001b[1m700/700\u001b[0m \u001b[32m━━━━━━━━━━━━━━━━━━━━\u001b[0m\u001b[37m\u001b[0m \u001b[1m4s\u001b[0m 6ms/step - loss: 2.1426 - mae: 0.0987 - mse: 2.1426 - val_loss: 0.0124 - val_mae: 0.0746 - val_mse: 0.0124 - learning_rate: 0.0010\n",
            "Epoch 31/150\n",
            "\u001b[1m700/700\u001b[0m \u001b[32m━━━━━━━━━━━━━━━━━━━━\u001b[0m\u001b[37m\u001b[0m \u001b[1m0s\u001b[0m 4ms/step - loss: 0.9301 - mae: 0.0874 - mse: 0.9301\n",
            "Epoch 31: val_loss did not improve from 0.01195\n",
            "\u001b[1m700/700\u001b[0m \u001b[32m━━━━━━━━━━━━━━━━━━━━\u001b[0m\u001b[37m\u001b[0m \u001b[1m4s\u001b[0m 5ms/step - loss: 0.9305 - mae: 0.0874 - mse: 0.9305 - val_loss: 0.0124 - val_mae: 0.0746 - val_mse: 0.0124 - learning_rate: 0.0010\n",
            "Epoch 32/150\n",
            "\u001b[1m696/700\u001b[0m \u001b[32m━━━━━━━━━━━━━━━━━━━\u001b[0m\u001b[37m━\u001b[0m \u001b[1m0s\u001b[0m 5ms/step - loss: 1.3191 - mae: 0.0869 - mse: 1.3191\n",
            "Epoch 32: val_loss improved from 0.01195 to 0.01190, saving model to best_model.h5\n"
          ]
        },
        {
          "output_type": "stream",
          "name": "stderr",
          "text": [
            "WARNING:absl:You are saving your model as an HDF5 file via `model.save()` or `keras.saving.save_model(model)`. This file format is considered legacy. We recommend using instead the native Keras format, e.g. `model.save('my_model.keras')` or `keras.saving.save_model(model, 'my_model.keras')`. \n"
          ]
        },
        {
          "output_type": "stream",
          "name": "stdout",
          "text": [
            "\b\b\b\b\b\b\b\b\b\b\b\b\b\b\b\b\b\b\b\b\b\b\b\b\b\b\b\b\b\b\b\b\b\b\b\b\b\b\b\b\b\b\b\b\b\b\b\b\b\b\b\b\b\b\b\b\b\b\b\b\b\b\b\b\b\b\b\b\b\b\b\b\b\b\b\b\b\b\b\b\b\b\b\r\u001b[1m700/700\u001b[0m \u001b[32m━━━━━━━━━━━━━━━━━━━━\u001b[0m\u001b[37m\u001b[0m \u001b[1m5s\u001b[0m 7ms/step - loss: 1.3186 - mae: 0.0869 - mse: 1.3186 - val_loss: 0.0119 - val_mae: 0.0728 - val_mse: 0.0119 - learning_rate: 0.0010\n",
            "Epoch 33/150\n",
            "\u001b[1m692/700\u001b[0m \u001b[32m━━━━━━━━━━━━━━━━━━━\u001b[0m\u001b[37m━\u001b[0m \u001b[1m0s\u001b[0m 5ms/step - loss: 0.4675 - mae: 0.0815 - mse: 0.4675\n",
            "Epoch 33: val_loss improved from 0.01190 to 0.01130, saving model to best_model.h5\n"
          ]
        },
        {
          "output_type": "stream",
          "name": "stderr",
          "text": [
            "WARNING:absl:You are saving your model as an HDF5 file via `model.save()` or `keras.saving.save_model(model)`. This file format is considered legacy. We recommend using instead the native Keras format, e.g. `model.save('my_model.keras')` or `keras.saving.save_model(model, 'my_model.keras')`. \n"
          ]
        },
        {
          "output_type": "stream",
          "name": "stdout",
          "text": [
            "\b\b\b\b\b\b\b\b\b\b\b\b\b\b\b\b\b\b\b\b\b\b\b\b\b\b\b\b\b\b\b\b\b\b\b\b\b\b\b\b\b\b\b\b\b\b\b\b\b\b\b\b\b\b\b\b\b\b\b\b\b\b\b\b\b\b\b\b\b\b\b\b\b\b\b\b\b\b\b\b\b\b\b\r\u001b[1m700/700\u001b[0m \u001b[32m━━━━━━━━━━━━━━━━━━━━\u001b[0m\u001b[37m\u001b[0m \u001b[1m4s\u001b[0m 6ms/step - loss: 0.4774 - mae: 0.0815 - mse: 0.4774 - val_loss: 0.0113 - val_mae: 0.0679 - val_mse: 0.0113 - learning_rate: 0.0010\n",
            "Epoch 34/150\n",
            "\u001b[1m699/700\u001b[0m \u001b[32m━━━━━━━━━━━━━━━━━━━\u001b[0m\u001b[37m━\u001b[0m \u001b[1m0s\u001b[0m 4ms/step - loss: 0.8134 - mae: 0.0829 - mse: 0.8134\n",
            "Epoch 34: val_loss did not improve from 0.01130\n",
            "\u001b[1m700/700\u001b[0m \u001b[32m━━━━━━━━━━━━━━━━━━━━\u001b[0m\u001b[37m\u001b[0m \u001b[1m5s\u001b[0m 5ms/step - loss: 0.8145 - mae: 0.0829 - mse: 0.8145 - val_loss: 0.0114 - val_mae: 0.0679 - val_mse: 0.0114 - learning_rate: 0.0010\n",
            "Epoch 35/150\n",
            "\u001b[1m691/700\u001b[0m \u001b[32m━━━━━━━━━━━━━━━━━━━\u001b[0m\u001b[37m━\u001b[0m \u001b[1m0s\u001b[0m 6ms/step - loss: 1.9652 - mae: 0.0924 - mse: 1.9652\n",
            "Epoch 35: val_loss did not improve from 0.01130\n",
            "\u001b[1m700/700\u001b[0m \u001b[32m━━━━━━━━━━━━━━━━━━━━\u001b[0m\u001b[37m\u001b[0m \u001b[1m6s\u001b[0m 7ms/step - loss: 1.9548 - mae: 0.0924 - mse: 1.9548 - val_loss: 0.0117 - val_mae: 0.0702 - val_mse: 0.0117 - learning_rate: 0.0010\n",
            "Epoch 36/150\n",
            "\u001b[1m697/700\u001b[0m \u001b[32m━━━━━━━━━━━━━━━━━━━\u001b[0m\u001b[37m━\u001b[0m \u001b[1m0s\u001b[0m 4ms/step - loss: 0.5183 - mae: 0.0814 - mse: 0.5183\n",
            "Epoch 36: val_loss did not improve from 0.01130\n",
            "\u001b[1m700/700\u001b[0m \u001b[32m━━━━━━━━━━━━━━━━━━━━\u001b[0m\u001b[37m\u001b[0m \u001b[1m4s\u001b[0m 5ms/step - loss: 0.5223 - mae: 0.0815 - mse: 0.5223 - val_loss: 0.0115 - val_mae: 0.0688 - val_mse: 0.0115 - learning_rate: 0.0010\n",
            "Epoch 37/150\n",
            "\u001b[1m696/700\u001b[0m \u001b[32m━━━━━━━━━━━━━━━━━━━\u001b[0m\u001b[37m━\u001b[0m \u001b[1m0s\u001b[0m 4ms/step - loss: 0.3159 - mae: 0.0815 - mse: 0.3159\n",
            "Epoch 37: val_loss improved from 0.01130 to 0.01091, saving model to best_model.h5\n"
          ]
        },
        {
          "output_type": "stream",
          "name": "stderr",
          "text": [
            "WARNING:absl:You are saving your model as an HDF5 file via `model.save()` or `keras.saving.save_model(model)`. This file format is considered legacy. We recommend using instead the native Keras format, e.g. `model.save('my_model.keras')` or `keras.saving.save_model(model, 'my_model.keras')`. \n"
          ]
        },
        {
          "output_type": "stream",
          "name": "stdout",
          "text": [
            "\b\b\b\b\b\b\b\b\b\b\b\b\b\b\b\b\b\b\b\b\b\b\b\b\b\b\b\b\b\b\b\b\b\b\b\b\b\b\b\b\b\b\b\b\b\b\b\b\b\b\b\b\b\b\b\b\b\b\b\b\b\b\b\b\b\b\b\b\b\b\b\b\b\b\b\b\b\b\b\b\b\b\b\r\u001b[1m700/700\u001b[0m \u001b[32m━━━━━━━━━━━━━━━━━━━━\u001b[0m\u001b[37m\u001b[0m \u001b[1m5s\u001b[0m 6ms/step - loss: 0.3224 - mae: 0.0816 - mse: 0.3224 - val_loss: 0.0109 - val_mae: 0.0672 - val_mse: 0.0109 - learning_rate: 0.0010\n",
            "Epoch 38/150\n",
            "\u001b[1m691/700\u001b[0m \u001b[32m━━━━━━━━━━━━━━━━━━━\u001b[0m\u001b[37m━\u001b[0m \u001b[1m0s\u001b[0m 5ms/step - loss: 0.4320 - mae: 0.0814 - mse: 0.4320\n",
            "Epoch 38: val_loss improved from 0.01091 to 0.01071, saving model to best_model.h5\n"
          ]
        },
        {
          "output_type": "stream",
          "name": "stderr",
          "text": [
            "WARNING:absl:You are saving your model as an HDF5 file via `model.save()` or `keras.saving.save_model(model)`. This file format is considered legacy. We recommend using instead the native Keras format, e.g. `model.save('my_model.keras')` or `keras.saving.save_model(model, 'my_model.keras')`. \n"
          ]
        },
        {
          "output_type": "stream",
          "name": "stdout",
          "text": [
            "\b\b\b\b\b\b\b\b\b\b\b\b\b\b\b\b\b\b\b\b\b\b\b\b\b\b\b\b\b\b\b\b\b\b\b\b\b\b\b\b\b\b\b\b\b\b\b\b\b\b\b\b\b\b\b\b\b\b\b\b\b\b\b\b\b\b\b\b\b\b\b\b\b\b\b\b\b\b\b\b\b\b\b\r\u001b[1m700/700\u001b[0m \u001b[32m━━━━━━━━━━━━━━━━━━━━\u001b[0m\u001b[37m\u001b[0m \u001b[1m5s\u001b[0m 6ms/step - loss: 0.4436 - mae: 0.0815 - mse: 0.4436 - val_loss: 0.0107 - val_mae: 0.0666 - val_mse: 0.0107 - learning_rate: 0.0010\n",
            "Epoch 39/150\n",
            "\u001b[1m689/700\u001b[0m \u001b[32m━━━━━━━━━━━━━━━━━━━\u001b[0m\u001b[37m━\u001b[0m \u001b[1m0s\u001b[0m 4ms/step - loss: 0.4540 - mae: 0.0794 - mse: 0.4540\n",
            "Epoch 39: val_loss improved from 0.01071 to 0.01065, saving model to best_model.h5\n"
          ]
        },
        {
          "output_type": "stream",
          "name": "stderr",
          "text": [
            "WARNING:absl:You are saving your model as an HDF5 file via `model.save()` or `keras.saving.save_model(model)`. This file format is considered legacy. We recommend using instead the native Keras format, e.g. `model.save('my_model.keras')` or `keras.saving.save_model(model, 'my_model.keras')`. \n"
          ]
        },
        {
          "output_type": "stream",
          "name": "stdout",
          "text": [
            "\b\b\b\b\b\b\b\b\b\b\b\b\b\b\b\b\b\b\b\b\b\b\b\b\b\b\b\b\b\b\b\b\b\b\b\b\b\b\b\b\b\b\b\b\b\b\b\b\b\b\b\b\b\b\b\b\b\b\b\b\b\b\b\b\b\b\b\b\b\b\b\b\b\b\b\b\b\b\b\b\b\b\b\r\u001b[1m700/700\u001b[0m \u001b[32m━━━━━━━━━━━━━━━━━━━━\u001b[0m\u001b[37m\u001b[0m \u001b[1m5s\u001b[0m 5ms/step - loss: 0.4675 - mae: 0.0795 - mse: 0.4675 - val_loss: 0.0106 - val_mae: 0.0650 - val_mse: 0.0106 - learning_rate: 0.0010\n",
            "Epoch 40/150\n",
            "\u001b[1m697/700\u001b[0m \u001b[32m━━━━━━━━━━━━━━━━━━━\u001b[0m\u001b[37m━\u001b[0m \u001b[1m0s\u001b[0m 5ms/step - loss: 1.2560 - mae: 0.0857 - mse: 1.2560\n",
            "Epoch 40: val_loss did not improve from 0.01065\n",
            "\u001b[1m700/700\u001b[0m \u001b[32m━━━━━━━━━━━━━━━━━━━━\u001b[0m\u001b[37m\u001b[0m \u001b[1m5s\u001b[0m 7ms/step - loss: 1.2558 - mae: 0.0857 - mse: 1.2558 - val_loss: 0.0111 - val_mae: 0.0666 - val_mse: 0.0111 - learning_rate: 0.0010\n",
            "Epoch 41/150\n",
            "\u001b[1m689/700\u001b[0m \u001b[32m━━━━━━━━━━━━━━━━━━━\u001b[0m\u001b[37m━\u001b[0m \u001b[1m0s\u001b[0m 4ms/step - loss: 0.4987 - mae: 0.0808 - mse: 0.4987\n",
            "Epoch 41: val_loss did not improve from 0.01065\n",
            "\u001b[1m700/700\u001b[0m \u001b[32m━━━━━━━━━━━━━━━━━━━━\u001b[0m\u001b[37m\u001b[0m \u001b[1m4s\u001b[0m 5ms/step - loss: 0.5113 - mae: 0.0808 - mse: 0.5113 - val_loss: 0.0126 - val_mae: 0.0675 - val_mse: 0.0126 - learning_rate: 0.0010\n",
            "Epoch 42/150\n",
            "\u001b[1m700/700\u001b[0m \u001b[32m━━━━━━━━━━━━━━━━━━━━\u001b[0m\u001b[37m\u001b[0m \u001b[1m0s\u001b[0m 4ms/step - loss: 1.6140 - mae: 0.0905 - mse: 1.6140\n",
            "Epoch 42: val_loss did not improve from 0.01065\n",
            "\u001b[1m700/700\u001b[0m \u001b[32m━━━━━━━━━━━━━━━━━━━━\u001b[0m\u001b[37m\u001b[0m \u001b[1m5s\u001b[0m 5ms/step - loss: 1.6134 - mae: 0.0905 - mse: 1.6134 - val_loss: 0.0114 - val_mae: 0.0672 - val_mse: 0.0114 - learning_rate: 0.0010\n",
            "Epoch 43/150\n",
            "\u001b[1m694/700\u001b[0m \u001b[32m━━━━━━━━━━━━━━━━━━━\u001b[0m\u001b[37m━\u001b[0m \u001b[1m0s\u001b[0m 5ms/step - loss: 2.0279 - mae: 0.0925 - mse: 2.0279\n",
            "Epoch 43: ReduceLROnPlateau reducing learning rate to 0.00020000000949949026.\n",
            "\n",
            "Epoch 43: val_loss did not improve from 0.01065\n",
            "\u001b[1m700/700\u001b[0m \u001b[32m━━━━━━━━━━━━━━━━━━━━\u001b[0m\u001b[37m\u001b[0m \u001b[1m6s\u001b[0m 6ms/step - loss: 2.0201 - mae: 0.0924 - mse: 2.0201 - val_loss: 0.0107 - val_mae: 0.0649 - val_mse: 0.0107 - learning_rate: 0.0010\n",
            "Epoch 44/150\n",
            "\u001b[1m695/700\u001b[0m \u001b[32m━━━━━━━━━━━━━━━━━━━\u001b[0m\u001b[37m━\u001b[0m \u001b[1m0s\u001b[0m 4ms/step - loss: 0.5711 - mae: 0.0784 - mse: 0.5711\n",
            "Epoch 44: val_loss improved from 0.01065 to 0.01058, saving model to best_model.h5\n"
          ]
        },
        {
          "output_type": "stream",
          "name": "stderr",
          "text": [
            "WARNING:absl:You are saving your model as an HDF5 file via `model.save()` or `keras.saving.save_model(model)`. This file format is considered legacy. We recommend using instead the native Keras format, e.g. `model.save('my_model.keras')` or `keras.saving.save_model(model, 'my_model.keras')`. \n"
          ]
        },
        {
          "output_type": "stream",
          "name": "stdout",
          "text": [
            "\b\b\b\b\b\b\b\b\b\b\b\b\b\b\b\b\b\b\b\b\b\b\b\b\b\b\b\b\b\b\b\b\b\b\b\b\b\b\b\b\b\b\b\b\b\b\b\b\b\b\b\b\b\b\b\b\b\b\b\b\b\b\b\b\b\b\b\b\b\b\b\b\b\b\b\b\b\b\b\b\b\b\b\r\u001b[1m700/700\u001b[0m \u001b[32m━━━━━━━━━━━━━━━━━━━━\u001b[0m\u001b[37m\u001b[0m \u001b[1m4s\u001b[0m 5ms/step - loss: 0.5768 - mae: 0.0784 - mse: 0.5768 - val_loss: 0.0106 - val_mae: 0.0637 - val_mse: 0.0106 - learning_rate: 2.0000e-04\n",
            "Epoch 45/150\n",
            "\u001b[1m695/700\u001b[0m \u001b[32m━━━━━━━━━━━━━━━━━━━\u001b[0m\u001b[37m━\u001b[0m \u001b[1m0s\u001b[0m 5ms/step - loss: 1.8968 - mae: 0.0866 - mse: 1.8968\n",
            "Epoch 45: val_loss did not improve from 0.01058\n",
            "\u001b[1m700/700\u001b[0m \u001b[32m━━━━━━━━━━━━━━━━━━━━\u001b[0m\u001b[37m\u001b[0m \u001b[1m6s\u001b[0m 6ms/step - loss: 1.8912 - mae: 0.0865 - mse: 1.8912 - val_loss: 0.0106 - val_mae: 0.0633 - val_mse: 0.0106 - learning_rate: 2.0000e-04\n",
            "Epoch 46/150\n",
            "\u001b[1m696/700\u001b[0m \u001b[32m━━━━━━━━━━━━━━━━━━━\u001b[0m\u001b[37m━\u001b[0m \u001b[1m0s\u001b[0m 4ms/step - loss: 2.3104 - mae: 0.0892 - mse: 2.3104\n",
            "Epoch 46: val_loss improved from 0.01058 to 0.01039, saving model to best_model.h5\n"
          ]
        },
        {
          "output_type": "stream",
          "name": "stderr",
          "text": [
            "WARNING:absl:You are saving your model as an HDF5 file via `model.save()` or `keras.saving.save_model(model)`. This file format is considered legacy. We recommend using instead the native Keras format, e.g. `model.save('my_model.keras')` or `keras.saving.save_model(model, 'my_model.keras')`. \n"
          ]
        },
        {
          "output_type": "stream",
          "name": "stdout",
          "text": [
            "\b\b\b\b\b\b\b\b\b\b\b\b\b\b\b\b\b\b\b\b\b\b\b\b\b\b\b\b\b\b\b\b\b\b\b\b\b\b\b\b\b\b\b\b\b\b\b\b\b\b\b\b\b\b\b\b\b\b\b\b\b\b\b\b\b\b\b\b\b\b\b\b\b\b\b\b\b\b\b\b\b\b\b\r\u001b[1m700/700\u001b[0m \u001b[32m━━━━━━━━━━━━━━━━━━━━\u001b[0m\u001b[37m\u001b[0m \u001b[1m4s\u001b[0m 5ms/step - loss: 2.3027 - mae: 0.0891 - mse: 2.3027 - val_loss: 0.0104 - val_mae: 0.0627 - val_mse: 0.0104 - learning_rate: 2.0000e-04\n",
            "Epoch 47/150\n",
            "\u001b[1m700/700\u001b[0m \u001b[32m━━━━━━━━━━━━━━━━━━━━\u001b[0m\u001b[37m\u001b[0m \u001b[1m0s\u001b[0m 4ms/step - loss: 3.6171 - mae: 0.0971 - mse: 3.6171\n",
            "Epoch 47: val_loss did not improve from 0.01039\n",
            "\u001b[1m700/700\u001b[0m \u001b[32m━━━━━━━━━━━━━━━━━━━━\u001b[0m\u001b[37m\u001b[0m \u001b[1m5s\u001b[0m 5ms/step - loss: 3.6137 - mae: 0.0970 - mse: 3.6137 - val_loss: 0.0105 - val_mae: 0.0627 - val_mse: 0.0105 - learning_rate: 2.0000e-04\n",
            "Epoch 48/150\n",
            "\u001b[1m693/700\u001b[0m \u001b[32m━━━━━━━━━━━━━━━━━━━\u001b[0m\u001b[37m━\u001b[0m \u001b[1m0s\u001b[0m 6ms/step - loss: 0.5676 - mae: 0.0782 - mse: 0.5676\n",
            "Epoch 48: val_loss did not improve from 0.01039\n",
            "\u001b[1m700/700\u001b[0m \u001b[32m━━━━━━━━━━━━━━━━━━━━\u001b[0m\u001b[37m\u001b[0m \u001b[1m5s\u001b[0m 7ms/step - loss: 0.5752 - mae: 0.0782 - mse: 0.5752 - val_loss: 0.0107 - val_mae: 0.0636 - val_mse: 0.0107 - learning_rate: 2.0000e-04\n",
            "Epoch 49/150\n",
            "\u001b[1m698/700\u001b[0m \u001b[32m━━━━━━━━━━━━━━━━━━━\u001b[0m\u001b[37m━\u001b[0m \u001b[1m0s\u001b[0m 4ms/step - loss: 3.8330 - mae: 0.0995 - mse: 3.8330\n",
            "Epoch 49: val_loss did not improve from 0.01039\n",
            "\u001b[1m700/700\u001b[0m \u001b[32m━━━━━━━━━━━━━━━━━━━━\u001b[0m\u001b[37m\u001b[0m \u001b[1m4s\u001b[0m 5ms/step - loss: 3.8219 - mae: 0.0994 - mse: 3.8219 - val_loss: 0.0108 - val_mae: 0.0631 - val_mse: 0.0108 - learning_rate: 2.0000e-04\n",
            "Epoch 50/150\n",
            "\u001b[1m698/700\u001b[0m \u001b[32m━━━━━━━━━━━━━━━━━━━\u001b[0m\u001b[37m━\u001b[0m \u001b[1m0s\u001b[0m 5ms/step - loss: 1.6635 - mae: 0.0855 - mse: 1.6635\n",
            "Epoch 50: val_loss did not improve from 0.01039\n",
            "\u001b[1m700/700\u001b[0m \u001b[32m━━━━━━━━━━━━━━━━━━━━\u001b[0m\u001b[37m\u001b[0m \u001b[1m5s\u001b[0m 6ms/step - loss: 1.6616 - mae: 0.0855 - mse: 1.6616 - val_loss: 0.0105 - val_mae: 0.0619 - val_mse: 0.0105 - learning_rate: 2.0000e-04\n",
            "Epoch 51/150\n",
            "\u001b[1m696/700\u001b[0m \u001b[32m━━━━━━━━━━━━━━━━━━━\u001b[0m\u001b[37m━\u001b[0m \u001b[1m0s\u001b[0m 6ms/step - loss: 0.6442 - mae: 0.0783 - mse: 0.6442\n",
            "Epoch 51: ReduceLROnPlateau reducing learning rate to 4.0000001899898055e-05.\n",
            "\n",
            "Epoch 51: val_loss did not improve from 0.01039\n",
            "\u001b[1m700/700\u001b[0m \u001b[32m━━━━━━━━━━━━━━━━━━━━\u001b[0m\u001b[37m\u001b[0m \u001b[1m5s\u001b[0m 7ms/step - loss: 0.6484 - mae: 0.0783 - mse: 0.6484 - val_loss: 0.0107 - val_mae: 0.0625 - val_mse: 0.0107 - learning_rate: 2.0000e-04\n",
            "Epoch 52/150\n",
            "\u001b[1m688/700\u001b[0m \u001b[32m━━━━━━━━━━━━━━━━━━━\u001b[0m\u001b[37m━\u001b[0m \u001b[1m0s\u001b[0m 4ms/step - loss: 1.9222 - mae: 0.0862 - mse: 1.9222\n",
            "Epoch 52: val_loss did not improve from 0.01039\n",
            "\u001b[1m700/700\u001b[0m \u001b[32m━━━━━━━━━━━━━━━━━━━━\u001b[0m\u001b[37m\u001b[0m \u001b[1m4s\u001b[0m 5ms/step - loss: 1.9093 - mae: 0.0861 - mse: 1.9093 - val_loss: 0.0107 - val_mae: 0.0622 - val_mse: 0.0107 - learning_rate: 4.0000e-05\n",
            "Epoch 53/150\n",
            "\u001b[1m696/700\u001b[0m \u001b[32m━━━━━━━━━━━━━━━━━━━\u001b[0m\u001b[37m━\u001b[0m \u001b[1m0s\u001b[0m 5ms/step - loss: 0.1744 - mae: 0.0749 - mse: 0.1744\n",
            "Epoch 53: val_loss did not improve from 0.01039\n",
            "\u001b[1m700/700\u001b[0m \u001b[32m━━━━━━━━━━━━━━━━━━━━\u001b[0m\u001b[37m\u001b[0m \u001b[1m6s\u001b[0m 7ms/step - loss: 0.1820 - mae: 0.0749 - mse: 0.1820 - val_loss: 0.0107 - val_mae: 0.0627 - val_mse: 0.0107 - learning_rate: 4.0000e-05\n",
            "Epoch 54/150\n",
            "\u001b[1m698/700\u001b[0m \u001b[32m━━━━━━━━━━━━━━━━━━━\u001b[0m\u001b[37m━\u001b[0m \u001b[1m0s\u001b[0m 4ms/step - loss: 0.2325 - mae: 0.0758 - mse: 0.2325\n",
            "Epoch 54: val_loss did not improve from 0.01039\n",
            "\u001b[1m700/700\u001b[0m \u001b[32m━━━━━━━━━━━━━━━━━━━━\u001b[0m\u001b[37m\u001b[0m \u001b[1m4s\u001b[0m 5ms/step - loss: 0.2368 - mae: 0.0759 - mse: 0.2368 - val_loss: 0.0107 - val_mae: 0.0624 - val_mse: 0.0107 - learning_rate: 4.0000e-05\n",
            "Epoch 55/150\n",
            "\u001b[1m699/700\u001b[0m \u001b[32m━━━━━━━━━━━━━━━━━━━\u001b[0m\u001b[37m━\u001b[0m \u001b[1m0s\u001b[0m 4ms/step - loss: 1.4579 - mae: 0.0842 - mse: 1.4579\n",
            "Epoch 55: val_loss did not improve from 0.01039\n",
            "\u001b[1m700/700\u001b[0m \u001b[32m━━━━━━━━━━━━━━━━━━━━\u001b[0m\u001b[37m\u001b[0m \u001b[1m4s\u001b[0m 5ms/step - loss: 1.4572 - mae: 0.0842 - mse: 1.4572 - val_loss: 0.0106 - val_mae: 0.0615 - val_mse: 0.0106 - learning_rate: 4.0000e-05\n",
            "Epoch 56/150\n",
            "\u001b[1m698/700\u001b[0m \u001b[32m━━━━━━━━━━━━━━━━━━━\u001b[0m\u001b[37m━\u001b[0m \u001b[1m0s\u001b[0m 5ms/step - loss: 2.5975 - mae: 0.0896 - mse: 2.5975\n",
            "Epoch 56: ReduceLROnPlateau reducing learning rate to 1e-05.\n",
            "\n",
            "Epoch 56: val_loss did not improve from 0.01039\n",
            "\u001b[1m700/700\u001b[0m \u001b[32m━━━━━━━━━━━━━━━━━━━━\u001b[0m\u001b[37m\u001b[0m \u001b[1m5s\u001b[0m 7ms/step - loss: 2.5916 - mae: 0.0895 - mse: 2.5916 - val_loss: 0.0107 - val_mae: 0.0623 - val_mse: 0.0107 - learning_rate: 4.0000e-05\n",
            "Epoch 57/150\n",
            "\u001b[1m691/700\u001b[0m \u001b[32m━━━━━━━━━━━━━━━━━━━\u001b[0m\u001b[37m━\u001b[0m \u001b[1m0s\u001b[0m 4ms/step - loss: 0.3345 - mae: 0.0755 - mse: 0.3345\n",
            "Epoch 57: val_loss did not improve from 0.01039\n",
            "\u001b[1m700/700\u001b[0m \u001b[32m━━━━━━━━━━━━━━━━━━━━\u001b[0m\u001b[37m\u001b[0m \u001b[1m4s\u001b[0m 5ms/step - loss: 0.3473 - mae: 0.0756 - mse: 0.3473 - val_loss: 0.0106 - val_mae: 0.0621 - val_mse: 0.0106 - learning_rate: 1.0000e-05\n",
            "Epoch 58/150\n",
            "\u001b[1m693/700\u001b[0m \u001b[32m━━━━━━━━━━━━━━━━━━━\u001b[0m\u001b[37m━\u001b[0m \u001b[1m0s\u001b[0m 4ms/step - loss: 0.2774 - mae: 0.0760 - mse: 0.2774\n",
            "Epoch 58: val_loss did not improve from 0.01039\n",
            "\u001b[1m700/700\u001b[0m \u001b[32m━━━━━━━━━━━━━━━━━━━━\u001b[0m\u001b[37m\u001b[0m \u001b[1m5s\u001b[0m 5ms/step - loss: 0.2882 - mae: 0.0761 - mse: 0.2882 - val_loss: 0.0108 - val_mae: 0.0624 - val_mse: 0.0108 - learning_rate: 1.0000e-05\n",
            "Epoch 59/150\n",
            "\u001b[1m691/700\u001b[0m \u001b[32m━━━━━━━━━━━━━━━━━━━\u001b[0m\u001b[37m━\u001b[0m \u001b[1m0s\u001b[0m 6ms/step - loss: 0.7429 - mae: 0.0784 - mse: 0.7429\n",
            "Epoch 59: val_loss did not improve from 0.01039\n",
            "\u001b[1m700/700\u001b[0m \u001b[32m━━━━━━━━━━━━━━━━━━━━\u001b[0m\u001b[37m\u001b[0m \u001b[1m5s\u001b[0m 7ms/step - loss: 0.7498 - mae: 0.0784 - mse: 0.7498 - val_loss: 0.0108 - val_mae: 0.0625 - val_mse: 0.0108 - learning_rate: 1.0000e-05\n",
            "Epoch 60/150\n",
            "\u001b[1m691/700\u001b[0m \u001b[32m━━━━━━━━━━━━━━━━━━━\u001b[0m\u001b[37m━\u001b[0m \u001b[1m0s\u001b[0m 5ms/step - loss: 3.5066 - mae: 0.0953 - mse: 3.5066\n",
            "Epoch 60: val_loss did not improve from 0.01039\n",
            "\u001b[1m700/700\u001b[0m \u001b[32m━━━━━━━━━━━━━━━━━━━━\u001b[0m\u001b[37m\u001b[0m \u001b[1m4s\u001b[0m 6ms/step - loss: 3.4740 - mae: 0.0951 - mse: 3.4740 - val_loss: 0.0107 - val_mae: 0.0621 - val_mse: 0.0107 - learning_rate: 1.0000e-05\n",
            "Epoch 61/150\n",
            "\u001b[1m695/700\u001b[0m \u001b[32m━━━━━━━━━━━━━━━━━━━\u001b[0m\u001b[37m━\u001b[0m \u001b[1m0s\u001b[0m 4ms/step - loss: 0.0931 - mae: 0.0743 - mse: 0.0931\n",
            "Epoch 61: val_loss did not improve from 0.01039\n",
            "\u001b[1m700/700\u001b[0m \u001b[32m━━━━━━━━━━━━━━━━━━━━\u001b[0m\u001b[37m\u001b[0m \u001b[1m5s\u001b[0m 5ms/step - loss: 0.1028 - mae: 0.0743 - mse: 0.1028 - val_loss: 0.0108 - val_mae: 0.0624 - val_mse: 0.0108 - learning_rate: 1.0000e-05\n",
            "Epoch 61: early stopping\n",
            "Restoring model weights from the end of the best epoch: 46.\n"
          ]
        }
      ],
      "execution_count": 23
    },
    {
      "cell_type": "code",
      "source": [
        "y_train_pred_scaled = model.predict(X_train_scaled)\n",
        "y_train_pred = y_scaler.inverse_transform(y_train_pred_scaled)\n",
        "\n",
        "train_mse = mean_squared_error(y_train, y_train_pred)\n",
        "train_rmse = np.sqrt(train_mse)\n",
        "train_r2 = r2_score(y_train, y_train_pred)\n",
        "y_pred_scaled = model.predict(X_test_scaled)\n",
        "y_pred = y_scaler.inverse_transform(y_pred_scaled)\n",
        "\n",
        "mse = mean_squared_error(y_test, y_pred)\n",
        "rmse = np.sqrt(mse)\n",
        "r2 = r2_score(y_test, y_pred)\n",
        "\n",
        "# Add neural network results to DataFrame\n",
        "final_results_df_1 = pd.concat([final_results_df_1, pd.DataFrame([{\n",
        "    'Model': 'Neural Network',\n",
        "    'Train_RMSE': train_rmse,\n",
        "    'Test_RMSE': rmse,\n",
        "    'Train_R2': train_r2,\n",
        "    'Test_R2': r2\n",
        "}])], ignore_index=True)"
      ],
      "metadata": {
        "colab": {
          "base_uri": "https://localhost:8080/"
        },
        "id": "YL7AeORp-OdH",
        "outputId": "30b1b5a5-8713-40bb-a0eb-0b16756bccdc"
      },
      "id": "YL7AeORp-OdH",
      "execution_count": 24,
      "outputs": [
        {
          "output_type": "stream",
          "name": "stdout",
          "text": [
            "\u001b[1m875/875\u001b[0m \u001b[32m━━━━━━━━━━━━━━━━━━━━\u001b[0m\u001b[37m\u001b[0m \u001b[1m3s\u001b[0m 3ms/step\n",
            "\u001b[1m375/375\u001b[0m \u001b[32m━━━━━━━━━━━━━━━━━━━━\u001b[0m\u001b[37m\u001b[0m \u001b[1m1s\u001b[0m 3ms/step\n"
          ]
        },
        {
          "output_type": "stream",
          "name": "stderr",
          "text": [
            "<ipython-input-24-7f931f7da170>:15: FutureWarning: The behavior of DataFrame concatenation with empty or all-NA entries is deprecated. In a future version, this will no longer exclude empty or all-NA columns when determining the result dtypes. To retain the old behavior, exclude the relevant entries before the concat operation.\n",
            "  final_results_df_1 = pd.concat([final_results_df_1, pd.DataFrame([{\n"
          ]
        }
      ]
    },
    {
      "cell_type": "code",
      "source": [
        "# Evaluate the model\n",
        "print(\"\\nModel Performance Metrics:\")\n",
        "print(f\"Root Mean Squared Error: {rmse:.2f}\")\n",
        "print(f\"R-squared Score: {r2:.4f}\")\n"
      ],
      "metadata": {
        "colab": {
          "base_uri": "https://localhost:8080/"
        },
        "id": "XJjDRLCUq-tb",
        "outputId": "012264c4-5327-4833-ddd3-d497f5af5e35"
      },
      "id": "XJjDRLCUq-tb",
      "execution_count": 25,
      "outputs": [
        {
          "output_type": "stream",
          "name": "stdout",
          "text": [
            "\n",
            "Model Performance Metrics:\n",
            "Root Mean Squared Error: 72394.87\n",
            "R-squared Score: 0.4872\n"
          ]
        }
      ]
    },
    {
      "cell_type": "code",
      "source": [
        "# Plot MAE\n",
        "plt.subplot(1, 3, 2)\n",
        "plt.plot(history.history['mae'], label='Training MAE')\n",
        "plt.plot(history.history['val_mae'], label='Validation MAE')\n",
        "plt.title('Model MAE')\n",
        "plt.xlabel('Epoch')\n",
        "plt.ylabel('MAE')\n",
        "plt.legend()\n",
        "\n"
      ],
      "metadata": {
        "colab": {
          "base_uri": "https://localhost:8080/",
          "height": 490
        },
        "id": "Ln8LO5jDrVhh",
        "outputId": "a2d99492-b7c0-449e-f373-b2f9adf5df4a"
      },
      "id": "Ln8LO5jDrVhh",
      "execution_count": 26,
      "outputs": [
        {
          "output_type": "execute_result",
          "data": {
            "text/plain": [
              "<matplotlib.legend.Legend at 0x7af6801a93d0>"
            ]
          },
          "metadata": {},
          "execution_count": 26
        },
        {
          "output_type": "display_data",
          "data": {
            "text/plain": [
              "<Figure size 640x480 with 1 Axes>"
            ],
            "image/png": "[encoded data removed]"
          },
          "metadata": {}
        }
      ]
    },
    {
      "cell_type": "code",
      "source": [
        "dt_param_grid = {\n",
        "    'max_depth': [5, 10,],\n",
        "    'min_samples_split': [ 5, 10],\n",
        "    'min_samples_leaf': [1, 2]\n",
        "}\n",
        "\n",
        "# Create grid search for Decision Tree\n",
        "dt_grid_search = GridSearchCV(\n",
        "    estimator=DecisionTreeRegressor(random_state=42),\n",
        "    param_grid=dt_param_grid,\n",
        "    cv=5,\n",
        "    scoring='neg_mean_squared_error',\n",
        "    n_jobs=-1,\n",
        "    verbose=1\n",
        ")"
      ],
      "metadata": {
        "id": "wx9KQ4170seM"
      },
      "id": "wx9KQ4170seM",
      "execution_count": 28,
      "outputs": []
    },
    {
      "cell_type": "code",
      "source": [
        "# Fit grid search\n",
        "dt_grid_search.fit(X_train_scaled, y_train_scaled.ravel())\n",
        "\n",
        "# Print best parameters\n",
        "print(\"Best Decision Tree Parameters:\", dt_grid_search.best_params_)\n",
        "print(\"Best CV Score (RMSE):\", np.sqrt(-dt_grid_search.best_score_))\n",
        "\n"
      ],
      "metadata": {
        "colab": {
          "base_uri": "https://localhost:8080/"
        },
        "id": "6jhj4CdzgjAs",
        "outputId": "bad4d590-a7ab-4665-be8d-786efe30452e"
      },
      "id": "6jhj4CdzgjAs",
      "execution_count": 29,
      "outputs": [
        {
          "output_type": "stream",
          "name": "stdout",
          "text": [
            "Fitting 5 folds for each of 8 candidates, totalling 40 fits\n",
            "Best Decision Tree Parameters: {'max_depth': 10, 'min_samples_leaf': 1, 'min_samples_split': 5}\n",
            "Best CV Score (RMSE): 0.9956034985503458\n"
          ]
        }
      ]
    },
    {
      "cell_type": "code",
      "source": [
        "# Get best model\n",
        "dt_best = dt_grid_search.best_estimator_\n",
        "\n",
        "# Make predictions (scaled)\n",
        "dt_train_pred = dt_best.predict(X_train_scaled)\n",
        "dt_test_pred = dt_best.predict(X_test_scaled)\n",
        "\n",
        "# Inverse transform to get original scale\n",
        "dt_train_pred_orig = y_scaler.inverse_transform(dt_train_pred.reshape(-1, 1))\n",
        "dt_test_pred_orig = y_scaler.inverse_transform(dt_test_pred.reshape(-1, 1))\n",
        "y_train_orig = y_scaler.inverse_transform(y_train_scaled)\n",
        "y_test_orig = y_scaler.inverse_transform(y_test_scaled)\n",
        "\n",
        "# Calculate metrics on original scale\n",
        "dt_train_rmse = np.sqrt(mean_squared_error(y_train_orig, dt_train_pred_orig))\n",
        "dt_test_rmse = np.sqrt(mean_squared_error(y_test_orig, dt_test_pred_orig))\n",
        "dt_train_r2 = r2_score(y_train_orig, dt_train_pred_orig)\n",
        "dt_test_r2 = r2_score(y_test_orig, dt_test_pred_orig)\n",
        "\n",
        "# Add results to DataFrame\n",
        "final_results_df_1 = pd.concat([final_results_df_1, pd.DataFrame([{\n",
        "    'Model': 'Decision Tree',\n",
        "    'Train_RMSE': dt_train_rmse,\n",
        "    'Test_RMSE': dt_test_rmse,\n",
        "    'Train_R2': dt_train_r2,\n",
        "    'Test_R2': dt_test_r2\n",
        "}])], ignore_index=True)\n"
      ],
      "metadata": {
        "id": "reIu9dYQgi9n"
      },
      "id": "reIu9dYQgi9n",
      "execution_count": 30,
      "outputs": []
    },
    {
      "cell_type": "code",
      "source": [
        "# Evaluate the model\n",
        "print(\"\\nModel Performance Metrics:\")\n",
        "print(f\"Root Mean Squared Error: {dt_test_rmse:.2f}\")\n",
        "print(f\"R-squared Score: {dt_test_r2:.4f}\")"
      ],
      "metadata": {
        "id": "ILvh0KeRgi61",
        "colab": {
          "base_uri": "https://localhost:8080/"
        },
        "outputId": "7fc70de0-ac67-4dbe-a632-c4e4e511e2e9"
      },
      "id": "ILvh0KeRgi61",
      "execution_count": 31,
      "outputs": [
        {
          "output_type": "stream",
          "name": "stdout",
          "text": [
            "\n",
            "Model Performance Metrics:\n",
            "Root Mean Squared Error: 77848.26\n",
            "R-squared Score: 0.4070\n"
          ]
        }
      ]
    },
    {
      "cell_type": "code",
      "source": [
        "#Gradient Boosting\n",
        "# Define parameter grid with only n_estimators\n",
        "gb_param_grid = {\n",
        "    'n_estimators': [50, 100]\n",
        "}\n",
        "\n",
        "# Create grid search\n",
        "gb_grid_search = GridSearchCV(\n",
        "    estimator=GradientBoostingRegressor(\n",
        "        learning_rate=0.01,\n",
        "        max_depth=3,\n",
        "        subsample=0.8,\n",
        "        random_state=42\n",
        "    ),\n",
        "    param_grid=gb_param_grid,\n",
        "    cv=5,\n",
        "    scoring='neg_mean_squared_error',\n",
        "    n_jobs=-1,\n",
        "    verbose=1\n",
        ")\n",
        "\n",
        "# Fit grid search\n",
        "gb_grid_search.fit(X_train_scaled, y_train_scaled.ravel())\n",
        "\n",
        "# Print best parameters\n",
        "print(\"Best Gradient Boosting Parameters:\", gb_grid_search.best_params_)\n",
        "print(\"Best CV Score (RMSE):\", np.sqrt(-gb_grid_search.best_score_))\n",
        "\n",
        "# Get best model\n",
        "gb_best = gb_grid_search.best_estimator_\n",
        "\n",
        "# Make predictions (scaled)\n",
        "gb_train_pred = gb_best.predict(X_train_scaled)\n",
        "gb_test_pred = gb_best.predict(X_test_scaled)\n",
        "\n",
        "# Inverse transform to get original scale\n",
        "gb_train_pred_orig = y_scaler.inverse_transform(gb_train_pred.reshape(-1, 1))\n",
        "gb_test_pred_orig = y_scaler.inverse_transform(gb_test_pred.reshape(-1, 1))\n",
        "\n",
        "# Calculate metrics on original scale\n",
        "gb_train_rmse = np.sqrt(mean_squared_error(y_train_orig, gb_train_pred_orig))\n",
        "gb_test_rmse = np.sqrt(mean_squared_error(y_test_orig, gb_test_pred_orig))\n",
        "gb_train_r2 = r2_score(y_train_orig, gb_train_pred_orig)\n",
        "gb_test_r2 = r2_score(y_test_orig, gb_test_pred_orig)\n",
        "\n",
        "# Add results to DataFrame\n",
        "final_results_df_1 = pd.concat([final_results_df_1, pd.DataFrame([{\n",
        "    'Model': 'Gradient Boosting',\n",
        "    'Train_RMSE': gb_train_rmse,\n",
        "    'Test_RMSE': gb_test_rmse,\n",
        "    'Train_R2': gb_train_r2,\n",
        "    'Test_R2': gb_test_r2\n",
        "}])], ignore_index=True)"
      ],
      "metadata": {
        "id": "EwiuZk92gi3q",
        "colab": {
          "base_uri": "https://localhost:8080/"
        },
        "outputId": "12483bc2-01c5-4810-da4f-0950270bd12d"
      },
      "id": "EwiuZk92gi3q",
      "execution_count": 32,
      "outputs": [
        {
          "output_type": "stream",
          "name": "stdout",
          "text": [
            "Fitting 5 folds for each of 2 candidates, totalling 10 fits\n",
            "Best Gradient Boosting Parameters: {'n_estimators': 50}\n",
            "Best CV Score (RMSE): 0.9995709967687856\n"
          ]
        }
      ]
    },
    {
      "cell_type": "code",
      "source": [
        "# Print Gradient Boosting results\n",
        "print(\"\\nTuned Gradient Boosting Performance:\")\n",
        "print(f\"Training RMSE: {gb_train_rmse:.2f}\")\n",
        "print(f\"Testing RMSE: {gb_test_rmse:.2f}\")\n",
        "print(f\"Training R²: {gb_train_r2:.4f}\")\n",
        "print(f\"Testing R²: {gb_test_r2:.4f}\")"
      ],
      "metadata": {
        "id": "JENagIkegi0Q",
        "colab": {
          "base_uri": "https://localhost:8080/"
        },
        "outputId": "8b20a0db-6f4a-47a7-b5f5-4d0b4a7747fd"
      },
      "id": "JENagIkegi0Q",
      "execution_count": 34,
      "outputs": [
        {
          "output_type": "stream",
          "name": "stdout",
          "text": [
            "\n",
            "Tuned Gradient Boosting Performance:\n",
            "Training RMSE: 507458.40\n",
            "Testing RMSE: 95722.32\n",
            "Training R²: 0.5080\n",
            "Testing R²: 0.1034\n"
          ]
        }
      ]
    },
    {
      "cell_type": "code",
      "source": [
        "# Display final model comparison\n",
        "print(\"\\nFinal Model Comparison:\")\n",
        "print(final_results_df_1)"
      ],
      "metadata": {
        "id": "xCNa5KjFgiwU",
        "colab": {
          "base_uri": "https://localhost:8080/"
        },
        "outputId": "b5ef8965-30b6-49a5-9122-2810bbe09f49"
      },
      "id": "xCNa5KjFgiwU",
      "execution_count": 35,
      "outputs": [
        {
          "output_type": "stream",
          "name": "stdout",
          "text": [
            "\n",
            "Final Model Comparison:\n",
            "               Model     Train_RMSE     Test_RMSE  Train_R2   Test_R2\n",
            "0     Neural Network  704472.626807  72394.874515  0.051796  0.487176\n",
            "1      Decision Tree   68268.183043  77848.260640  0.991095  0.407006\n",
            "2  Gradient Boosting  507458.398059  95722.323487  0.507990  0.103441\n"
          ]
        }
      ]
    },
    {
      "cell_type": "code",
      "source": [],
      "metadata": {
        "id": "Quos4lNPgiU1"
      },
      "id": "Quos4lNPgiU1",
      "execution_count": 35,
      "outputs": []
    },
    {
      "metadata": {
        "ExecuteTime": {
          "end_time": "2025-02-21T03:12:26.321686Z",
          "start_time": "2025-02-21T03:12:26.275569Z"
        },
        "id": "fXWjCJkYw1EP"
      },
      "cell_type": "code",
      "source": [
        "# Split dataset into train and test sets\n",
        "X_train, X_test, y_train, y_test = train_test_split(X_selected, y_2, test_size=0.3, random_state=42)"
      ],
      "outputs": [],
      "execution_count": 291,
      "id": "fXWjCJkYw1EP"
    },
    {
      "metadata": {
        "id": "Hp14y9N3w1EP"
      },
      "cell_type": "markdown",
      "source": [
        "# feature selection"
      ],
      "id": "Hp14y9N3w1EP"
    },
    {
      "metadata": {
        "ExecuteTime": {
          "end_time": "2025-02-21T03:18:01.479819Z",
          "start_time": "2025-02-21T03:13:28.539968Z"
        },
        "id": "g0QZH3c4w1EP",
        "colab": {
          "base_uri": "https://localhost:8080/"
        },
        "outputId": "0ed14405-e156-4d67-db3b-f84c9e462fd4"
      },
      "cell_type": "code",
      "source": [
        "rf = RandomForestRegressor(n_estimators=600, random_state=42)\n",
        "rf.fit(X_train, y_train)\n",
        "\n",
        "# Feature importance selection (Now based on X_train's actual columns)\n",
        "feature_importance_rf = pd.DataFrame(list(zip(X_train.columns, rf.feature_importances_)),\n",
        "                                     columns=['predictor', 'feature importance'])\n",
        "\n",
        "# Sort by importance\n",
        "feature_importance_rf = feature_importance_rf.sort_values(by='feature importance', ascending=False)\n",
        "\n",
        "# Select top 200 features\n",
        "selected_features_rf = feature_importance_rf.head(200)['predictor'].tolist()\n",
        "# Print selected features\n",
        "print(\"Top 200 Important Features:\", selected_features_rf)"
      ],
      "outputs": [
        {
          "output_type": "stream",
          "name": "stdout",
          "text": [
            "Top 200 Important Features: ['industry_Software Development', 'formatted_work_type_Full-time', 'application_type_SimpleOnsiteApply', 'feature_individual', 'feature_hour', 'feature_software', 'employee_count', 'formatted_experience_level_Entry level', 'formatted_experience_level_Director', 'views', 'feature_education', 'formatted_experience_level_Executive', 'feature_training', 'feature_salary', 'feature_degree', 'feature_engineering', 'formatted_experience_level_Mid-Senior level', 'feature_design', 'company_size', 'feature_account', 'feature_strategy', 'feature_development', 'country_GB', 'TitleClean_project manager', 'TitleClean_marketing manager', 'TitleClean_software engineer', 'feature_technology', 'applies', 'feature_practice', 'CompApplication', 'feature_equipment', 'industry_Retail', 'application_type_OffsiteApply', 'feature_communication', 'TitleClean_associate attorney', 'feature_market', 'industry_Staffing and Recruiting', 'feature_insurance', 'feature_information', 'industry_Hospitals and Health Care', 'feature_marketing', 'feature_growth', 'feature_culture', 'feature_performance', 'TitleClean_network engineer', 'remote_allowed', 'feature_law', 'feature_healthcare', 'feature_environment', 'TitleClean_general manager', 'feature_state', 'feature_patient', 'feature_need', 'feature_accounting', 'feature_group', 'industry_IT Services and IT Consulting', 'feature_plan', 'feature_disability', 'feature_security', 'feature_health', 'feature_value', 'feature_employer', 'feature_location', 'TitleClean_senior director', 'feature_family', 'feature_application', 'feature_member', 'Dental insurance', 'feature_policy', 'feature_area', 'TitleClean_vice president', 'country_US', 'feature_responsibility', 'feature_construction', 'formatted_experience_level_Other', 'industry_Biotechnology Research', 'TitleClean_senior accountant', 'industry_Financial Services', 'feature_resource', 'industry_Legal Services', 'TitleClean_senior manager', 'TitleClean_litigation associate', 'TitleClean_sales associate', 'TitleClean_information technology', 'TitleClean_account executive', 'feature_operation', 'Disability insurance', 'TitleClean_maintenance technician', 'TitleClean_product manager', 'industry_Law Practice', 'TitleClean_medical assistant', 'industry_Government Administration', 'TitleClean_administrative assistant', 'feature_qualification', 'TitleClean_program manager', 'TitleClean_real estate', 'TitleClean_business analyst', 'TitleClean_support specialist', 'TitleClean_travel rn', 'industry_Real Estate', 'TitleClean_registered nurse', 'TitleClean_home health', 'Commuter benefits', 'TitleClean_sales representative', 'industry_Civil Engineering', 'TitleClean_engineering manager', 'TitleClean_business development', 'industry_Truck Transportation', 'TitleClean_data scientist', 'Tuition assistance', 'industry_Business Consulting and Services', 'Child care support', 'TitleClean_nurse practitioner', 'industry_Insurance', 'Student loan assistance', 'TitleClean_accounting manager', 'feature_sale', 'industry_Construction', 'industry_Computer Hardware Manufacturing', 'TitleClean_financial analyst', 'industry_Banking', 'industry_Non-profit Organizations', 'TitleClean_data analyst', 'Paid maternity leave', 'industry_Telecommunications', 'industry_Computer and Network Security', 'industry_Research Services', 'TitleClean_customer service', 'TitleClean_sales manager', 'TitleClean_tax manager', 'TitleClean_account manager', 'industry_Entertainment Providers', 'industry_Higher Education', 'Pension plan', 'formatted_work_type_Part-time', 'industry_Medical Practices', 'formatted_experience_level_Internship', 'TitleClean_sales consultant', 'industry_Oil and Gas', 'TitleClean_staff accountant', 'TitleClean_operations manager', 'industry_Hospitality', 'industry_Airlines and Aviation', 'TitleClean_security engineer', 'country_IN', 'TitleClean_associate director', 'TitleClean_assistant manager', 'industry_Defense and Space Manufacturing', 'country_CA', 'industry_Mental Health Care', 'industry_Advertising Services', 'TitleClean_executive assistant', 'industry_Renewable Energy Semiconductor Manufacturing', 'industry_Manufacturing', 'industry_Pharmaceutical Manufacturing', 'TitleClean_physical therapist', 'industry_Technology, Information and Internet', 'TitleClean_engineer ii', 'industry_Wholesale', 'TitleClean_project coordinator', 'TitleClean_design engineer', 'TitleClean_store manager', 'TitleClean_quality engineer', 'country_FR', 'industry_Human Resources Services', 'country_DE', 'industry_Utilities', 'TitleClean_human resources', 'TitleClean_process engineer', 'TitleClean_service technician', 'TitleClean_entry level', 'TitleClean_construction superintendent', 'TitleClean_data engineer', 'TitleClean_systems engineer', 'industry_Medical Equipment Manufacturing', 'TitleClean_quality assurance', 'industry_Motor Vehicle Manufacturing', 'TitleClean_construction project', 'TitleClean_test engineer', 'industry_Food and Beverage Services', 'industry_Retail Apparel and Fashion', 'TitleClean_supply chain', 'industry_Environmental Services', 'industry_Law Enforcement', 'country_NL', 'industry_Semiconductor Manufacturing', 'TitleClean_sales executive', 'TitleClean_technical support', 'TitleClean_electrical engineer', 'TitleClean_finance manager', 'industry_Industrial Machinery Manufacturing', 'industry_Wellness and Fitness Services', 'TitleClean_field service', 'industry_Appliances, Electrical, and Electronics Manufacturing', 'TitleClean_sales specialist', 'TitleClean_project engineer', 'industry_Consumer Services', 'industry_Retail Luxury Goods and Jewelry', 'industry_Chemical Manufacturing', 'industry_Restaurants']\n"
          ]
        }
      ],
      "execution_count": 292,
      "id": "g0QZH3c4w1EP"
    },
    {
      "metadata": {
        "ExecuteTime": {
          "end_time": "2025-02-21T03:19:45.689041Z",
          "start_time": "2025-02-21T03:19:45.681165Z"
        },
        "id": "85WBB9iCw1EQ"
      },
      "cell_type": "code",
      "source": [
        "X_train = X_train[selected_features_rf]\n",
        "X_test = X_test[selected_features_rf]"
      ],
      "outputs": [],
      "execution_count": 293,
      "id": "85WBB9iCw1EQ"
    },
    {
      "metadata": {
        "ExecuteTime": {
          "end_time": "2025-02-21T03:35:14.491329Z",
          "start_time": "2025-02-21T03:35:14.483387Z"
        },
        "id": "vv_ECl_3w1EQ"
      },
      "cell_type": "code",
      "source": [
        "scaler = StandardScaler()\n",
        "X_train_scaled = scaler.fit_transform(X_train)\n",
        "X_test_scaled = scaler.transform(X_test)"
      ],
      "outputs": [],
      "execution_count": 294,
      "id": "vv_ECl_3w1EQ"
    },
    {
      "cell_type": "code",
      "source": [
        "y_scaler = StandardScaler()\n",
        "y_train_scaled = y_scaler.fit_transform(y_train.values.reshape(-1, 1))\n",
        "y_test_scaled = y_scaler.transform(y_test.values.reshape(-1, 1))"
      ],
      "metadata": {
        "id": "ukps_d58w1EQ"
      },
      "execution_count": 295,
      "outputs": [],
      "id": "ukps_d58w1EQ"
    },
    {
      "metadata": {
        "ExecuteTime": {
          "end_time": "2025-02-21T03:35:54.529869Z",
          "start_time": "2025-02-21T03:35:54.526995Z"
        },
        "id": "rtDUZkPlw1EQ"
      },
      "cell_type": "code",
      "source": [
        "# Define model parameters\n",
        "INPUT_DIM = X_train_scaled.shape[1]\n",
        "LEARNING_RATE = 0.001\n",
        "BATCH_SIZE = 32\n",
        "NUM_EPOCHS = 150"
      ],
      "outputs": [],
      "execution_count": 296,
      "id": "rtDUZkPlw1EQ"
    },
    {
      "metadata": {
        "ExecuteTime": {
          "end_time": "2025-02-21T03:36:06.736997Z",
          "start_time": "2025-02-21T03:36:06.734086Z"
        },
        "id": "N5sxcEFjw1EQ"
      },
      "cell_type": "code",
      "source": [
        "class AdaptiveLayer(layers.Layer):\n",
        "    def __init__(self, units, **kwargs):\n",
        "        super(AdaptiveLayer, self).__init__(**kwargs)\n",
        "        self.units = units\n",
        "        self.dense = layers.Dense(units, activation='relu')\n",
        "        self.batch_norm = layers.BatchNormalization()\n",
        "        self.dropout = layers.Dropout(0.3)\n",
        "        self.activation = layers.ReLU()\n",
        "\n",
        "    def call(self, inputs, training=False):\n",
        "        x = self.dense(inputs)\n",
        "        x = self.batch_norm(x, training=training)\n",
        "        x = self.dropout(x, training=training)\n",
        "        return self.activation(x)"
      ],
      "outputs": [],
      "execution_count": 297,
      "id": "N5sxcEFjw1EQ"
    },
    {
      "metadata": {
        "ExecuteTime": {
          "end_time": "2025-02-21T03:36:19.963495Z",
          "start_time": "2025-02-21T03:36:19.960322Z"
        },
        "id": "aoG4aQGgw1EQ"
      },
      "cell_type": "code",
      "source": [
        "def create_adaptive_model(input_dim):\n",
        "    inputs = layers.Input(shape=(input_dim,))\n",
        "\n",
        "    # First adaptive layer with larger units\n",
        "    x = AdaptiveLayer(128)(inputs)\n",
        "\n",
        "    # Multiple adaptive layers with decreasing units\n",
        "    x = AdaptiveLayer(64)(x)\n",
        "    x = AdaptiveLayer(32)(x)\n",
        "    x = AdaptiveLayer(16)(x)\n",
        "\n",
        "    # Output layer\n",
        "    outputs = layers.Dense(1, activation='linear')(x)\n",
        "\n",
        "    model = models.Model(inputs=inputs, outputs=outputs)\n",
        "    return model"
      ],
      "outputs": [],
      "execution_count": 298,
      "id": "aoG4aQGgw1EQ"
    },
    {
      "metadata": {
        "ExecuteTime": {
          "end_time": "2025-02-21T03:36:42.008499Z",
          "start_time": "2025-02-21T03:36:41.886540Z"
        },
        "id": "n7saKJALw1EQ"
      },
      "cell_type": "code",
      "source": [
        "# Create and compile the model\n",
        "model = create_adaptive_model(INPUT_DIM)\n",
        "optimizer = tf.keras.optimizers.Adam(learning_rate=LEARNING_RATE)\n",
        "\n",
        "model.compile(\n",
        "    optimizer=optimizer,\n",
        "    loss='mse',\n",
        "    metrics=['mae', 'mse']\n",
        ")"
      ],
      "outputs": [],
      "execution_count": 299,
      "id": "n7saKJALw1EQ"
    },
    {
      "metadata": {
        "ExecuteTime": {
          "end_time": "2025-02-21T03:37:10.529792Z",
          "start_time": "2025-02-21T03:37:10.525550Z"
        },
        "id": "JY90cJrRw1EQ"
      },
      "cell_type": "code",
      "source": [
        "# Define callbacks\n",
        "early_stopping = callbacks.EarlyStopping(\n",
        "    monitor='val_loss',\n",
        "    patience=15,\n",
        "    restore_best_weights=True,\n",
        "    verbose=1\n",
        ")\n",
        "\n",
        "reduce_lr = callbacks.ReduceLROnPlateau(\n",
        "    monitor='val_loss',\n",
        "    factor=0.2,\n",
        "    patience=5,\n",
        "    min_lr=0.00001,\n",
        "    verbose=1\n",
        ")\n"
      ],
      "outputs": [],
      "execution_count": 300,
      "id": "JY90cJrRw1EQ"
    },
    {
      "metadata": {
        "ExecuteTime": {
          "end_time": "2025-02-21T03:37:22.746481Z",
          "start_time": "2025-02-21T03:37:22.743564Z"
        },
        "id": "zxRu4QY6w1EQ"
      },
      "cell_type": "code",
      "source": [
        "# Model checkpoint\n",
        "checkpoint = callbacks.ModelCheckpoint(\n",
        "    'best_model.h5',\n",
        "    monitor='val_loss',\n",
        "    save_best_only=True,\n",
        "    verbose=1\n",
        ")"
      ],
      "outputs": [],
      "execution_count": 301,
      "id": "zxRu4QY6w1EQ"
    },
    {
      "metadata": {
        "ExecuteTime": {
          "end_time": "2025-02-21T03:38:32.941951Z",
          "start_time": "2025-02-21T03:37:33.495235Z"
        },
        "id": "o4bzBo6xw1ER",
        "colab": {
          "base_uri": "https://localhost:8080/"
        },
        "outputId": "175b5b95-aeb1-418a-ae8a-e3c85d2f9733"
      },
      "cell_type": "code",
      "source": [
        "# Train the model\n",
        "history = model.fit(\n",
        "    X_train_scaled,\n",
        "    y_train_scaled,  # Use scaled target\n",
        "    batch_size=BATCH_SIZE,\n",
        "    epochs=NUM_EPOCHS,\n",
        "    validation_split=0.2,\n",
        "    callbacks=[early_stopping, reduce_lr, checkpoint],\n",
        "    verbose=1\n",
        ")\n"
      ],
      "outputs": [
        {
          "output_type": "stream",
          "name": "stdout",
          "text": [
            "Epoch 1/150\n",
            "\u001b[1m695/700\u001b[0m \u001b[32m━━━━━━━━━━━━━━━━━━━\u001b[0m\u001b[37m━\u001b[0m \u001b[1m0s\u001b[0m 5ms/step - loss: 1.1201 - mae: 0.6501 - mse: 1.1201\n",
            "Epoch 1: val_loss improved from inf to 0.03207, saving model to best_model.h5\n"
          ]
        },
        {
          "output_type": "stream",
          "name": "stderr",
          "text": [
            "WARNING:absl:You are saving your model as an HDF5 file via `model.save()` or `keras.saving.save_model(model)`. This file format is considered legacy. We recommend using instead the native Keras format, e.g. `model.save('my_model.keras')` or `keras.saving.save_model(model, 'my_model.keras')`. \n"
          ]
        },
        {
          "output_type": "stream",
          "name": "stdout",
          "text": [
            "\b\b\b\b\b\b\b\b\b\b\b\b\b\b\b\b\b\b\b\b\b\b\b\b\b\b\b\b\b\b\b\b\b\b\b\b\b\b\b\b\b\b\b\b\b\b\b\b\b\b\b\b\b\b\b\b\b\b\b\b\b\b\b\b\b\b\b\b\b\b\b\b\b\b\b\b\b\b\b\b\b\b\b\r\u001b[1m700/700\u001b[0m \u001b[32m━━━━━━━━━━━━━━━━━━━━\u001b[0m\u001b[37m\u001b[0m \u001b[1m13s\u001b[0m 7ms/step - loss: 1.1261 - mae: 0.6486 - mse: 1.1261 - val_loss: 0.0321 - val_mae: 0.1401 - val_mse: 0.0321 - learning_rate: 0.0010\n",
            "Epoch 2/150\n",
            "\u001b[1m691/700\u001b[0m \u001b[32m━━━━━━━━━━━━━━━━━━━\u001b[0m\u001b[37m━\u001b[0m \u001b[1m0s\u001b[0m 5ms/step - loss: 2.0458 - mae: 0.2447 - mse: 2.0458\n",
            "Epoch 2: val_loss improved from 0.03207 to 0.01877, saving model to best_model.h5\n"
          ]
        },
        {
          "output_type": "stream",
          "name": "stderr",
          "text": [
            "WARNING:absl:You are saving your model as an HDF5 file via `model.save()` or `keras.saving.save_model(model)`. This file format is considered legacy. We recommend using instead the native Keras format, e.g. `model.save('my_model.keras')` or `keras.saving.save_model(model, 'my_model.keras')`. \n"
          ]
        },
        {
          "output_type": "stream",
          "name": "stdout",
          "text": [
            "\b\b\b\b\b\b\b\b\b\b\b\b\b\b\b\b\b\b\b\b\b\b\b\b\b\b\b\b\b\b\b\b\b\b\b\b\b\b\b\b\b\b\b\b\b\b\b\b\b\b\b\b\b\b\b\b\b\b\b\b\b\b\b\b\b\b\b\b\b\b\b\b\b\b\b\b\b\b\b\b\b\b\b\r\u001b[1m700/700\u001b[0m \u001b[32m━━━━━━━━━━━━━━━━━━━━\u001b[0m\u001b[37m\u001b[0m \u001b[1m5s\u001b[0m 6ms/step - loss: 2.0354 - mae: 0.2442 - mse: 2.0354 - val_loss: 0.0188 - val_mae: 0.1042 - val_mse: 0.0188 - learning_rate: 0.0010\n",
            "Epoch 3/150\n",
            "\u001b[1m699/700\u001b[0m \u001b[32m━━━━━━━━━━━━━━━━━━━\u001b[0m\u001b[37m━\u001b[0m \u001b[1m0s\u001b[0m 6ms/step - loss: 0.0955 - mae: 0.1484 - mse: 0.0955\n",
            "Epoch 3: val_loss improved from 0.01877 to 0.01751, saving model to best_model.h5\n"
          ]
        },
        {
          "output_type": "stream",
          "name": "stderr",
          "text": [
            "WARNING:absl:You are saving your model as an HDF5 file via `model.save()` or `keras.saving.save_model(model)`. This file format is considered legacy. We recommend using instead the native Keras format, e.g. `model.save('my_model.keras')` or `keras.saving.save_model(model, 'my_model.keras')`. \n"
          ]
        },
        {
          "output_type": "stream",
          "name": "stdout",
          "text": [
            "\b\b\b\b\b\b\b\b\b\b\b\b\b\b\b\b\b\b\b\b\b\b\b\b\b\b\b\b\b\b\b\b\b\b\b\b\b\b\b\b\b\b\b\b\b\b\b\b\b\b\b\b\b\b\b\b\b\b\b\b\b\b\b\b\b\b\b\b\b\b\b\b\b\b\b\b\b\b\b\b\b\b\b\r\u001b[1m700/700\u001b[0m \u001b[32m━━━━━━━━━━━━━━━━━━━━\u001b[0m\u001b[37m\u001b[0m \u001b[1m6s\u001b[0m 7ms/step - loss: 0.0988 - mae: 0.1484 - mse: 0.0988 - val_loss: 0.0175 - val_mae: 0.1013 - val_mse: 0.0175 - learning_rate: 0.0010\n",
            "Epoch 4/150\n",
            "\u001b[1m691/700\u001b[0m \u001b[32m━━━━━━━━━━━━━━━━━━━\u001b[0m\u001b[37m━\u001b[0m \u001b[1m0s\u001b[0m 5ms/step - loss: 1.8422 - mae: 0.1299 - mse: 1.8422\n",
            "Epoch 4: val_loss improved from 0.01751 to 0.01662, saving model to best_model.h5\n"
          ]
        },
        {
          "output_type": "stream",
          "name": "stderr",
          "text": [
            "WARNING:absl:You are saving your model as an HDF5 file via `model.save()` or `keras.saving.save_model(model)`. This file format is considered legacy. We recommend using instead the native Keras format, e.g. `model.save('my_model.keras')` or `keras.saving.save_model(model, 'my_model.keras')`. \n"
          ]
        },
        {
          "output_type": "stream",
          "name": "stdout",
          "text": [
            "\b\b\b\b\b\b\b\b\b\b\b\b\b\b\b\b\b\b\b\b\b\b\b\b\b\b\b\b\b\b\b\b\b\b\b\b\b\b\b\b\b\b\b\b\b\b\b\b\b\b\b\b\b\b\b\b\b\b\b\b\b\b\b\b\b\b\b\b\b\b\b\b\b\b\b\b\b\b\b\b\b\b\b\r\u001b[1m700/700\u001b[0m \u001b[32m━━━━━━━━━━━━━━━━━━━━\u001b[0m\u001b[37m\u001b[0m \u001b[1m4s\u001b[0m 6ms/step - loss: 1.8338 - mae: 0.1298 - mse: 1.8338 - val_loss: 0.0166 - val_mae: 0.0976 - val_mse: 0.0166 - learning_rate: 0.0010\n",
            "Epoch 5/150\n",
            "\u001b[1m699/700\u001b[0m \u001b[32m━━━━━━━━━━━━━━━━━━━\u001b[0m\u001b[37m━\u001b[0m \u001b[1m0s\u001b[0m 7ms/step - loss: 1.4617 - mae: 0.1141 - mse: 1.4617\n",
            "Epoch 5: val_loss improved from 0.01662 to 0.01649, saving model to best_model.h5\n"
          ]
        },
        {
          "output_type": "stream",
          "name": "stderr",
          "text": [
            "WARNING:absl:You are saving your model as an HDF5 file via `model.save()` or `keras.saving.save_model(model)`. This file format is considered legacy. We recommend using instead the native Keras format, e.g. `model.save('my_model.keras')` or `keras.saving.save_model(model, 'my_model.keras')`. \n"
          ]
        },
        {
          "output_type": "stream",
          "name": "stdout",
          "text": [
            "\b\b\b\b\b\b\b\b\b\b\b\b\b\b\b\b\b\b\b\b\b\b\b\b\b\b\b\b\b\b\b\b\b\b\b\b\b\b\b\b\b\b\b\b\b\b\b\b\b\b\b\b\b\b\b\b\b\b\b\b\b\b\b\b\b\b\b\b\b\b\b\b\b\b\b\b\b\b\b\b\b\b\b\r\u001b[1m700/700\u001b[0m \u001b[32m━━━━━━━━━━━━━━━━━━━━\u001b[0m\u001b[37m\u001b[0m \u001b[1m6s\u001b[0m 8ms/step - loss: 1.4611 - mae: 0.1141 - mse: 1.4611 - val_loss: 0.0165 - val_mae: 0.0972 - val_mse: 0.0165 - learning_rate: 0.0010\n",
            "Epoch 6/150\n",
            "\u001b[1m693/700\u001b[0m \u001b[32m━━━━━━━━━━━━━━━━━━━\u001b[0m\u001b[37m━\u001b[0m \u001b[1m0s\u001b[0m 5ms/step - loss: 0.5542 - mae: 0.1033 - mse: 0.5542\n",
            "Epoch 6: val_loss improved from 0.01649 to 0.01646, saving model to best_model.h5\n"
          ]
        },
        {
          "output_type": "stream",
          "name": "stderr",
          "text": [
            "WARNING:absl:You are saving your model as an HDF5 file via `model.save()` or `keras.saving.save_model(model)`. This file format is considered legacy. We recommend using instead the native Keras format, e.g. `model.save('my_model.keras')` or `keras.saving.save_model(model, 'my_model.keras')`. \n"
          ]
        },
        {
          "output_type": "stream",
          "name": "stdout",
          "text": [
            "\b\b\b\b\b\b\b\b\b\b\b\b\b\b\b\b\b\b\b\b\b\b\b\b\b\b\b\b\b\b\b\b\b\b\b\b\b\b\b\b\b\b\b\b\b\b\b\b\b\b\b\b\b\b\b\b\b\b\b\b\b\b\b\b\b\b\b\b\b\b\b\b\b\b\b\b\b\b\b\b\b\b\b\r\u001b[1m700/700\u001b[0m \u001b[32m━━━━━━━━━━━━━━━━━━━━\u001b[0m\u001b[37m\u001b[0m \u001b[1m4s\u001b[0m 6ms/step - loss: 0.5621 - mae: 0.1034 - mse: 0.5621 - val_loss: 0.0165 - val_mae: 0.0971 - val_mse: 0.0165 - learning_rate: 0.0010\n",
            "Epoch 7/150\n",
            "\u001b[1m693/700\u001b[0m \u001b[32m━━━━━━━━━━━━━━━━━━━\u001b[0m\u001b[37m━\u001b[0m \u001b[1m0s\u001b[0m 5ms/step - loss: 0.0499 - mae: 0.0985 - mse: 0.0499\n",
            "Epoch 7: val_loss did not improve from 0.01646\n",
            "\u001b[1m700/700\u001b[0m \u001b[32m━━━━━━━━━━━━━━━━━━━━\u001b[0m\u001b[37m\u001b[0m \u001b[1m5s\u001b[0m 6ms/step - loss: 0.0636 - mae: 0.0986 - mse: 0.0636 - val_loss: 0.0167 - val_mae: 0.0984 - val_mse: 0.0167 - learning_rate: 0.0010\n",
            "Epoch 8/150\n",
            "\u001b[1m698/700\u001b[0m \u001b[32m━━━━━━━━━━━━━━━━━━━\u001b[0m\u001b[37m━\u001b[0m \u001b[1m0s\u001b[0m 7ms/step - loss: 0.9082 - mae: 0.1073 - mse: 0.9082\n",
            "Epoch 8: val_loss improved from 0.01646 to 0.01612, saving model to best_model.h5\n"
          ]
        },
        {
          "output_type": "stream",
          "name": "stderr",
          "text": [
            "WARNING:absl:You are saving your model as an HDF5 file via `model.save()` or `keras.saving.save_model(model)`. This file format is considered legacy. We recommend using instead the native Keras format, e.g. `model.save('my_model.keras')` or `keras.saving.save_model(model, 'my_model.keras')`. \n"
          ]
        },
        {
          "output_type": "stream",
          "name": "stdout",
          "text": [
            "\b\b\b\b\b\b\b\b\b\b\b\b\b\b\b\b\b\b\b\b\b\b\b\b\b\b\b\b\b\b\b\b\b\b\b\b\b\b\b\b\b\b\b\b\b\b\b\b\b\b\b\b\b\b\b\b\b\b\b\b\b\b\b\b\b\b\b\b\b\b\b\b\b\b\b\b\b\b\b\b\b\b\b\r\u001b[1m700/700\u001b[0m \u001b[32m━━━━━━━━━━━━━━━━━━━━\u001b[0m\u001b[37m\u001b[0m \u001b[1m6s\u001b[0m 8ms/step - loss: 0.9097 - mae: 0.1074 - mse: 0.9097 - val_loss: 0.0161 - val_mae: 0.0961 - val_mse: 0.0161 - learning_rate: 0.0010\n",
            "Epoch 9/150\n",
            "\u001b[1m695/700\u001b[0m \u001b[32m━━━━━━━━━━━━━━━━━━━\u001b[0m\u001b[37m━\u001b[0m \u001b[1m0s\u001b[0m 5ms/step - loss: 2.0611 - mae: 0.1153 - mse: 2.0611\n",
            "Epoch 9: val_loss improved from 0.01612 to 0.01552, saving model to best_model.h5\n"
          ]
        },
        {
          "output_type": "stream",
          "name": "stderr",
          "text": [
            "WARNING:absl:You are saving your model as an HDF5 file via `model.save()` or `keras.saving.save_model(model)`. This file format is considered legacy. We recommend using instead the native Keras format, e.g. `model.save('my_model.keras')` or `keras.saving.save_model(model, 'my_model.keras')`. \n"
          ]
        },
        {
          "output_type": "stream",
          "name": "stdout",
          "text": [
            "\b\b\b\b\b\b\b\b\b\b\b\b\b\b\b\b\b\b\b\b\b\b\b\b\b\b\b\b\b\b\b\b\b\b\b\b\b\b\b\b\b\b\b\b\b\b\b\b\b\b\b\b\b\b\b\b\b\b\b\b\b\b\b\b\b\b\b\b\b\b\b\b\b\b\b\b\b\b\b\b\b\b\b\r\u001b[1m700/700\u001b[0m \u001b[32m━━━━━━━━━━━━━━━━━━━━\u001b[0m\u001b[37m\u001b[0m \u001b[1m5s\u001b[0m 6ms/step - loss: 2.0541 - mae: 0.1153 - mse: 2.0541 - val_loss: 0.0155 - val_mae: 0.0936 - val_mse: 0.0155 - learning_rate: 0.0010\n",
            "Epoch 10/150\n",
            "\u001b[1m700/700\u001b[0m \u001b[32m━━━━━━━━━━━━━━━━━━━━\u001b[0m\u001b[37m\u001b[0m \u001b[1m0s\u001b[0m 6ms/step - loss: 1.4053 - mae: 0.1071 - mse: 1.4053\n",
            "Epoch 10: val_loss improved from 0.01552 to 0.01462, saving model to best_model.h5\n"
          ]
        },
        {
          "output_type": "stream",
          "name": "stderr",
          "text": [
            "WARNING:absl:You are saving your model as an HDF5 file via `model.save()` or `keras.saving.save_model(model)`. This file format is considered legacy. We recommend using instead the native Keras format, e.g. `model.save('my_model.keras')` or `keras.saving.save_model(model, 'my_model.keras')`. \n"
          ]
        },
        {
          "output_type": "stream",
          "name": "stdout",
          "text": [
            "\b\b\b\b\b\b\b\b\b\b\b\b\b\b\b\b\b\b\b\b\b\b\b\b\b\b\b\b\b\b\b\b\b\b\b\b\b\b\b\b\b\b\b\b\b\b\b\b\b\b\b\b\b\b\b\b\b\b\b\b\b\b\b\b\b\b\b\b\b\b\b\b\b\b\b\b\b\b\b\b\b\b\b\r\u001b[1m700/700\u001b[0m \u001b[32m━━━━━━━━━━━━━━━━━━━━\u001b[0m\u001b[37m\u001b[0m \u001b[1m5s\u001b[0m 8ms/step - loss: 1.4051 - mae: 0.1071 - mse: 1.4051 - val_loss: 0.0146 - val_mae: 0.0909 - val_mse: 0.0146 - learning_rate: 0.0010\n",
            "Epoch 11/150\n",
            "\u001b[1m694/700\u001b[0m \u001b[32m━━━━━━━━━━━━━━━━━━━\u001b[0m\u001b[37m━\u001b[0m \u001b[1m0s\u001b[0m 5ms/step - loss: 3.8499 - mae: 0.1176 - mse: 3.8499\n",
            "Epoch 11: val_loss improved from 0.01462 to 0.01421, saving model to best_model.h5\n"
          ]
        },
        {
          "output_type": "stream",
          "name": "stderr",
          "text": [
            "WARNING:absl:You are saving your model as an HDF5 file via `model.save()` or `keras.saving.save_model(model)`. This file format is considered legacy. We recommend using instead the native Keras format, e.g. `model.save('my_model.keras')` or `keras.saving.save_model(model, 'my_model.keras')`. \n"
          ]
        },
        {
          "output_type": "stream",
          "name": "stdout",
          "text": [
            "\b\b\b\b\b\b\b\b\b\b\b\b\b\b\b\b\b\b\b\b\b\b\b\b\b\b\b\b\b\b\b\b\b\b\b\b\b\b\b\b\b\b\b\b\b\b\b\b\b\b\b\b\b\b\b\b\b\b\b\b\b\b\b\b\b\b\b\b\b\b\b\b\b\b\b\b\b\b\b\b\b\b\b\r\u001b[1m700/700\u001b[0m \u001b[32m━━━━━━━━━━━━━━━━━━━━\u001b[0m\u001b[37m\u001b[0m \u001b[1m9s\u001b[0m 7ms/step - loss: 3.8239 - mae: 0.1175 - mse: 3.8239 - val_loss: 0.0142 - val_mae: 0.0891 - val_mse: 0.0142 - learning_rate: 0.0010\n",
            "Epoch 12/150\n",
            "\u001b[1m695/700\u001b[0m \u001b[32m━━━━━━━━━━━━━━━━━━━\u001b[0m\u001b[37m━\u001b[0m \u001b[1m0s\u001b[0m 7ms/step - loss: 0.3156 - mae: 0.0907 - mse: 0.3156\n",
            "Epoch 12: val_loss improved from 0.01421 to 0.01341, saving model to best_model.h5\n"
          ]
        },
        {
          "output_type": "stream",
          "name": "stderr",
          "text": [
            "WARNING:absl:You are saving your model as an HDF5 file via `model.save()` or `keras.saving.save_model(model)`. This file format is considered legacy. We recommend using instead the native Keras format, e.g. `model.save('my_model.keras')` or `keras.saving.save_model(model, 'my_model.keras')`. \n"
          ]
        },
        {
          "output_type": "stream",
          "name": "stdout",
          "text": [
            "\b\b\b\b\b\b\b\b\b\b\b\b\b\b\b\b\b\b\b\b\b\b\b\b\b\b\b\b\b\b\b\b\b\b\b\b\b\b\b\b\b\b\b\b\b\b\b\b\b\b\b\b\b\b\b\b\b\b\b\b\b\b\b\b\b\b\b\b\b\b\b\b\b\b\b\b\b\b\b\b\b\b\b\r\u001b[1m700/700\u001b[0m \u001b[32m━━━━━━━━━━━━━━━━━━━━\u001b[0m\u001b[37m\u001b[0m \u001b[1m5s\u001b[0m 8ms/step - loss: 0.3235 - mae: 0.0908 - mse: 0.3235 - val_loss: 0.0134 - val_mae: 0.0860 - val_mse: 0.0134 - learning_rate: 0.0010\n",
            "Epoch 13/150\n",
            "\u001b[1m699/700\u001b[0m \u001b[32m━━━━━━━━━━━━━━━━━━━\u001b[0m\u001b[37m━\u001b[0m \u001b[1m0s\u001b[0m 6ms/step - loss: 6.9323 - mae: 0.1359 - mse: 6.9323\n",
            "Epoch 13: val_loss improved from 0.01341 to 0.01334, saving model to best_model.h5\n"
          ]
        },
        {
          "output_type": "stream",
          "name": "stderr",
          "text": [
            "WARNING:absl:You are saving your model as an HDF5 file via `model.save()` or `keras.saving.save_model(model)`. This file format is considered legacy. We recommend using instead the native Keras format, e.g. `model.save('my_model.keras')` or `keras.saving.save_model(model, 'my_model.keras')`. \n"
          ]
        },
        {
          "output_type": "stream",
          "name": "stdout",
          "text": [
            "\b\b\b\b\b\b\b\b\b\b\b\b\b\b\b\b\b\b\b\b\b\b\b\b\b\b\b\b\b\b\b\b\b\b\b\b\b\b\b\b\b\b\b\b\b\b\b\b\b\b\b\b\b\b\b\b\b\b\b\b\b\b\b\b\b\b\b\b\b\b\b\b\b\b\b\b\b\b\b\b\b\b\b\r\u001b[1m700/700\u001b[0m \u001b[32m━━━━━━━━━━━━━━━━━━━━\u001b[0m\u001b[37m\u001b[0m \u001b[1m10s\u001b[0m 7ms/step - loss: 6.9160 - mae: 0.1358 - mse: 6.9160 - val_loss: 0.0133 - val_mae: 0.0848 - val_mse: 0.0133 - learning_rate: 0.0010\n",
            "Epoch 14/150\n",
            "\u001b[1m696/700\u001b[0m \u001b[32m━━━━━━━━━━━━━━━━━━━\u001b[0m\u001b[37m━\u001b[0m \u001b[1m0s\u001b[0m 6ms/step - loss: 0.2515 - mae: 0.0857 - mse: 0.2515\n",
            "Epoch 14: val_loss improved from 0.01334 to 0.01330, saving model to best_model.h5\n"
          ]
        },
        {
          "output_type": "stream",
          "name": "stderr",
          "text": [
            "WARNING:absl:You are saving your model as an HDF5 file via `model.save()` or `keras.saving.save_model(model)`. This file format is considered legacy. We recommend using instead the native Keras format, e.g. `model.save('my_model.keras')` or `keras.saving.save_model(model, 'my_model.keras')`. \n"
          ]
        },
        {
          "output_type": "stream",
          "name": "stdout",
          "text": [
            "\b\b\b\b\b\b\b\b\b\b\b\b\b\b\b\b\b\b\b\b\b\b\b\b\b\b\b\b\b\b\b\b\b\b\b\b\b\b\b\b\b\b\b\b\b\b\b\b\b\b\b\b\b\b\b\b\b\b\b\b\b\b\b\b\b\b\b\b\b\b\b\b\b\b\b\b\b\b\b\b\b\b\b\r\u001b[1m700/700\u001b[0m \u001b[32m━━━━━━━━━━━━━━━━━━━━\u001b[0m\u001b[37m\u001b[0m \u001b[1m5s\u001b[0m 7ms/step - loss: 0.2586 - mae: 0.0857 - mse: 0.2586 - val_loss: 0.0133 - val_mae: 0.0826 - val_mse: 0.0133 - learning_rate: 0.0010\n",
            "Epoch 15/150\n",
            "\u001b[1m692/700\u001b[0m \u001b[32m━━━━━━━━━━━━━━━━━━━\u001b[0m\u001b[37m━\u001b[0m \u001b[1m0s\u001b[0m 5ms/step - loss: 1.6841 - mae: 0.1020 - mse: 1.6841\n",
            "Epoch 15: val_loss improved from 0.01330 to 0.01297, saving model to best_model.h5\n"
          ]
        },
        {
          "output_type": "stream",
          "name": "stderr",
          "text": [
            "WARNING:absl:You are saving your model as an HDF5 file via `model.save()` or `keras.saving.save_model(model)`. This file format is considered legacy. We recommend using instead the native Keras format, e.g. `model.save('my_model.keras')` or `keras.saving.save_model(model, 'my_model.keras')`. \n"
          ]
        },
        {
          "output_type": "stream",
          "name": "stdout",
          "text": [
            "\b\b\b\b\b\b\b\b\b\b\b\b\b\b\b\b\b\b\b\b\b\b\b\b\b\b\b\b\b\b\b\b\b\b\b\b\b\b\b\b\b\b\b\b\b\b\b\b\b\b\b\b\b\b\b\b\b\b\b\b\b\b\b\b\b\b\b\b\b\b\b\b\b\b\b\b\b\b\b\b\b\b\b\r\u001b[1m700/700\u001b[0m \u001b[32m━━━━━━━━━━━━━━━━━━━━\u001b[0m\u001b[37m\u001b[0m \u001b[1m5s\u001b[0m 6ms/step - loss: 1.6784 - mae: 0.1020 - mse: 1.6784 - val_loss: 0.0130 - val_mae: 0.0814 - val_mse: 0.0130 - learning_rate: 0.0010\n",
            "Epoch 16/150\n",
            "\u001b[1m697/700\u001b[0m \u001b[32m━━━━━━━━━━━━━━━━━━━\u001b[0m\u001b[37m━\u001b[0m \u001b[1m0s\u001b[0m 7ms/step - loss: 5.7864 - mae: 0.1262 - mse: 5.7864\n",
            "Epoch 16: val_loss improved from 0.01297 to 0.01221, saving model to best_model.h5\n"
          ]
        },
        {
          "output_type": "stream",
          "name": "stderr",
          "text": [
            "WARNING:absl:You are saving your model as an HDF5 file via `model.save()` or `keras.saving.save_model(model)`. This file format is considered legacy. We recommend using instead the native Keras format, e.g. `model.save('my_model.keras')` or `keras.saving.save_model(model, 'my_model.keras')`. \n"
          ]
        },
        {
          "output_type": "stream",
          "name": "stdout",
          "text": [
            "\b\b\b\b\b\b\b\b\b\b\b\b\b\b\b\b\b\b\b\b\b\b\b\b\b\b\b\b\b\b\b\b\b\b\b\b\b\b\b\b\b\b\b\b\b\b\b\b\b\b\b\b\b\b\b\b\b\b\b\b\b\b\b\b\b\b\b\b\b\b\b\b\b\b\b\b\b\b\b\b\b\b\b\r\u001b[1m700/700\u001b[0m \u001b[32m━━━━━━━━━━━━━━━━━━━━\u001b[0m\u001b[37m\u001b[0m \u001b[1m6s\u001b[0m 8ms/step - loss: 5.7605 - mae: 0.1260 - mse: 5.7605 - val_loss: 0.0122 - val_mae: 0.0779 - val_mse: 0.0122 - learning_rate: 0.0010\n",
            "Epoch 17/150\n",
            "\u001b[1m700/700\u001b[0m \u001b[32m━━━━━━━━━━━━━━━━━━━━\u001b[0m\u001b[37m\u001b[0m \u001b[1m0s\u001b[0m 6ms/step - loss: 0.0689 - mae: 0.0817 - mse: 0.0689\n",
            "Epoch 17: val_loss improved from 0.01221 to 0.01161, saving model to best_model.h5\n"
          ]
        },
        {
          "output_type": "stream",
          "name": "stderr",
          "text": [
            "WARNING:absl:You are saving your model as an HDF5 file via `model.save()` or `keras.saving.save_model(model)`. This file format is considered legacy. We recommend using instead the native Keras format, e.g. `model.save('my_model.keras')` or `keras.saving.save_model(model, 'my_model.keras')`. \n"
          ]
        },
        {
          "output_type": "stream",
          "name": "stdout",
          "text": [
            "\b\b\b\b\b\b\b\b\b\b\b\b\b\b\b\b\b\b\b\b\b\b\b\b\b\b\b\b\b\b\b\b\b\b\b\b\b\b\b\b\b\b\b\b\b\b\b\b\b\b\b\b\b\b\b\b\b\b\b\b\b\b\b\b\b\b\b\b\b\b\b\b\b\b\b\b\b\b\b\b\b\b\b\r\u001b[1m700/700\u001b[0m \u001b[32m━━━━━━━━━━━━━━━━━━━━\u001b[0m\u001b[37m\u001b[0m \u001b[1m10s\u001b[0m 8ms/step - loss: 0.0706 - mae: 0.0817 - mse: 0.0706 - val_loss: 0.0116 - val_mae: 0.0750 - val_mse: 0.0116 - learning_rate: 0.0010\n",
            "Epoch 18/150\n",
            "\u001b[1m698/700\u001b[0m \u001b[32m━━━━━━━━━━━━━━━━━━━\u001b[0m\u001b[37m━\u001b[0m \u001b[1m0s\u001b[0m 5ms/step - loss: 2.1430 - mae: 0.1004 - mse: 2.1430\n",
            "Epoch 18: val_loss improved from 0.01161 to 0.01132, saving model to best_model.h5\n"
          ]
        },
        {
          "output_type": "stream",
          "name": "stderr",
          "text": [
            "WARNING:absl:You are saving your model as an HDF5 file via `model.save()` or `keras.saving.save_model(model)`. This file format is considered legacy. We recommend using instead the native Keras format, e.g. `model.save('my_model.keras')` or `keras.saving.save_model(model, 'my_model.keras')`. \n"
          ]
        },
        {
          "output_type": "stream",
          "name": "stdout",
          "text": [
            "\b\b\b\b\b\b\b\b\b\b\b\b\b\b\b\b\b\b\b\b\b\b\b\b\b\b\b\b\b\b\b\b\b\b\b\b\b\b\b\b\b\b\b\b\b\b\b\b\b\b\b\b\b\b\b\b\b\b\b\b\b\b\b\b\b\b\b\b\b\b\b\b\b\b\b\b\b\b\b\b\b\b\b\r\u001b[1m700/700\u001b[0m \u001b[32m━━━━━━━━━━━━━━━━━━━━\u001b[0m\u001b[37m\u001b[0m \u001b[1m9s\u001b[0m 6ms/step - loss: 2.1391 - mae: 0.1004 - mse: 2.1391 - val_loss: 0.0113 - val_mae: 0.0739 - val_mse: 0.0113 - learning_rate: 0.0010\n",
            "Epoch 19/150\n",
            "\u001b[1m693/700\u001b[0m \u001b[32m━━━━━━━━━━━━━━━━━━━\u001b[0m\u001b[37m━\u001b[0m \u001b[1m0s\u001b[0m 7ms/step - loss: 3.6581 - mae: 0.1042 - mse: 3.6581\n",
            "Epoch 19: val_loss improved from 0.01132 to 0.01060, saving model to best_model.h5\n"
          ]
        },
        {
          "output_type": "stream",
          "name": "stderr",
          "text": [
            "WARNING:absl:You are saving your model as an HDF5 file via `model.save()` or `keras.saving.save_model(model)`. This file format is considered legacy. We recommend using instead the native Keras format, e.g. `model.save('my_model.keras')` or `keras.saving.save_model(model, 'my_model.keras')`. \n"
          ]
        },
        {
          "output_type": "stream",
          "name": "stdout",
          "text": [
            "\b\b\b\b\b\b\b\b\b\b\b\b\b\b\b\b\b\b\b\b\b\b\b\b\b\b\b\b\b\b\b\b\b\b\b\b\b\b\b\b\b\b\b\b\b\b\b\b\b\b\b\b\b\b\b\b\b\b\b\b\b\b\b\b\b\b\b\b\b\b\b\b\b\b\b\b\b\b\b\b\b\b\b\r\u001b[1m700/700\u001b[0m \u001b[32m━━━━━━━━━━━━━━━━━━━━\u001b[0m\u001b[37m\u001b[0m \u001b[1m6s\u001b[0m 8ms/step - loss: 3.6306 - mae: 0.1040 - mse: 3.6306 - val_loss: 0.0106 - val_mae: 0.0705 - val_mse: 0.0106 - learning_rate: 0.0010\n",
            "Epoch 20/150\n",
            "\u001b[1m695/700\u001b[0m \u001b[32m━━━━━━━━━━━━━━━━━━━\u001b[0m\u001b[37m━\u001b[0m \u001b[1m0s\u001b[0m 6ms/step - loss: 0.2317 - mae: 0.0770 - mse: 0.2317\n",
            "Epoch 20: val_loss improved from 0.01060 to 0.01012, saving model to best_model.h5\n"
          ]
        },
        {
          "output_type": "stream",
          "name": "stderr",
          "text": [
            "WARNING:absl:You are saving your model as an HDF5 file via `model.save()` or `keras.saving.save_model(model)`. This file format is considered legacy. We recommend using instead the native Keras format, e.g. `model.save('my_model.keras')` or `keras.saving.save_model(model, 'my_model.keras')`. \n"
          ]
        },
        {
          "output_type": "stream",
          "name": "stdout",
          "text": [
            "\b\b\b\b\b\b\b\b\b\b\b\b\b\b\b\b\b\b\b\b\b\b\b\b\b\b\b\b\b\b\b\b\b\b\b\b\b\b\b\b\b\b\b\b\b\b\b\b\b\b\b\b\b\b\b\b\b\b\b\b\b\b\b\b\b\b\b\b\b\b\b\b\b\b\b\b\b\b\b\b\b\b\b\r\u001b[1m700/700\u001b[0m \u001b[32m━━━━━━━━━━━━━━━━━━━━\u001b[0m\u001b[37m\u001b[0m \u001b[1m4s\u001b[0m 6ms/step - loss: 0.2403 - mae: 0.0770 - mse: 0.2403 - val_loss: 0.0101 - val_mae: 0.0690 - val_mse: 0.0101 - learning_rate: 0.0010\n",
            "Epoch 21/150\n",
            "\u001b[1m692/700\u001b[0m \u001b[32m━━━━━━━━━━━━━━━━━━━\u001b[0m\u001b[37m━\u001b[0m \u001b[1m0s\u001b[0m 5ms/step - loss: 0.1033 - mae: 0.0763 - mse: 0.1033\n",
            "Epoch 21: val_loss improved from 0.01012 to 0.00999, saving model to best_model.h5\n"
          ]
        },
        {
          "output_type": "stream",
          "name": "stderr",
          "text": [
            "WARNING:absl:You are saving your model as an HDF5 file via `model.save()` or `keras.saving.save_model(model)`. This file format is considered legacy. We recommend using instead the native Keras format, e.g. `model.save('my_model.keras')` or `keras.saving.save_model(model, 'my_model.keras')`. \n"
          ]
        },
        {
          "output_type": "stream",
          "name": "stdout",
          "text": [
            "\b\b\b\b\b\b\b\b\b\b\b\b\b\b\b\b\b\b\b\b\b\b\b\b\b\b\b\b\b\b\b\b\b\b\b\b\b\b\b\b\b\b\b\b\b\b\b\b\b\b\b\b\b\b\b\b\b\b\b\b\b\b\b\b\b\b\b\b\b\b\b\b\b\b\b\b\b\b\b\b\b\b\b\r\u001b[1m700/700\u001b[0m \u001b[32m━━━━━━━━━━━━━━━━━━━━\u001b[0m\u001b[37m\u001b[0m \u001b[1m5s\u001b[0m 7ms/step - loss: 0.1179 - mae: 0.0764 - mse: 0.1179 - val_loss: 0.0100 - val_mae: 0.0673 - val_mse: 0.0100 - learning_rate: 0.0010\n",
            "Epoch 22/150\n",
            "\u001b[1m699/700\u001b[0m \u001b[32m━━━━━━━━━━━━━━━━━━━\u001b[0m\u001b[37m━\u001b[0m \u001b[1m0s\u001b[0m 6ms/step - loss: 1.5880 - mae: 0.0903 - mse: 1.5880\n",
            "Epoch 22: val_loss did not improve from 0.00999\n",
            "\u001b[1m700/700\u001b[0m \u001b[32m━━━━━━━━━━━━━━━━━━━━\u001b[0m\u001b[37m\u001b[0m \u001b[1m5s\u001b[0m 7ms/step - loss: 1.5870 - mae: 0.0903 - mse: 1.5870 - val_loss: 0.0102 - val_mae: 0.0679 - val_mse: 0.0102 - learning_rate: 0.0010\n",
            "Epoch 23/150\n",
            "\u001b[1m696/700\u001b[0m \u001b[32m━━━━━━━━━━━━━━━━━━━\u001b[0m\u001b[37m━\u001b[0m \u001b[1m0s\u001b[0m 5ms/step - loss: 0.2413 - mae: 0.0776 - mse: 0.2413\n",
            "Epoch 23: val_loss improved from 0.00999 to 0.00960, saving model to best_model.h5\n"
          ]
        },
        {
          "output_type": "stream",
          "name": "stderr",
          "text": [
            "WARNING:absl:You are saving your model as an HDF5 file via `model.save()` or `keras.saving.save_model(model)`. This file format is considered legacy. We recommend using instead the native Keras format, e.g. `model.save('my_model.keras')` or `keras.saving.save_model(model, 'my_model.keras')`. \n"
          ]
        },
        {
          "output_type": "stream",
          "name": "stdout",
          "text": [
            "\b\b\b\b\b\b\b\b\b\b\b\b\b\b\b\b\b\b\b\b\b\b\b\b\b\b\b\b\b\b\b\b\b\b\b\b\b\b\b\b\b\b\b\b\b\b\b\b\b\b\b\b\b\b\b\b\b\b\b\b\b\b\b\b\b\b\b\b\b\b\b\b\b\b\b\b\b\b\b\b\b\b\b\r\u001b[1m700/700\u001b[0m \u001b[32m━━━━━━━━━━━━━━━━━━━━\u001b[0m\u001b[37m\u001b[0m \u001b[1m5s\u001b[0m 6ms/step - loss: 0.2484 - mae: 0.0777 - mse: 0.2484 - val_loss: 0.0096 - val_mae: 0.0633 - val_mse: 0.0096 - learning_rate: 0.0010\n",
            "Epoch 24/150\n",
            "\u001b[1m698/700\u001b[0m \u001b[32m━━━━━━━━━━━━━━━━━━━\u001b[0m\u001b[37m━\u001b[0m \u001b[1m0s\u001b[0m 7ms/step - loss: 2.4450 - mae: 0.0980 - mse: 2.4450\n",
            "Epoch 24: val_loss did not improve from 0.00960\n",
            "\u001b[1m700/700\u001b[0m \u001b[32m━━━━━━━━━━━━━━━━━━━━\u001b[0m\u001b[37m\u001b[0m \u001b[1m5s\u001b[0m 7ms/step - loss: 2.4399 - mae: 0.0980 - mse: 2.4399 - val_loss: 0.0100 - val_mae: 0.0654 - val_mse: 0.0100 - learning_rate: 0.0010\n",
            "Epoch 25/150\n",
            "\u001b[1m691/700\u001b[0m \u001b[32m━━━━━━━━━━━━━━━━━━━\u001b[0m\u001b[37m━\u001b[0m \u001b[1m0s\u001b[0m 5ms/step - loss: 2.3195 - mae: 0.0918 - mse: 2.3195\n",
            "Epoch 25: val_loss did not improve from 0.00960\n",
            "\u001b[1m700/700\u001b[0m \u001b[32m━━━━━━━━━━━━━━━━━━━━\u001b[0m\u001b[37m\u001b[0m \u001b[1m4s\u001b[0m 6ms/step - loss: 2.3041 - mae: 0.0917 - mse: 2.3041 - val_loss: 0.0097 - val_mae: 0.0657 - val_mse: 0.0097 - learning_rate: 0.0010\n",
            "Epoch 26/150\n",
            "\u001b[1m695/700\u001b[0m \u001b[32m━━━━━━━━━━━━━━━━━━━\u001b[0m\u001b[37m━\u001b[0m \u001b[1m0s\u001b[0m 5ms/step - loss: 1.7749 - mae: 0.0877 - mse: 1.7749\n",
            "Epoch 26: val_loss did not improve from 0.00960\n",
            "\u001b[1m700/700\u001b[0m \u001b[32m━━━━━━━━━━━━━━━━━━━━\u001b[0m\u001b[37m\u001b[0m \u001b[1m4s\u001b[0m 6ms/step - loss: 1.7703 - mae: 0.0877 - mse: 1.7703 - val_loss: 0.0097 - val_mae: 0.0669 - val_mse: 0.0097 - learning_rate: 0.0010\n",
            "Epoch 27/150\n",
            "\u001b[1m691/700\u001b[0m \u001b[32m━━━━━━━━━━━━━━━━━━━\u001b[0m\u001b[37m━\u001b[0m \u001b[1m0s\u001b[0m 6ms/step - loss: 0.7658 - mae: 0.0792 - mse: 0.7658\n",
            "Epoch 27: val_loss did not improve from 0.00960\n",
            "\u001b[1m700/700\u001b[0m \u001b[32m━━━━━━━━━━━━━━━━━━━━\u001b[0m\u001b[37m\u001b[0m \u001b[1m6s\u001b[0m 7ms/step - loss: 0.7727 - mae: 0.0793 - mse: 0.7727 - val_loss: 0.0096 - val_mae: 0.0642 - val_mse: 0.0096 - learning_rate: 0.0010\n",
            "Epoch 28/150\n",
            "\u001b[1m699/700\u001b[0m \u001b[32m━━━━━━━━━━━━━━━━━━━\u001b[0m\u001b[37m━\u001b[0m \u001b[1m0s\u001b[0m 5ms/step - loss: 2.4579 - mae: 0.0927 - mse: 2.4579\n",
            "Epoch 28: ReduceLROnPlateau reducing learning rate to 0.00020000000949949026.\n",
            "\n",
            "Epoch 28: val_loss did not improve from 0.00960\n",
            "\u001b[1m700/700\u001b[0m \u001b[32m━━━━━━━━━━━━━━━━━━━━\u001b[0m\u001b[37m\u001b[0m \u001b[1m4s\u001b[0m 6ms/step - loss: 2.4544 - mae: 0.0926 - mse: 2.4544 - val_loss: 0.0098 - val_mae: 0.0668 - val_mse: 0.0098 - learning_rate: 0.0010\n",
            "Epoch 29/150\n",
            "\u001b[1m693/700\u001b[0m \u001b[32m━━━━━━━━━━━━━━━━━━━\u001b[0m\u001b[37m━\u001b[0m \u001b[1m0s\u001b[0m 5ms/step - loss: 3.1115 - mae: 0.0927 - mse: 3.1115\n",
            "Epoch 29: val_loss improved from 0.00960 to 0.00954, saving model to best_model.h5\n"
          ]
        },
        {
          "output_type": "stream",
          "name": "stderr",
          "text": [
            "WARNING:absl:You are saving your model as an HDF5 file via `model.save()` or `keras.saving.save_model(model)`. This file format is considered legacy. We recommend using instead the native Keras format, e.g. `model.save('my_model.keras')` or `keras.saving.save_model(model, 'my_model.keras')`. \n"
          ]
        },
        {
          "output_type": "stream",
          "name": "stdout",
          "text": [
            "\b\b\b\b\b\b\b\b\b\b\b\b\b\b\b\b\b\b\b\b\b\b\b\b\b\b\b\b\b\b\b\b\b\b\b\b\b\b\b\b\b\b\b\b\b\b\b\b\b\b\b\b\b\b\b\b\b\b\b\b\b\b\b\b\b\b\b\b\b\b\b\b\b\b\b\b\b\b\b\b\b\b\b\r\u001b[1m700/700\u001b[0m \u001b[32m━━━━━━━━━━━━━━━━━━━━\u001b[0m\u001b[37m\u001b[0m \u001b[1m4s\u001b[0m 6ms/step - loss: 3.0901 - mae: 0.0926 - mse: 3.0901 - val_loss: 0.0095 - val_mae: 0.0650 - val_mse: 0.0095 - learning_rate: 2.0000e-04\n",
            "Epoch 30/150\n",
            "\u001b[1m694/700\u001b[0m \u001b[32m━━━━━━━━━━━━━━━━━━━\u001b[0m\u001b[37m━\u001b[0m \u001b[1m0s\u001b[0m 6ms/step - loss: 3.6121 - mae: 0.0944 - mse: 3.6121\n",
            "Epoch 30: val_loss improved from 0.00954 to 0.00950, saving model to best_model.h5\n"
          ]
        },
        {
          "output_type": "stream",
          "name": "stderr",
          "text": [
            "WARNING:absl:You are saving your model as an HDF5 file via `model.save()` or `keras.saving.save_model(model)`. This file format is considered legacy. We recommend using instead the native Keras format, e.g. `model.save('my_model.keras')` or `keras.saving.save_model(model, 'my_model.keras')`. \n"
          ]
        },
        {
          "output_type": "stream",
          "name": "stdout",
          "text": [
            "\b\b\b\b\b\b\b\b\b\b\b\b\b\b\b\b\b\b\b\b\b\b\b\b\b\b\b\b\b\b\b\b\b\b\b\b\b\b\b\b\b\b\b\b\b\b\b\b\b\b\b\b\b\b\b\b\b\b\b\b\b\b\b\b\b\b\b\b\b\b\b\b\b\b\b\b\b\b\b\b\b\b\b\r\u001b[1m700/700\u001b[0m \u001b[32m━━━━━━━━━━━━━━━━━━━━\u001b[0m\u001b[37m\u001b[0m \u001b[1m5s\u001b[0m 7ms/step - loss: 3.5884 - mae: 0.0942 - mse: 3.5884 - val_loss: 0.0095 - val_mae: 0.0647 - val_mse: 0.0095 - learning_rate: 2.0000e-04\n",
            "Epoch 31/150\n",
            "\u001b[1m699/700\u001b[0m \u001b[32m━━━━━━━━━━━━━━━━━━━\u001b[0m\u001b[37m━\u001b[0m \u001b[1m0s\u001b[0m 5ms/step - loss: 0.0799 - mae: 0.0729 - mse: 0.0799\n",
            "Epoch 31: val_loss improved from 0.00950 to 0.00932, saving model to best_model.h5\n"
          ]
        },
        {
          "output_type": "stream",
          "name": "stderr",
          "text": [
            "WARNING:absl:You are saving your model as an HDF5 file via `model.save()` or `keras.saving.save_model(model)`. This file format is considered legacy. We recommend using instead the native Keras format, e.g. `model.save('my_model.keras')` or `keras.saving.save_model(model, 'my_model.keras')`. \n"
          ]
        },
        {
          "output_type": "stream",
          "name": "stdout",
          "text": [
            "\b\b\b\b\b\b\b\b\b\b\b\b\b\b\b\b\b\b\b\b\b\b\b\b\b\b\b\b\b\b\b\b\b\b\b\b\b\b\b\b\b\b\b\b\b\b\b\b\b\b\b\b\b\b\b\b\b\b\b\b\b\b\b\b\b\b\b\b\b\b\b\b\b\b\b\b\b\b\b\b\b\b\b\r\u001b[1m700/700\u001b[0m \u001b[32m━━━━━━━━━━━━━━━━━━━━\u001b[0m\u001b[37m\u001b[0m \u001b[1m4s\u001b[0m 6ms/step - loss: 0.0831 - mae: 0.0729 - mse: 0.0831 - val_loss: 0.0093 - val_mae: 0.0645 - val_mse: 0.0093 - learning_rate: 2.0000e-04\n",
            "Epoch 32/150\n",
            "\u001b[1m698/700\u001b[0m \u001b[32m━━━━━━━━━━━━━━━━━━━\u001b[0m\u001b[37m━\u001b[0m \u001b[1m0s\u001b[0m 6ms/step - loss: 1.6783 - mae: 0.0835 - mse: 1.6783\n",
            "Epoch 32: val_loss improved from 0.00932 to 0.00923, saving model to best_model.h5\n"
          ]
        },
        {
          "output_type": "stream",
          "name": "stderr",
          "text": [
            "WARNING:absl:You are saving your model as an HDF5 file via `model.save()` or `keras.saving.save_model(model)`. This file format is considered legacy. We recommend using instead the native Keras format, e.g. `model.save('my_model.keras')` or `keras.saving.save_model(model, 'my_model.keras')`. \n"
          ]
        },
        {
          "output_type": "stream",
          "name": "stdout",
          "text": [
            "\b\b\b\b\b\b\b\b\b\b\b\b\b\b\b\b\b\b\b\b\b\b\b\b\b\b\b\b\b\b\b\b\b\b\b\b\b\b\b\b\b\b\b\b\b\b\b\b\b\b\b\b\b\b\b\b\b\b\b\b\b\b\b\b\b\b\b\b\b\b\b\b\b\b\b\b\b\b\b\b\b\b\b\r\u001b[1m700/700\u001b[0m \u001b[32m━━━━━━━━━━━━━━━━━━━━\u001b[0m\u001b[37m\u001b[0m \u001b[1m5s\u001b[0m 7ms/step - loss: 1.6764 - mae: 0.0835 - mse: 1.6764 - val_loss: 0.0092 - val_mae: 0.0633 - val_mse: 0.0092 - learning_rate: 2.0000e-04\n",
            "Epoch 33/150\n",
            "\u001b[1m694/700\u001b[0m \u001b[32m━━━━━━━━━━━━━━━━━━━\u001b[0m\u001b[37m━\u001b[0m \u001b[1m0s\u001b[0m 6ms/step - loss: 0.9269 - mae: 0.0777 - mse: 0.9269\n",
            "Epoch 33: val_loss improved from 0.00923 to 0.00909, saving model to best_model.h5\n"
          ]
        },
        {
          "output_type": "stream",
          "name": "stderr",
          "text": [
            "WARNING:absl:You are saving your model as an HDF5 file via `model.save()` or `keras.saving.save_model(model)`. This file format is considered legacy. We recommend using instead the native Keras format, e.g. `model.save('my_model.keras')` or `keras.saving.save_model(model, 'my_model.keras')`. \n"
          ]
        },
        {
          "output_type": "stream",
          "name": "stdout",
          "text": [
            "\b\b\b\b\b\b\b\b\b\b\b\b\b\b\b\b\b\b\b\b\b\b\b\b\b\b\b\b\b\b\b\b\b\b\b\b\b\b\b\b\b\b\b\b\b\b\b\b\b\b\b\b\b\b\b\b\b\b\b\b\b\b\b\b\b\b\b\b\b\b\b\b\b\b\b\b\b\b\b\b\b\b\b\r\u001b[1m700/700\u001b[0m \u001b[32m━━━━━━━━━━━━━━━━━━━━\u001b[0m\u001b[37m\u001b[0m \u001b[1m5s\u001b[0m 6ms/step - loss: 0.9300 - mae: 0.0778 - mse: 0.9300 - val_loss: 0.0091 - val_mae: 0.0632 - val_mse: 0.0091 - learning_rate: 2.0000e-04\n",
            "Epoch 34/150\n",
            "\u001b[1m696/700\u001b[0m \u001b[32m━━━━━━━━━━━━━━━━━━━\u001b[0m\u001b[37m━\u001b[0m \u001b[1m0s\u001b[0m 5ms/step - loss: 0.3058 - mae: 0.0742 - mse: 0.3058\n",
            "Epoch 34: val_loss improved from 0.00909 to 0.00902, saving model to best_model.h5\n"
          ]
        },
        {
          "output_type": "stream",
          "name": "stderr",
          "text": [
            "WARNING:absl:You are saving your model as an HDF5 file via `model.save()` or `keras.saving.save_model(model)`. This file format is considered legacy. We recommend using instead the native Keras format, e.g. `model.save('my_model.keras')` or `keras.saving.save_model(model, 'my_model.keras')`. \n"
          ]
        },
        {
          "output_type": "stream",
          "name": "stdout",
          "text": [
            "\b\b\b\b\b\b\b\b\b\b\b\b\b\b\b\b\b\b\b\b\b\b\b\b\b\b\b\b\b\b\b\b\b\b\b\b\b\b\b\b\b\b\b\b\b\b\b\b\b\b\b\b\b\b\b\b\b\b\b\b\b\b\b\b\b\b\b\b\b\b\b\b\b\b\b\b\b\b\b\b\b\b\b\r\u001b[1m700/700\u001b[0m \u001b[32m━━━━━━━━━━━━━━━━━━━━\u001b[0m\u001b[37m\u001b[0m \u001b[1m4s\u001b[0m 6ms/step - loss: 0.3124 - mae: 0.0743 - mse: 0.3124 - val_loss: 0.0090 - val_mae: 0.0627 - val_mse: 0.0090 - learning_rate: 2.0000e-04\n",
            "Epoch 35/150\n",
            "\u001b[1m696/700\u001b[0m \u001b[32m━━━━━━━━━━━━━━━━━━━\u001b[0m\u001b[37m━\u001b[0m \u001b[1m0s\u001b[0m 6ms/step - loss: 4.0254 - mae: 0.0986 - mse: 4.0254\n",
            "Epoch 35: val_loss did not improve from 0.00902\n",
            "\u001b[1m700/700\u001b[0m \u001b[32m━━━━━━━━━━━━━━━━━━━━\u001b[0m\u001b[37m\u001b[0m \u001b[1m5s\u001b[0m 7ms/step - loss: 4.0055 - mae: 0.0984 - mse: 4.0055 - val_loss: 0.0091 - val_mae: 0.0631 - val_mse: 0.0091 - learning_rate: 2.0000e-04\n",
            "Epoch 36/150\n",
            "\u001b[1m698/700\u001b[0m \u001b[32m━━━━━━━━━━━━━━━━━━━\u001b[0m\u001b[37m━\u001b[0m \u001b[1m0s\u001b[0m 5ms/step - loss: 1.4547 - mae: 0.0813 - mse: 1.4547\n",
            "Epoch 36: val_loss did not improve from 0.00902\n",
            "\u001b[1m700/700\u001b[0m \u001b[32m━━━━━━━━━━━━━━━━━━━━\u001b[0m\u001b[37m\u001b[0m \u001b[1m5s\u001b[0m 6ms/step - loss: 1.4538 - mae: 0.0813 - mse: 1.4538 - val_loss: 0.0091 - val_mae: 0.0634 - val_mse: 0.0091 - learning_rate: 2.0000e-04\n",
            "Epoch 37/150\n",
            "\u001b[1m699/700\u001b[0m \u001b[32m━━━━━━━━━━━━━━━━━━━\u001b[0m\u001b[37m━\u001b[0m \u001b[1m0s\u001b[0m 5ms/step - loss: 0.0183 - mae: 0.0715 - mse: 0.0183\n",
            "Epoch 37: val_loss did not improve from 0.00902\n",
            "\u001b[1m700/700\u001b[0m \u001b[32m━━━━━━━━━━━━━━━━━━━━\u001b[0m\u001b[37m\u001b[0m \u001b[1m4s\u001b[0m 6ms/step - loss: 0.0218 - mae: 0.0716 - mse: 0.0218 - val_loss: 0.0093 - val_mae: 0.0646 - val_mse: 0.0093 - learning_rate: 2.0000e-04\n",
            "Epoch 38/150\n",
            "\u001b[1m697/700\u001b[0m \u001b[32m━━━━━━━━━━━━━━━━━━━\u001b[0m\u001b[37m━\u001b[0m \u001b[1m0s\u001b[0m 7ms/step - loss: 0.0131 - mae: 0.0717 - mse: 0.0131\n",
            "Epoch 38: ReduceLROnPlateau reducing learning rate to 4.0000001899898055e-05.\n",
            "\n",
            "Epoch 38: val_loss did not improve from 0.00902\n",
            "\u001b[1m700/700\u001b[0m \u001b[32m━━━━━━━━━━━━━━━━━━━━\u001b[0m\u001b[37m\u001b[0m \u001b[1m6s\u001b[0m 7ms/step - loss: 0.0201 - mae: 0.0717 - mse: 0.0201 - val_loss: 0.0090 - val_mae: 0.0633 - val_mse: 0.0090 - learning_rate: 2.0000e-04\n",
            "Epoch 39/150\n",
            "\u001b[1m697/700\u001b[0m \u001b[32m━━━━━━━━━━━━━━━━━━━\u001b[0m\u001b[37m━\u001b[0m \u001b[1m0s\u001b[0m 5ms/step - loss: 3.2594 - mae: 0.0914 - mse: 3.2594\n",
            "Epoch 39: val_loss improved from 0.00902 to 0.00889, saving model to best_model.h5\n"
          ]
        },
        {
          "output_type": "stream",
          "name": "stderr",
          "text": [
            "WARNING:absl:You are saving your model as an HDF5 file via `model.save()` or `keras.saving.save_model(model)`. This file format is considered legacy. We recommend using instead the native Keras format, e.g. `model.save('my_model.keras')` or `keras.saving.save_model(model, 'my_model.keras')`. \n"
          ]
        },
        {
          "output_type": "stream",
          "name": "stdout",
          "text": [
            "\b\b\b\b\b\b\b\b\b\b\b\b\b\b\b\b\b\b\b\b\b\b\b\b\b\b\b\b\b\b\b\b\b\b\b\b\b\b\b\b\b\b\b\b\b\b\b\b\b\b\b\b\b\b\b\b\b\b\b\b\b\b\b\b\b\b\b\b\b\b\b\b\b\b\b\b\b\b\b\b\b\b\b\r\u001b[1m700/700\u001b[0m \u001b[32m━━━━━━━━━━━━━━━━━━━━\u001b[0m\u001b[37m\u001b[0m \u001b[1m4s\u001b[0m 6ms/step - loss: 3.2478 - mae: 0.0913 - mse: 3.2478 - val_loss: 0.0089 - val_mae: 0.0622 - val_mse: 0.0089 - learning_rate: 4.0000e-05\n",
            "Epoch 40/150\n",
            "\u001b[1m696/700\u001b[0m \u001b[32m━━━━━━━━━━━━━━━━━━━\u001b[0m\u001b[37m━\u001b[0m \u001b[1m0s\u001b[0m 5ms/step - loss: 1.3462 - mae: 0.0793 - mse: 1.3462\n",
            "Epoch 40: val_loss improved from 0.00889 to 0.00884, saving model to best_model.h5\n"
          ]
        },
        {
          "output_type": "stream",
          "name": "stderr",
          "text": [
            "WARNING:absl:You are saving your model as an HDF5 file via `model.save()` or `keras.saving.save_model(model)`. This file format is considered legacy. We recommend using instead the native Keras format, e.g. `model.save('my_model.keras')` or `keras.saving.save_model(model, 'my_model.keras')`. \n"
          ]
        },
        {
          "output_type": "stream",
          "name": "stdout",
          "text": [
            "\b\b\b\b\b\b\b\b\b\b\b\b\b\b\b\b\b\b\b\b\b\b\b\b\b\b\b\b\b\b\b\b\b\b\b\b\b\b\b\b\b\b\b\b\b\b\b\b\b\b\b\b\b\b\b\b\b\b\b\b\b\b\b\b\b\b\b\b\b\b\b\b\b\b\b\b\b\b\b\b\b\b\b\r\u001b[1m700/700\u001b[0m \u001b[32m━━━━━━━━━━━━━━━━━━━━\u001b[0m\u001b[37m\u001b[0m \u001b[1m6s\u001b[0m 8ms/step - loss: 1.3454 - mae: 0.0793 - mse: 1.3454 - val_loss: 0.0088 - val_mae: 0.0621 - val_mse: 0.0088 - learning_rate: 4.0000e-05\n",
            "Epoch 41/150\n",
            "\u001b[1m695/700\u001b[0m \u001b[32m━━━━━━━━━━━━━━━━━━━\u001b[0m\u001b[37m━\u001b[0m \u001b[1m0s\u001b[0m 5ms/step - loss: 3.2692 - mae: 0.0907 - mse: 3.2692\n",
            "Epoch 41: val_loss did not improve from 0.00884\n",
            "\u001b[1m700/700\u001b[0m \u001b[32m━━━━━━━━━━━━━━━━━━━━\u001b[0m\u001b[37m\u001b[0m \u001b[1m4s\u001b[0m 6ms/step - loss: 3.2518 - mae: 0.0906 - mse: 3.2518 - val_loss: 0.0089 - val_mae: 0.0622 - val_mse: 0.0089 - learning_rate: 4.0000e-05\n",
            "Epoch 42/150\n",
            "\u001b[1m691/700\u001b[0m \u001b[32m━━━━━━━━━━━━━━━━━━━\u001b[0m\u001b[37m━\u001b[0m \u001b[1m0s\u001b[0m 5ms/step - loss: 0.0309 - mae: 0.0712 - mse: 0.0309\n",
            "Epoch 42: val_loss did not improve from 0.00884\n",
            "\u001b[1m700/700\u001b[0m \u001b[32m━━━━━━━━━━━━━━━━━━━━\u001b[0m\u001b[37m\u001b[0m \u001b[1m5s\u001b[0m 6ms/step - loss: 0.0481 - mae: 0.0712 - mse: 0.0481 - val_loss: 0.0089 - val_mae: 0.0626 - val_mse: 0.0089 - learning_rate: 4.0000e-05\n",
            "Epoch 43/150\n",
            "\u001b[1m695/700\u001b[0m \u001b[32m━━━━━━━━━━━━━━━━━━━\u001b[0m\u001b[37m━\u001b[0m \u001b[1m0s\u001b[0m 7ms/step - loss: 0.2901 - mae: 0.0729 - mse: 0.2901\n",
            "Epoch 43: val_loss did not improve from 0.00884\n",
            "\u001b[1m700/700\u001b[0m \u001b[32m━━━━━━━━━━━━━━━━━━━━\u001b[0m\u001b[37m\u001b[0m \u001b[1m6s\u001b[0m 8ms/step - loss: 0.2982 - mae: 0.0729 - mse: 0.2982 - val_loss: 0.0090 - val_mae: 0.0625 - val_mse: 0.0090 - learning_rate: 4.0000e-05\n",
            "Epoch 44/150\n",
            "\u001b[1m693/700\u001b[0m \u001b[32m━━━━━━━━━━━━━━━━━━━\u001b[0m\u001b[37m━\u001b[0m \u001b[1m0s\u001b[0m 5ms/step - loss: 2.0164 - mae: 0.0829 - mse: 2.0164\n",
            "Epoch 44: ReduceLROnPlateau reducing learning rate to 1e-05.\n",
            "\n",
            "Epoch 44: val_loss did not improve from 0.00884\n",
            "\u001b[1m700/700\u001b[0m \u001b[32m━━━━━━━━━━━━━━━━━━━━\u001b[0m\u001b[37m\u001b[0m \u001b[1m4s\u001b[0m 6ms/step - loss: 2.0074 - mae: 0.0829 - mse: 2.0074 - val_loss: 0.0090 - val_mae: 0.0626 - val_mse: 0.0090 - learning_rate: 4.0000e-05\n",
            "Epoch 45/150\n",
            "\u001b[1m696/700\u001b[0m \u001b[32m━━━━━━━━━━━━━━━━━━━\u001b[0m\u001b[37m━\u001b[0m \u001b[1m0s\u001b[0m 6ms/step - loss: 0.2246 - mae: 0.0722 - mse: 0.2246\n",
            "Epoch 45: val_loss did not improve from 0.00884\n",
            "\u001b[1m700/700\u001b[0m \u001b[32m━━━━━━━━━━━━━━━━━━━━\u001b[0m\u001b[37m\u001b[0m \u001b[1m5s\u001b[0m 7ms/step - loss: 0.2318 - mae: 0.0722 - mse: 0.2318 - val_loss: 0.0089 - val_mae: 0.0622 - val_mse: 0.0089 - learning_rate: 1.0000e-05\n",
            "Epoch 46/150\n",
            "\u001b[1m690/700\u001b[0m \u001b[32m━━━━━━━━━━━━━━━━━━━\u001b[0m\u001b[37m━\u001b[0m \u001b[1m0s\u001b[0m 5ms/step - loss: 0.7986 - mae: 0.0765 - mse: 0.7986\n",
            "Epoch 46: val_loss did not improve from 0.00884\n",
            "\u001b[1m700/700\u001b[0m \u001b[32m━━━━━━━━━━━━━━━━━━━━\u001b[0m\u001b[37m\u001b[0m \u001b[1m5s\u001b[0m 6ms/step - loss: 0.8055 - mae: 0.0765 - mse: 0.8055 - val_loss: 0.0090 - val_mae: 0.0625 - val_mse: 0.0090 - learning_rate: 1.0000e-05\n",
            "Epoch 47/150\n",
            "\u001b[1m690/700\u001b[0m \u001b[32m━━━━━━━━━━━━━━━━━━━\u001b[0m\u001b[37m━\u001b[0m \u001b[1m0s\u001b[0m 5ms/step - loss: 0.2041 - mae: 0.0723 - mse: 0.2041\n",
            "Epoch 47: val_loss did not improve from 0.00884\n",
            "\u001b[1m700/700\u001b[0m \u001b[32m━━━━━━━━━━━━━━━━━━━━\u001b[0m\u001b[37m\u001b[0m \u001b[1m5s\u001b[0m 6ms/step - loss: 0.2204 - mae: 0.0724 - mse: 0.2204 - val_loss: 0.0090 - val_mae: 0.0624 - val_mse: 0.0090 - learning_rate: 1.0000e-05\n",
            "Epoch 48/150\n",
            "\u001b[1m699/700\u001b[0m \u001b[32m━━━━━━━━━━━━━━━━━━━\u001b[0m\u001b[37m━\u001b[0m \u001b[1m0s\u001b[0m 7ms/step - loss: 0.2009 - mae: 0.0730 - mse: 0.2009\n",
            "Epoch 48: val_loss did not improve from 0.00884\n",
            "\u001b[1m700/700\u001b[0m \u001b[32m━━━━━━━━━━━━━━━━━━━━\u001b[0m\u001b[37m\u001b[0m \u001b[1m6s\u001b[0m 7ms/step - loss: 0.2039 - mae: 0.0730 - mse: 0.2039 - val_loss: 0.0089 - val_mae: 0.0622 - val_mse: 0.0089 - learning_rate: 1.0000e-05\n",
            "Epoch 49/150\n",
            "\u001b[1m695/700\u001b[0m \u001b[32m━━━━━━━━━━━━━━━━━━━\u001b[0m\u001b[37m━\u001b[0m \u001b[1m0s\u001b[0m 6ms/step - loss: 2.0219 - mae: 0.0830 - mse: 2.0219\n",
            "Epoch 49: val_loss did not improve from 0.00884\n",
            "\u001b[1m700/700\u001b[0m \u001b[32m━━━━━━━━━━━━━━━━━━━━\u001b[0m\u001b[37m\u001b[0m \u001b[1m10s\u001b[0m 7ms/step - loss: 2.0151 - mae: 0.0830 - mse: 2.0151 - val_loss: 0.0089 - val_mae: 0.0622 - val_mse: 0.0089 - learning_rate: 1.0000e-05\n",
            "Epoch 50/150\n",
            "\u001b[1m694/700\u001b[0m \u001b[32m━━━━━━━━━━━━━━━━━━━\u001b[0m\u001b[37m━\u001b[0m \u001b[1m0s\u001b[0m 6ms/step - loss: 0.0330 - mae: 0.0724 - mse: 0.0330\n",
            "Epoch 50: val_loss did not improve from 0.00884\n",
            "\u001b[1m700/700\u001b[0m \u001b[32m━━━━━━━━━━━━━━━━━━━━\u001b[0m\u001b[37m\u001b[0m \u001b[1m5s\u001b[0m 7ms/step - loss: 0.0450 - mae: 0.0725 - mse: 0.0450 - val_loss: 0.0089 - val_mae: 0.0620 - val_mse: 0.0089 - learning_rate: 1.0000e-05\n",
            "Epoch 51/150\n",
            "\u001b[1m698/700\u001b[0m \u001b[32m━━━━━━━━━━━━━━━━━━━\u001b[0m\u001b[37m━\u001b[0m \u001b[1m0s\u001b[0m 5ms/step - loss: 3.0864 - mae: 0.0893 - mse: 3.0864\n",
            "Epoch 51: val_loss improved from 0.00884 to 0.00879, saving model to best_model.h5\n"
          ]
        },
        {
          "output_type": "stream",
          "name": "stderr",
          "text": [
            "WARNING:absl:You are saving your model as an HDF5 file via `model.save()` or `keras.saving.save_model(model)`. This file format is considered legacy. We recommend using instead the native Keras format, e.g. `model.save('my_model.keras')` or `keras.saving.save_model(model, 'my_model.keras')`. \n"
          ]
        },
        {
          "output_type": "stream",
          "name": "stdout",
          "text": [
            "\b\b\b\b\b\b\b\b\b\b\b\b\b\b\b\b\b\b\b\b\b\b\b\b\b\b\b\b\b\b\b\b\b\b\b\b\b\b\b\b\b\b\b\b\b\b\b\b\b\b\b\b\b\b\b\b\b\b\b\b\b\b\b\b\b\b\b\b\b\b\b\b\b\b\b\b\b\b\b\b\b\b\b\r\u001b[1m700/700\u001b[0m \u001b[32m━━━━━━━━━━━━━━━━━━━━\u001b[0m\u001b[37m\u001b[0m \u001b[1m4s\u001b[0m 6ms/step - loss: 3.0784 - mae: 0.0892 - mse: 3.0784 - val_loss: 0.0088 - val_mae: 0.0619 - val_mse: 0.0088 - learning_rate: 1.0000e-05\n",
            "Epoch 52/150\n",
            "\u001b[1m700/700\u001b[0m \u001b[32m━━━━━━━━━━━━━━━━━━━━\u001b[0m\u001b[37m\u001b[0m \u001b[1m0s\u001b[0m 6ms/step - loss: 0.6376 - mae: 0.0743 - mse: 0.6376\n",
            "Epoch 52: val_loss did not improve from 0.00879\n",
            "\u001b[1m700/700\u001b[0m \u001b[32m━━━━━━━━━━━━━━━━━━━━\u001b[0m\u001b[37m\u001b[0m \u001b[1m6s\u001b[0m 7ms/step - loss: 0.6385 - mae: 0.0743 - mse: 0.6385 - val_loss: 0.0089 - val_mae: 0.0621 - val_mse: 0.0089 - learning_rate: 1.0000e-05\n",
            "Epoch 53/150\n",
            "\u001b[1m699/700\u001b[0m \u001b[32m━━━━━━━━━━━━━━━━━━━\u001b[0m\u001b[37m━\u001b[0m \u001b[1m0s\u001b[0m 5ms/step - loss: 0.1420 - mae: 0.0718 - mse: 0.1420\n",
            "Epoch 53: val_loss did not improve from 0.00879\n",
            "\u001b[1m700/700\u001b[0m \u001b[32m━━━━━━━━━━━━━━━━━━━━\u001b[0m\u001b[37m\u001b[0m \u001b[1m4s\u001b[0m 6ms/step - loss: 0.1451 - mae: 0.0718 - mse: 0.1451 - val_loss: 0.0089 - val_mae: 0.0619 - val_mse: 0.0089 - learning_rate: 1.0000e-05\n",
            "Epoch 54/150\n",
            "\u001b[1m700/700\u001b[0m \u001b[32m━━━━━━━━━━━━━━━━━━━━\u001b[0m\u001b[37m\u001b[0m \u001b[1m0s\u001b[0m 5ms/step - loss: 0.5891 - mae: 0.0753 - mse: 0.5891\n",
            "Epoch 54: val_loss did not improve from 0.00879\n",
            "\u001b[1m700/700\u001b[0m \u001b[32m━━━━━━━━━━━━━━━━━━━━\u001b[0m\u001b[37m\u001b[0m \u001b[1m5s\u001b[0m 6ms/step - loss: 0.5900 - mae: 0.0753 - mse: 0.5900 - val_loss: 0.0089 - val_mae: 0.0621 - val_mse: 0.0089 - learning_rate: 1.0000e-05\n",
            "Epoch 55/150\n",
            "\u001b[1m696/700\u001b[0m \u001b[32m━━━━━━━━━━━━━━━━━━━\u001b[0m\u001b[37m━\u001b[0m \u001b[1m0s\u001b[0m 6ms/step - loss: 0.1009 - mae: 0.0716 - mse: 0.1009\n",
            "Epoch 55: val_loss did not improve from 0.00879\n",
            "\u001b[1m700/700\u001b[0m \u001b[32m━━━━━━━━━━━━━━━━━━━━\u001b[0m\u001b[37m\u001b[0m \u001b[1m6s\u001b[0m 7ms/step - loss: 0.1090 - mae: 0.0717 - mse: 0.1090 - val_loss: 0.0089 - val_mae: 0.0619 - val_mse: 0.0089 - learning_rate: 1.0000e-05\n",
            "Epoch 56/150\n",
            "\u001b[1m692/700\u001b[0m \u001b[32m━━━━━━━━━━━━━━━━━━━\u001b[0m\u001b[37m━\u001b[0m \u001b[1m0s\u001b[0m 5ms/step - loss: 1.5875 - mae: 0.0807 - mse: 1.5875\n",
            "Epoch 56: val_loss did not improve from 0.00879\n",
            "\u001b[1m700/700\u001b[0m \u001b[32m━━━━━━━━━━━━━━━━━━━━\u001b[0m\u001b[37m\u001b[0m \u001b[1m4s\u001b[0m 6ms/step - loss: 1.5830 - mae: 0.0807 - mse: 1.5830 - val_loss: 0.0089 - val_mae: 0.0621 - val_mse: 0.0089 - learning_rate: 1.0000e-05\n",
            "Epoch 57/150\n",
            "\u001b[1m698/700\u001b[0m \u001b[32m━━━━━━━━━━━━━━━━━━━\u001b[0m\u001b[37m━\u001b[0m \u001b[1m0s\u001b[0m 6ms/step - loss: 2.8768 - mae: 0.0893 - mse: 2.8768\n",
            "Epoch 57: val_loss improved from 0.00879 to 0.00877, saving model to best_model.h5\n"
          ]
        },
        {
          "output_type": "stream",
          "name": "stderr",
          "text": [
            "WARNING:absl:You are saving your model as an HDF5 file via `model.save()` or `keras.saving.save_model(model)`. This file format is considered legacy. We recommend using instead the native Keras format, e.g. `model.save('my_model.keras')` or `keras.saving.save_model(model, 'my_model.keras')`. \n"
          ]
        },
        {
          "output_type": "stream",
          "name": "stdout",
          "text": [
            "\b\b\b\b\b\b\b\b\b\b\b\b\b\b\b\b\b\b\b\b\b\b\b\b\b\b\b\b\b\b\b\b\b\b\b\b\b\b\b\b\b\b\b\b\b\b\b\b\b\b\b\b\b\b\b\b\b\b\b\b\b\b\b\b\b\b\b\b\b\b\b\b\b\b\b\b\b\b\b\b\b\b\b\r\u001b[1m700/700\u001b[0m \u001b[32m━━━━━━━━━━━━━━━━━━━━\u001b[0m\u001b[37m\u001b[0m \u001b[1m6s\u001b[0m 8ms/step - loss: 2.8698 - mae: 0.0892 - mse: 2.8698 - val_loss: 0.0088 - val_mae: 0.0617 - val_mse: 0.0088 - learning_rate: 1.0000e-05\n",
            "Epoch 58/150\n",
            "\u001b[1m694/700\u001b[0m \u001b[32m━━━━━━━━━━━━━━━━━━━\u001b[0m\u001b[37m━\u001b[0m \u001b[1m0s\u001b[0m 5ms/step - loss: 2.5890 - mae: 0.0867 - mse: 2.5890\n",
            "Epoch 58: val_loss did not improve from 0.00877\n",
            "\u001b[1m700/700\u001b[0m \u001b[32m━━━━━━━━━━━━━━━━━━━━\u001b[0m\u001b[37m\u001b[0m \u001b[1m4s\u001b[0m 6ms/step - loss: 2.5755 - mae: 0.0866 - mse: 2.5755 - val_loss: 0.0089 - val_mae: 0.0622 - val_mse: 0.0089 - learning_rate: 1.0000e-05\n",
            "Epoch 59/150\n",
            "\u001b[1m695/700\u001b[0m \u001b[32m━━━━━━━━━━━━━━━━━━━\u001b[0m\u001b[37m━\u001b[0m \u001b[1m0s\u001b[0m 5ms/step - loss: 0.9283 - mae: 0.0772 - mse: 0.9283\n",
            "Epoch 59: val_loss did not improve from 0.00877\n",
            "\u001b[1m700/700\u001b[0m \u001b[32m━━━━━━━━━━━━━━━━━━━━\u001b[0m\u001b[37m\u001b[0m \u001b[1m5s\u001b[0m 6ms/step - loss: 0.9310 - mae: 0.0772 - mse: 0.9310 - val_loss: 0.0089 - val_mae: 0.0624 - val_mse: 0.0089 - learning_rate: 1.0000e-05\n",
            "Epoch 60/150\n",
            "\u001b[1m697/700\u001b[0m \u001b[32m━━━━━━━━━━━━━━━━━━━\u001b[0m\u001b[37m━\u001b[0m \u001b[1m0s\u001b[0m 7ms/step - loss: 0.5807 - mae: 0.0751 - mse: 0.5807\n",
            "Epoch 60: val_loss did not improve from 0.00877\n",
            "\u001b[1m700/700\u001b[0m \u001b[32m━━━━━━━━━━━━━━━━━━━━\u001b[0m\u001b[37m\u001b[0m \u001b[1m5s\u001b[0m 8ms/step - loss: 0.5844 - mae: 0.0751 - mse: 0.5844 - val_loss: 0.0089 - val_mae: 0.0623 - val_mse: 0.0089 - learning_rate: 1.0000e-05\n",
            "Epoch 61/150\n",
            "\u001b[1m697/700\u001b[0m \u001b[32m━━━━━━━━━━━━━━━━━━━\u001b[0m\u001b[37m━\u001b[0m \u001b[1m0s\u001b[0m 5ms/step - loss: 0.0950 - mae: 0.0718 - mse: 0.0950\n",
            "Epoch 61: val_loss did not improve from 0.00877\n",
            "\u001b[1m700/700\u001b[0m \u001b[32m━━━━━━━━━━━━━━━━━━━━\u001b[0m\u001b[37m\u001b[0m \u001b[1m9s\u001b[0m 7ms/step - loss: 0.1015 - mae: 0.0718 - mse: 0.1015 - val_loss: 0.0090 - val_mae: 0.0626 - val_mse: 0.0090 - learning_rate: 1.0000e-05\n",
            "Epoch 62/150\n",
            "\u001b[1m694/700\u001b[0m \u001b[32m━━━━━━━━━━━━━━━━━━━\u001b[0m\u001b[37m━\u001b[0m \u001b[1m0s\u001b[0m 6ms/step - loss: 0.1268 - mae: 0.0713 - mse: 0.1268\n",
            "Epoch 62: val_loss did not improve from 0.00877\n",
            "\u001b[1m700/700\u001b[0m \u001b[32m━━━━━━━━━━━━━━━━━━━━\u001b[0m\u001b[37m\u001b[0m \u001b[1m5s\u001b[0m 7ms/step - loss: 0.1379 - mae: 0.0714 - mse: 0.1379 - val_loss: 0.0089 - val_mae: 0.0625 - val_mse: 0.0089 - learning_rate: 1.0000e-05\n",
            "Epoch 63/150\n",
            "\u001b[1m690/700\u001b[0m \u001b[32m━━━━━━━━━━━━━━━━━━━\u001b[0m\u001b[37m━\u001b[0m \u001b[1m0s\u001b[0m 5ms/step - loss: 0.0384 - mae: 0.0718 - mse: 0.0384\n",
            "Epoch 63: val_loss did not improve from 0.00877\n",
            "\u001b[1m700/700\u001b[0m \u001b[32m━━━━━━━━━━━━━━━━━━━━\u001b[0m\u001b[37m\u001b[0m \u001b[1m5s\u001b[0m 6ms/step - loss: 0.0572 - mae: 0.0719 - mse: 0.0572 - val_loss: 0.0089 - val_mae: 0.0621 - val_mse: 0.0089 - learning_rate: 1.0000e-05\n",
            "Epoch 64/150\n",
            "\u001b[1m696/700\u001b[0m \u001b[32m━━━━━━━━━━━━━━━━━━━\u001b[0m\u001b[37m━\u001b[0m \u001b[1m0s\u001b[0m 7ms/step - loss: 1.0430 - mae: 0.0773 - mse: 1.0430\n",
            "Epoch 64: val_loss did not improve from 0.00877\n",
            "\u001b[1m700/700\u001b[0m \u001b[32m━━━━━━━━━━━━━━━━━━━━\u001b[0m\u001b[37m\u001b[0m \u001b[1m6s\u001b[0m 7ms/step - loss: 1.0444 - mae: 0.0773 - mse: 1.0444 - val_loss: 0.0089 - val_mae: 0.0621 - val_mse: 0.0089 - learning_rate: 1.0000e-05\n",
            "Epoch 65/150\n",
            "\u001b[1m693/700\u001b[0m \u001b[32m━━━━━━━━━━━━━━━━━━━\u001b[0m\u001b[37m━\u001b[0m \u001b[1m0s\u001b[0m 5ms/step - loss: 0.0347 - mae: 0.0709 - mse: 0.0347\n",
            "Epoch 65: val_loss did not improve from 0.00877\n",
            "\u001b[1m700/700\u001b[0m \u001b[32m━━━━━━━━━━━━━━━━━━━━\u001b[0m\u001b[37m\u001b[0m \u001b[1m4s\u001b[0m 6ms/step - loss: 0.0485 - mae: 0.0710 - mse: 0.0485 - val_loss: 0.0089 - val_mae: 0.0619 - val_mse: 0.0089 - learning_rate: 1.0000e-05\n",
            "Epoch 66/150\n",
            "\u001b[1m693/700\u001b[0m \u001b[32m━━━━━━━━━━━━━━━━━━━\u001b[0m\u001b[37m━\u001b[0m \u001b[1m0s\u001b[0m 5ms/step - loss: 1.0304 - mae: 0.0767 - mse: 1.0304\n",
            "Epoch 66: val_loss did not improve from 0.00877\n",
            "\u001b[1m700/700\u001b[0m \u001b[32m━━━━━━━━━━━━━━━━━━━━\u001b[0m\u001b[37m\u001b[0m \u001b[1m4s\u001b[0m 6ms/step - loss: 1.0327 - mae: 0.0768 - mse: 1.0327 - val_loss: 0.0089 - val_mae: 0.0620 - val_mse: 0.0089 - learning_rate: 1.0000e-05\n",
            "Epoch 67/150\n",
            "\u001b[1m694/700\u001b[0m \u001b[32m━━━━━━━━━━━━━━━━━━━\u001b[0m\u001b[37m━\u001b[0m \u001b[1m0s\u001b[0m 6ms/step - loss: 0.6214 - mae: 0.0755 - mse: 0.6214\n",
            "Epoch 67: val_loss did not improve from 0.00877\n",
            "\u001b[1m700/700\u001b[0m \u001b[32m━━━━━━━━━━━━━━━━━━━━\u001b[0m\u001b[37m\u001b[0m \u001b[1m6s\u001b[0m 7ms/step - loss: 0.6275 - mae: 0.0756 - mse: 0.6275 - val_loss: 0.0089 - val_mae: 0.0621 - val_mse: 0.0089 - learning_rate: 1.0000e-05\n",
            "Epoch 68/150\n",
            "\u001b[1m693/700\u001b[0m \u001b[32m━━━━━━━━━━━━━━━━━━━\u001b[0m\u001b[37m━\u001b[0m \u001b[1m0s\u001b[0m 5ms/step - loss: 0.3607 - mae: 0.0731 - mse: 0.3607\n",
            "Epoch 68: val_loss did not improve from 0.00877\n",
            "\u001b[1m700/700\u001b[0m \u001b[32m━━━━━━━━━━━━━━━━━━━━\u001b[0m\u001b[37m\u001b[0m \u001b[1m4s\u001b[0m 6ms/step - loss: 0.3707 - mae: 0.0732 - mse: 0.3707 - val_loss: 0.0089 - val_mae: 0.0623 - val_mse: 0.0089 - learning_rate: 1.0000e-05\n",
            "Epoch 69/150\n",
            "\u001b[1m696/700\u001b[0m \u001b[32m━━━━━━━━━━━━━━━━━━━\u001b[0m\u001b[37m━\u001b[0m \u001b[1m0s\u001b[0m 6ms/step - loss: 0.7468 - mae: 0.0752 - mse: 0.7468\n",
            "Epoch 69: val_loss did not improve from 0.00877\n",
            "\u001b[1m700/700\u001b[0m \u001b[32m━━━━━━━━━━━━━━━━━━━━\u001b[0m\u001b[37m\u001b[0m \u001b[1m6s\u001b[0m 7ms/step - loss: 0.7503 - mae: 0.0752 - mse: 0.7503 - val_loss: 0.0089 - val_mae: 0.0619 - val_mse: 0.0089 - learning_rate: 1.0000e-05\n",
            "Epoch 70/150\n",
            "\u001b[1m698/700\u001b[0m \u001b[32m━━━━━━━━━━━━━━━━━━━\u001b[0m\u001b[37m━\u001b[0m \u001b[1m0s\u001b[0m 5ms/step - loss: 0.4752 - mae: 0.0738 - mse: 0.4752\n",
            "Epoch 70: val_loss improved from 0.00877 to 0.00874, saving model to best_model.h5\n"
          ]
        },
        {
          "output_type": "stream",
          "name": "stderr",
          "text": [
            "WARNING:absl:You are saving your model as an HDF5 file via `model.save()` or `keras.saving.save_model(model)`. This file format is considered legacy. We recommend using instead the native Keras format, e.g. `model.save('my_model.keras')` or `keras.saving.save_model(model, 'my_model.keras')`. \n"
          ]
        },
        {
          "output_type": "stream",
          "name": "stdout",
          "text": [
            "\b\b\b\b\b\b\b\b\b\b\b\b\b\b\b\b\b\b\b\b\b\b\b\b\b\b\b\b\b\b\b\b\b\b\b\b\b\b\b\b\b\b\b\b\b\b\b\b\b\b\b\b\b\b\b\b\b\b\b\b\b\b\b\b\b\b\b\b\b\b\b\b\b\b\b\b\b\b\b\b\b\b\b\r\u001b[1m700/700\u001b[0m \u001b[32m━━━━━━━━━━━━━━━━━━━━\u001b[0m\u001b[37m\u001b[0m \u001b[1m4s\u001b[0m 6ms/step - loss: 0.4784 - mae: 0.0739 - mse: 0.4784 - val_loss: 0.0087 - val_mae: 0.0617 - val_mse: 0.0087 - learning_rate: 1.0000e-05\n",
            "Epoch 71/150\n",
            "\u001b[1m694/700\u001b[0m \u001b[32m━━━━━━━━━━━━━━━━━━━\u001b[0m\u001b[37m━\u001b[0m \u001b[1m0s\u001b[0m 5ms/step - loss: 0.5796 - mae: 0.0744 - mse: 0.5796\n",
            "Epoch 71: val_loss did not improve from 0.00874\n",
            "\u001b[1m700/700\u001b[0m \u001b[32m━━━━━━━━━━━━━━━━━━━━\u001b[0m\u001b[37m\u001b[0m \u001b[1m5s\u001b[0m 6ms/step - loss: 0.5861 - mae: 0.0745 - mse: 0.5861 - val_loss: 0.0089 - val_mae: 0.0620 - val_mse: 0.0089 - learning_rate: 1.0000e-05\n",
            "Epoch 72/150\n",
            "\u001b[1m700/700\u001b[0m \u001b[32m━━━━━━━━━━━━━━━━━━━━\u001b[0m\u001b[37m\u001b[0m \u001b[1m0s\u001b[0m 7ms/step - loss: 0.8572 - mae: 0.0761 - mse: 0.8572\n",
            "Epoch 72: val_loss did not improve from 0.00874\n",
            "\u001b[1m700/700\u001b[0m \u001b[32m━━━━━━━━━━━━━━━━━━━━\u001b[0m\u001b[37m\u001b[0m \u001b[1m5s\u001b[0m 8ms/step - loss: 0.8577 - mae: 0.0761 - mse: 0.8577 - val_loss: 0.0088 - val_mae: 0.0620 - val_mse: 0.0088 - learning_rate: 1.0000e-05\n",
            "Epoch 73/150\n",
            "\u001b[1m695/700\u001b[0m \u001b[32m━━━━━━━━━━━━━━━━━━━\u001b[0m\u001b[37m━\u001b[0m \u001b[1m0s\u001b[0m 5ms/step - loss: 1.9285 - mae: 0.0831 - mse: 1.9285\n",
            "Epoch 73: val_loss did not improve from 0.00874\n",
            "\u001b[1m700/700\u001b[0m \u001b[32m━━━━━━━━━━━━━━━━━━━━\u001b[0m\u001b[37m\u001b[0m \u001b[1m4s\u001b[0m 6ms/step - loss: 1.9225 - mae: 0.0830 - mse: 1.9225 - val_loss: 0.0089 - val_mae: 0.0620 - val_mse: 0.0089 - learning_rate: 1.0000e-05\n",
            "Epoch 74/150\n",
            "\u001b[1m694/700\u001b[0m \u001b[32m━━━━━━━━━━━━━━━━━━━\u001b[0m\u001b[37m━\u001b[0m \u001b[1m0s\u001b[0m 5ms/step - loss: 0.0844 - mae: 0.0718 - mse: 0.0844\n",
            "Epoch 74: val_loss did not improve from 0.00874\n",
            "\u001b[1m700/700\u001b[0m \u001b[32m━━━━━━━━━━━━━━━━━━━━\u001b[0m\u001b[37m\u001b[0m \u001b[1m5s\u001b[0m 7ms/step - loss: 0.0959 - mae: 0.0719 - mse: 0.0959 - val_loss: 0.0089 - val_mae: 0.0620 - val_mse: 0.0089 - learning_rate: 1.0000e-05\n",
            "Epoch 75/150\n",
            "\u001b[1m699/700\u001b[0m \u001b[32m━━━━━━━━━━━━━━━━━━━\u001b[0m\u001b[37m━\u001b[0m \u001b[1m0s\u001b[0m 6ms/step - loss: 0.5142 - mae: 0.0756 - mse: 0.5142\n",
            "Epoch 75: val_loss did not improve from 0.00874\n",
            "\u001b[1m700/700\u001b[0m \u001b[32m━━━━━━━━━━━━━━━━━━━━\u001b[0m\u001b[37m\u001b[0m \u001b[1m5s\u001b[0m 7ms/step - loss: 0.5163 - mae: 0.0756 - mse: 0.5163 - val_loss: 0.0088 - val_mae: 0.0619 - val_mse: 0.0088 - learning_rate: 1.0000e-05\n",
            "Epoch 76/150\n",
            "\u001b[1m698/700\u001b[0m \u001b[32m━━━━━━━━━━━━━━━━━━━\u001b[0m\u001b[37m━\u001b[0m \u001b[1m0s\u001b[0m 5ms/step - loss: 0.3446 - mae: 0.0733 - mse: 0.3446\n",
            "Epoch 76: val_loss did not improve from 0.00874\n",
            "\u001b[1m700/700\u001b[0m \u001b[32m━━━━━━━━━━━━━━━━━━━━\u001b[0m\u001b[37m\u001b[0m \u001b[1m5s\u001b[0m 6ms/step - loss: 0.3484 - mae: 0.0733 - mse: 0.3484 - val_loss: 0.0088 - val_mae: 0.0615 - val_mse: 0.0088 - learning_rate: 1.0000e-05\n",
            "Epoch 77/150\n",
            "\u001b[1m691/700\u001b[0m \u001b[32m━━━━━━━━━━━━━━━━━━━\u001b[0m\u001b[37m━\u001b[0m \u001b[1m0s\u001b[0m 7ms/step - loss: 0.1806 - mae: 0.0724 - mse: 0.1806\n",
            "Epoch 77: val_loss did not improve from 0.00874\n",
            "\u001b[1m700/700\u001b[0m \u001b[32m━━━━━━━━━━━━━━━━━━━━\u001b[0m\u001b[37m\u001b[0m \u001b[1m6s\u001b[0m 7ms/step - loss: 0.1958 - mae: 0.0725 - mse: 0.1958 - val_loss: 0.0088 - val_mae: 0.0619 - val_mse: 0.0088 - learning_rate: 1.0000e-05\n",
            "Epoch 78/150\n",
            "\u001b[1m694/700\u001b[0m \u001b[32m━━━━━━━━━━━━━━━━━━━\u001b[0m\u001b[37m━\u001b[0m \u001b[1m0s\u001b[0m 5ms/step - loss: 1.0884 - mae: 0.0780 - mse: 1.0884\n",
            "Epoch 78: val_loss did not improve from 0.00874\n",
            "\u001b[1m700/700\u001b[0m \u001b[32m━━━━━━━━━━━━━━━━━━━━\u001b[0m\u001b[37m\u001b[0m \u001b[1m9s\u001b[0m 6ms/step - loss: 1.0899 - mae: 0.0780 - mse: 1.0899 - val_loss: 0.0087 - val_mae: 0.0612 - val_mse: 0.0087 - learning_rate: 1.0000e-05\n",
            "Epoch 79/150\n",
            "\u001b[1m691/700\u001b[0m \u001b[32m━━━━━━━━━━━━━━━━━━━\u001b[0m\u001b[37m━\u001b[0m \u001b[1m0s\u001b[0m 5ms/step - loss: 6.5497 - mae: 0.1104 - mse: 6.5497\n",
            "Epoch 79: val_loss did not improve from 0.00874\n",
            "\u001b[1m700/700\u001b[0m \u001b[32m━━━━━━━━━━━━━━━━━━━━\u001b[0m\u001b[37m\u001b[0m \u001b[1m5s\u001b[0m 6ms/step - loss: 6.4739 - mae: 0.1099 - mse: 6.4739 - val_loss: 0.0088 - val_mae: 0.0619 - val_mse: 0.0088 - learning_rate: 1.0000e-05\n",
            "Epoch 80/150\n",
            "\u001b[1m695/700\u001b[0m \u001b[32m━━━━━━━━━━━━━━━━━━━\u001b[0m\u001b[37m━\u001b[0m \u001b[1m0s\u001b[0m 5ms/step - loss: 4.0799 - mae: 0.0959 - mse: 4.0799\n",
            "Epoch 80: val_loss did not improve from 0.00874\n",
            "\u001b[1m700/700\u001b[0m \u001b[32m━━━━━━━━━━━━━━━━━━━━\u001b[0m\u001b[37m\u001b[0m \u001b[1m5s\u001b[0m 6ms/step - loss: 4.0556 - mae: 0.0958 - mse: 4.0556 - val_loss: 0.0088 - val_mae: 0.0616 - val_mse: 0.0088 - learning_rate: 1.0000e-05\n",
            "Epoch 81/150\n",
            "\u001b[1m696/700\u001b[0m \u001b[32m━━━━━━━━━━━━━━━━━━━\u001b[0m\u001b[37m━\u001b[0m \u001b[1m0s\u001b[0m 7ms/step - loss: 0.7897 - mae: 0.0757 - mse: 0.7897\n",
            "Epoch 81: val_loss did not improve from 0.00874\n",
            "\u001b[1m700/700\u001b[0m \u001b[32m━━━━━━━━━━━━━━━━━━━━\u001b[0m\u001b[37m\u001b[0m \u001b[1m6s\u001b[0m 8ms/step - loss: 0.7929 - mae: 0.0758 - mse: 0.7929 - val_loss: 0.0089 - val_mae: 0.0618 - val_mse: 0.0089 - learning_rate: 1.0000e-05\n",
            "Epoch 82/150\n",
            "\u001b[1m697/700\u001b[0m \u001b[32m━━━━━━━━━━━━━━━━━━━\u001b[0m\u001b[37m━\u001b[0m \u001b[1m0s\u001b[0m 5ms/step - loss: 2.2038 - mae: 0.0846 - mse: 2.2038\n",
            "Epoch 82: val_loss did not improve from 0.00874\n",
            "\u001b[1m700/700\u001b[0m \u001b[32m━━━━━━━━━━━━━━━━━━━━\u001b[0m\u001b[37m\u001b[0m \u001b[1m4s\u001b[0m 6ms/step - loss: 2.1982 - mae: 0.0846 - mse: 2.1982 - val_loss: 0.0088 - val_mae: 0.0617 - val_mse: 0.0088 - learning_rate: 1.0000e-05\n",
            "Epoch 83/150\n",
            "\u001b[1m697/700\u001b[0m \u001b[32m━━━━━━━━━━━━━━━━━━━\u001b[0m\u001b[37m━\u001b[0m \u001b[1m0s\u001b[0m 6ms/step - loss: 0.4632 - mae: 0.0736 - mse: 0.4632\n",
            "Epoch 83: val_loss did not improve from 0.00874\n",
            "\u001b[1m700/700\u001b[0m \u001b[32m━━━━━━━━━━━━━━━━━━━━\u001b[0m\u001b[37m\u001b[0m \u001b[1m5s\u001b[0m 7ms/step - loss: 0.4676 - mae: 0.0736 - mse: 0.4676 - val_loss: 0.0088 - val_mae: 0.0621 - val_mse: 0.0088 - learning_rate: 1.0000e-05\n",
            "Epoch 84/150\n",
            "\u001b[1m694/700\u001b[0m \u001b[32m━━━━━━━━━━━━━━━━━━━\u001b[0m\u001b[37m━\u001b[0m \u001b[1m0s\u001b[0m 6ms/step - loss: 0.0852 - mae: 0.0720 - mse: 0.0852\n",
            "Epoch 84: val_loss improved from 0.00874 to 0.00871, saving model to best_model.h5\n"
          ]
        },
        {
          "output_type": "stream",
          "name": "stderr",
          "text": [
            "WARNING:absl:You are saving your model as an HDF5 file via `model.save()` or `keras.saving.save_model(model)`. This file format is considered legacy. We recommend using instead the native Keras format, e.g. `model.save('my_model.keras')` or `keras.saving.save_model(model, 'my_model.keras')`. \n"
          ]
        },
        {
          "output_type": "stream",
          "name": "stdout",
          "text": [
            "\b\b\b\b\b\b\b\b\b\b\b\b\b\b\b\b\b\b\b\b\b\b\b\b\b\b\b\b\b\b\b\b\b\b\b\b\b\b\b\b\b\b\b\b\b\b\b\b\b\b\b\b\b\b\b\b\b\b\b\b\b\b\b\b\b\b\b\b\b\b\b\b\b\b\b\b\b\b\b\b\b\b\b\r\u001b[1m700/700\u001b[0m \u001b[32m━━━━━━━━━━━━━━━━━━━━\u001b[0m\u001b[37m\u001b[0m \u001b[1m5s\u001b[0m 7ms/step - loss: 0.0967 - mae: 0.0720 - mse: 0.0967 - val_loss: 0.0087 - val_mae: 0.0615 - val_mse: 0.0087 - learning_rate: 1.0000e-05\n",
            "Epoch 85/150\n",
            "\u001b[1m698/700\u001b[0m \u001b[32m━━━━━━━━━━━━━━━━━━━\u001b[0m\u001b[37m━\u001b[0m \u001b[1m0s\u001b[0m 5ms/step - loss: 0.0670 - mae: 0.0717 - mse: 0.0670\n",
            "Epoch 85: val_loss did not improve from 0.00871\n",
            "\u001b[1m700/700\u001b[0m \u001b[32m━━━━━━━━━━━━━━━━━━━━\u001b[0m\u001b[37m\u001b[0m \u001b[1m4s\u001b[0m 6ms/step - loss: 0.0720 - mae: 0.0717 - mse: 0.0720 - val_loss: 0.0088 - val_mae: 0.0619 - val_mse: 0.0088 - learning_rate: 1.0000e-05\n",
            "Epoch 86/150\n",
            "\u001b[1m698/700\u001b[0m \u001b[32m━━━━━━━━━━━━━━━━━━━\u001b[0m\u001b[37m━\u001b[0m \u001b[1m0s\u001b[0m 7ms/step - loss: 0.1741 - mae: 0.0729 - mse: 0.1741\n",
            "Epoch 86: val_loss did not improve from 0.00871\n",
            "\u001b[1m700/700\u001b[0m \u001b[32m━━━━━━━━━━━━━━━━━━━━\u001b[0m\u001b[37m\u001b[0m \u001b[1m6s\u001b[0m 8ms/step - loss: 0.1786 - mae: 0.0729 - mse: 0.1786 - val_loss: 0.0088 - val_mae: 0.0618 - val_mse: 0.0088 - learning_rate: 1.0000e-05\n",
            "Epoch 87/150\n",
            "\u001b[1m698/700\u001b[0m \u001b[32m━━━━━━━━━━━━━━━━━━━\u001b[0m\u001b[37m━\u001b[0m \u001b[1m0s\u001b[0m 5ms/step - loss: 0.2211 - mae: 0.0722 - mse: 0.2211\n",
            "Epoch 87: val_loss did not improve from 0.00871\n",
            "\u001b[1m700/700\u001b[0m \u001b[32m━━━━━━━━━━━━━━━━━━━━\u001b[0m\u001b[37m\u001b[0m \u001b[1m9s\u001b[0m 6ms/step - loss: 0.2254 - mae: 0.0722 - mse: 0.2254 - val_loss: 0.0088 - val_mae: 0.0617 - val_mse: 0.0088 - learning_rate: 1.0000e-05\n",
            "Epoch 88/150\n",
            "\u001b[1m693/700\u001b[0m \u001b[32m━━━━━━━━━━━━━━━━━━━\u001b[0m\u001b[37m━\u001b[0m \u001b[1m0s\u001b[0m 6ms/step - loss: 1.0347 - mae: 0.0776 - mse: 1.0347\n",
            "Epoch 88: val_loss did not improve from 0.00871\n",
            "\u001b[1m700/700\u001b[0m \u001b[32m━━━━━━━━━━━━━━━━━━━━\u001b[0m\u001b[37m\u001b[0m \u001b[1m6s\u001b[0m 7ms/step - loss: 1.0370 - mae: 0.0776 - mse: 1.0370 - val_loss: 0.0087 - val_mae: 0.0616 - val_mse: 0.0087 - learning_rate: 1.0000e-05\n",
            "Epoch 89/150\n",
            "\u001b[1m695/700\u001b[0m \u001b[32m━━━━━━━━━━━━━━━━━━━\u001b[0m\u001b[37m━\u001b[0m \u001b[1m0s\u001b[0m 5ms/step - loss: 0.0385 - mae: 0.0723 - mse: 0.0385\n",
            "Epoch 89: val_loss did not improve from 0.00871\n",
            "\u001b[1m700/700\u001b[0m \u001b[32m━━━━━━━━━━━━━━━━━━━━\u001b[0m\u001b[37m\u001b[0m \u001b[1m4s\u001b[0m 6ms/step - loss: 0.0487 - mae: 0.0724 - mse: 0.0487 - val_loss: 0.0088 - val_mae: 0.0616 - val_mse: 0.0088 - learning_rate: 1.0000e-05\n",
            "Epoch 90/150\n",
            "\u001b[1m690/700\u001b[0m \u001b[32m━━━━━━━━━━━━━━━━━━━\u001b[0m\u001b[37m━\u001b[0m \u001b[1m0s\u001b[0m 7ms/step - loss: 0.4390 - mae: 0.0741 - mse: 0.4390\n",
            "Epoch 90: val_loss did not improve from 0.00871\n",
            "\u001b[1m700/700\u001b[0m \u001b[32m━━━━━━━━━━━━━━━━━━━━\u001b[0m\u001b[37m\u001b[0m \u001b[1m6s\u001b[0m 8ms/step - loss: 0.4515 - mae: 0.0741 - mse: 0.4515 - val_loss: 0.0088 - val_mae: 0.0617 - val_mse: 0.0088 - learning_rate: 1.0000e-05\n",
            "Epoch 91/150\n",
            "\u001b[1m691/700\u001b[0m \u001b[32m━━━━━━━━━━━━━━━━━━━\u001b[0m\u001b[37m━\u001b[0m \u001b[1m0s\u001b[0m 5ms/step - loss: 0.3860 - mae: 0.0733 - mse: 0.3860\n",
            "Epoch 91: val_loss did not improve from 0.00871\n",
            "\u001b[1m700/700\u001b[0m \u001b[32m━━━━━━━━━━━━━━━━━━━━\u001b[0m\u001b[37m\u001b[0m \u001b[1m9s\u001b[0m 6ms/step - loss: 0.3982 - mae: 0.0734 - mse: 0.3982 - val_loss: 0.0088 - val_mae: 0.0616 - val_mse: 0.0088 - learning_rate: 1.0000e-05\n",
            "Epoch 92/150\n",
            "\u001b[1m699/700\u001b[0m \u001b[32m━━━━━━━━━━━━━━━━━━━\u001b[0m\u001b[37m━\u001b[0m \u001b[1m0s\u001b[0m 6ms/step - loss: 0.6481 - mae: 0.0748 - mse: 0.6481\n",
            "Epoch 92: val_loss did not improve from 0.00871\n",
            "\u001b[1m700/700\u001b[0m \u001b[32m━━━━━━━━━━━━━━━━━━━━\u001b[0m\u001b[37m\u001b[0m \u001b[1m5s\u001b[0m 6ms/step - loss: 0.6498 - mae: 0.0748 - mse: 0.6498 - val_loss: 0.0088 - val_mae: 0.0617 - val_mse: 0.0088 - learning_rate: 1.0000e-05\n",
            "Epoch 93/150\n",
            "\u001b[1m692/700\u001b[0m \u001b[32m━━━━━━━━━━━━━━━━━━━\u001b[0m\u001b[37m━\u001b[0m \u001b[1m0s\u001b[0m 5ms/step - loss: 1.0209 - mae: 0.0766 - mse: 1.0209\n",
            "Epoch 93: val_loss did not improve from 0.00871\n",
            "\u001b[1m700/700\u001b[0m \u001b[32m━━━━━━━━━━━━━━━━━━━━\u001b[0m\u001b[37m\u001b[0m \u001b[1m5s\u001b[0m 6ms/step - loss: 1.0236 - mae: 0.0766 - mse: 1.0236 - val_loss: 0.0088 - val_mae: 0.0618 - val_mse: 0.0088 - learning_rate: 1.0000e-05\n",
            "Epoch 94/150\n",
            "\u001b[1m692/700\u001b[0m \u001b[32m━━━━━━━━━━━━━━━━━━━\u001b[0m\u001b[37m━\u001b[0m \u001b[1m0s\u001b[0m 7ms/step - loss: 0.1493 - mae: 0.0719 - mse: 0.1493\n",
            "Epoch 94: val_loss did not improve from 0.00871\n",
            "\u001b[1m700/700\u001b[0m \u001b[32m━━━━━━━━━━━━━━━━━━━━\u001b[0m\u001b[37m\u001b[0m \u001b[1m6s\u001b[0m 8ms/step - loss: 0.1633 - mae: 0.0720 - mse: 0.1633 - val_loss: 0.0088 - val_mae: 0.0618 - val_mse: 0.0088 - learning_rate: 1.0000e-05\n",
            "Epoch 95/150\n",
            "\u001b[1m700/700\u001b[0m \u001b[32m━━━━━━━━━━━━━━━━━━━━\u001b[0m\u001b[37m\u001b[0m \u001b[1m0s\u001b[0m 6ms/step - loss: 1.8528 - mae: 0.0821 - mse: 1.8528\n",
            "Epoch 95: val_loss did not improve from 0.00871\n",
            "\u001b[1m700/700\u001b[0m \u001b[32m━━━━━━━━━━━━━━━━━━━━\u001b[0m\u001b[37m\u001b[0m \u001b[1m5s\u001b[0m 7ms/step - loss: 1.8519 - mae: 0.0821 - mse: 1.8519 - val_loss: 0.0088 - val_mae: 0.0615 - val_mse: 0.0088 - learning_rate: 1.0000e-05\n",
            "Epoch 96/150\n",
            "\u001b[1m697/700\u001b[0m \u001b[32m━━━━━━━━━━━━━━━━━━━\u001b[0m\u001b[37m━\u001b[0m \u001b[1m0s\u001b[0m 5ms/step - loss: 0.6717 - mae: 0.0751 - mse: 0.6717\n",
            "Epoch 96: val_loss did not improve from 0.00871\n",
            "\u001b[1m700/700\u001b[0m \u001b[32m━━━━━━━━━━━━━━━━━━━━\u001b[0m\u001b[37m\u001b[0m \u001b[1m6s\u001b[0m 7ms/step - loss: 0.6749 - mae: 0.0752 - mse: 0.6749 - val_loss: 0.0088 - val_mae: 0.0615 - val_mse: 0.0088 - learning_rate: 1.0000e-05\n",
            "Epoch 97/150\n",
            "\u001b[1m700/700\u001b[0m \u001b[32m━━━━━━━━━━━━━━━━━━━━\u001b[0m\u001b[37m\u001b[0m \u001b[1m0s\u001b[0m 6ms/step - loss: 1.1569 - mae: 0.0785 - mse: 1.1569\n",
            "Epoch 97: val_loss did not improve from 0.00871\n",
            "\u001b[1m700/700\u001b[0m \u001b[32m━━━━━━━━━━━━━━━━━━━━\u001b[0m\u001b[37m\u001b[0m \u001b[1m5s\u001b[0m 6ms/step - loss: 1.1570 - mae: 0.0785 - mse: 1.1570 - val_loss: 0.0088 - val_mae: 0.0615 - val_mse: 0.0088 - learning_rate: 1.0000e-05\n",
            "Epoch 98/150\n",
            "\u001b[1m700/700\u001b[0m \u001b[32m━━━━━━━━━━━━━━━━━━━━\u001b[0m\u001b[37m\u001b[0m \u001b[1m0s\u001b[0m 5ms/step - loss: 0.4230 - mae: 0.0731 - mse: 0.4230\n",
            "Epoch 98: val_loss did not improve from 0.00871\n",
            "\u001b[1m700/700\u001b[0m \u001b[32m━━━━━━━━━━━━━━━━━━━━\u001b[0m\u001b[37m\u001b[0m \u001b[1m5s\u001b[0m 6ms/step - loss: 0.4241 - mae: 0.0732 - mse: 0.4241 - val_loss: 0.0089 - val_mae: 0.0619 - val_mse: 0.0089 - learning_rate: 1.0000e-05\n",
            "Epoch 99/150\n",
            "\u001b[1m696/700\u001b[0m \u001b[32m━━━━━━━━━━━━━━━━━━━\u001b[0m\u001b[37m━\u001b[0m \u001b[1m0s\u001b[0m 7ms/step - loss: 2.0787 - mae: 0.0841 - mse: 2.0787\n",
            "Epoch 99: val_loss did not improve from 0.00871\n",
            "\u001b[1m700/700\u001b[0m \u001b[32m━━━━━━━━━━━━━━━━━━━━\u001b[0m\u001b[37m\u001b[0m \u001b[1m5s\u001b[0m 8ms/step - loss: 2.0727 - mae: 0.0841 - mse: 2.0727 - val_loss: 0.0089 - val_mae: 0.0617 - val_mse: 0.0089 - learning_rate: 1.0000e-05\n",
            "Epoch 99: early stopping\n",
            "Restoring model weights from the end of the best epoch: 84.\n"
          ]
        }
      ],
      "execution_count": 302,
      "id": "o4bzBo6xw1ER"
    },
    {
      "cell_type": "code",
      "source": [
        "y_train_pred_scaled = model.predict(X_train_scaled)\n",
        "y_train_pred = y_scaler.inverse_transform(y_train_pred_scaled)\n",
        "\n",
        "train_mse = mean_squared_error(y_train, y_train_pred)\n",
        "train_rmse = np.sqrt(train_mse)\n",
        "train_r2 = r2_score(y_train, y_train_pred)\n",
        "y_pred_scaled = model.predict(X_test_scaled)\n",
        "y_pred = y_scaler.inverse_transform(y_pred_scaled)\n",
        "\n",
        "mse = mean_squared_error(y_test, y_pred)\n",
        "rmse = np.sqrt(mse)\n",
        "r2 = r2_score(y_test, y_pred)\n",
        "\n",
        "# Add neural network results to DataFrame\n",
        "final_results_df_2 = pd.concat([final_results_df_2, pd.DataFrame([{\n",
        "    'Model': 'Neural Network',\n",
        "    'Train_RMSE': train_rmse,\n",
        "    'Test_RMSE': rmse,\n",
        "    'Train_R2': train_r2,\n",
        "    'Test_R2': r2\n",
        "}])], ignore_index=True)"
      ],
      "metadata": {
        "id": "LiQlTjeBw1ER",
        "colab": {
          "base_uri": "https://localhost:8080/"
        },
        "outputId": "cbfd3c1b-5d82-4809-b546-562753487b70"
      },
      "execution_count": 303,
      "outputs": [
        {
          "output_type": "stream",
          "name": "stdout",
          "text": [
            "\u001b[1m875/875\u001b[0m \u001b[32m━━━━━━━━━━━━━━━━━━━━\u001b[0m\u001b[37m\u001b[0m \u001b[1m2s\u001b[0m 2ms/step\n",
            "\u001b[1m375/375\u001b[0m \u001b[32m━━━━━━━━━━━━━━━━━━━━\u001b[0m\u001b[37m\u001b[0m \u001b[1m1s\u001b[0m 2ms/step\n"
          ]
        },
        {
          "output_type": "stream",
          "name": "stderr",
          "text": [
            "<ipython-input-303-d2c902719745>:15: FutureWarning: The behavior of DataFrame concatenation with empty or all-NA entries is deprecated. In a future version, this will no longer exclude empty or all-NA columns when determining the result dtypes. To retain the old behavior, exclude the relevant entries before the concat operation.\n",
            "  final_results_df_2 = pd.concat([final_results_df_2, pd.DataFrame([{\n"
          ]
        }
      ],
      "id": "LiQlTjeBw1ER"
    },
    {
      "cell_type": "code",
      "source": [
        "# Evaluate the model\n",
        "print(\"\\nModel Performance Metrics:\")\n",
        "print(f\"Root Mean Squared Error: {rmse:.2f}\")\n",
        "print(f\"R-squared Score: {r2:.4f}\")\n"
      ],
      "metadata": {
        "id": "slPP73Vvw1ER",
        "colab": {
          "base_uri": "https://localhost:8080/"
        },
        "outputId": "fd11a1a8-92a6-49eb-8f69-f70467888f6b"
      },
      "execution_count": 304,
      "outputs": [
        {
          "output_type": "stream",
          "name": "stdout",
          "text": [
            "\n",
            "Model Performance Metrics:\n",
            "Root Mean Squared Error: 45535.03\n",
            "R-squared Score: 0.5003\n"
          ]
        }
      ],
      "id": "slPP73Vvw1ER"
    },
    {
      "cell_type": "code",
      "source": [
        "# Plot MAE\n",
        "plt.subplot(1, 3, 2)\n",
        "plt.plot(history.history['mae'], label='Training MAE')\n",
        "plt.plot(history.history['val_mae'], label='Validation MAE')\n",
        "plt.title('Model MAE')\n",
        "plt.xlabel('Epoch')\n",
        "plt.ylabel('MAE')\n",
        "plt.legend()\n",
        "\n"
      ],
      "metadata": {
        "id": "bwthB0yJw1ER",
        "colab": {
          "base_uri": "https://localhost:8080/",
          "height": 490
        },
        "outputId": "18f1e9a5-dcdc-4090-8114-8cdf7847e377"
      },
      "execution_count": 305,
      "outputs": [
        {
          "output_type": "execute_result",
          "data": {
            "text/plain": [
              "<matplotlib.legend.Legend at 0x7d5441185410>"
            ]
          },
          "metadata": {},
          "execution_count": 305
        },
        {
          "output_type": "display_data",
          "data": {
            "text/plain": [
              "<Figure size 640x480 with 1 Axes>"
            ],
            "image/png": "[encoded data removed]"
          },
          "metadata": {}
        }
      ],
      "id": "bwthB0yJw1ER"
    },
    {
      "cell_type": "code",
      "source": [
        "dt_param_grid = {\n",
        "    'max_depth': [5, 10, ],\n",
        "    'min_samples_split': [2, 5],\n",
        "    'min_samples_leaf': [1, 2]\n",
        "}\n",
        "\n",
        "# Create grid search for Decision Tree\n",
        "dt_grid_search = GridSearchCV(\n",
        "    estimator=DecisionTreeRegressor(random_state=42),\n",
        "    param_grid=dt_param_grid,\n",
        "    cv=5,\n",
        "    scoring='neg_mean_squared_error',\n",
        "    n_jobs=-1,\n",
        "    verbose=1\n",
        ")"
      ],
      "metadata": {
        "id": "YjuqRHFS1Jia"
      },
      "id": "YjuqRHFS1Jia",
      "execution_count": 306,
      "outputs": []
    },
    {
      "cell_type": "code",
      "source": [
        "# Fit grid search\n",
        "dt_grid_search.fit(X_train_scaled, y_train_scaled.ravel())\n",
        "\n",
        "# Print best parameters\n",
        "print(\"Best Decision Tree Parameters:\", dt_grid_search.best_params_)\n",
        "print(\"Best CV Score (RMSE):\", np.sqrt(-dt_grid_search.best_score_))\n",
        "\n"
      ],
      "metadata": {
        "id": "S9wyRh4rw1ER",
        "colab": {
          "base_uri": "https://localhost:8080/"
        },
        "outputId": "b8512f6f-dcb2-4151-aa6d-ccc13dd28199"
      },
      "execution_count": 307,
      "outputs": [
        {
          "output_type": "stream",
          "name": "stdout",
          "text": [
            "Fitting 5 folds for each of 8 candidates, totalling 40 fits\n",
            "Best Decision Tree Parameters: {'max_depth': 10, 'min_samples_leaf': 1, 'min_samples_split': 5}\n",
            "Best CV Score (RMSE): 0.9958112752098253\n"
          ]
        }
      ],
      "id": "S9wyRh4rw1ER"
    },
    {
      "cell_type": "code",
      "source": [
        "# Get best model\n",
        "dt_best = dt_grid_search.best_estimator_\n",
        "\n",
        "# Make predictions (scaled)\n",
        "dt_train_pred = dt_best.predict(X_train_scaled)\n",
        "dt_test_pred = dt_best.predict(X_test_scaled)\n",
        "\n",
        "# Inverse transform to get original scale\n",
        "dt_train_pred_orig = y_scaler.inverse_transform(dt_train_pred.reshape(-1, 1))\n",
        "dt_test_pred_orig = y_scaler.inverse_transform(dt_test_pred.reshape(-1, 1))\n",
        "y_train_orig = y_scaler.inverse_transform(y_train_scaled)\n",
        "y_test_orig = y_scaler.inverse_transform(y_test_scaled)\n",
        "\n",
        "# Calculate metrics on original scale\n",
        "dt_train_rmse = np.sqrt(mean_squared_error(y_train_orig, dt_train_pred_orig))\n",
        "dt_test_rmse = np.sqrt(mean_squared_error(y_test_orig, dt_test_pred_orig))\n",
        "dt_train_r2 = r2_score(y_train_orig, dt_train_pred_orig)\n",
        "dt_test_r2 = r2_score(y_test_orig, dt_test_pred_orig)\n",
        "\n",
        "# Add results to DataFrame\n",
        "final_results_df_2 = pd.concat([final_results_df_2, pd.DataFrame([{\n",
        "    'Model': 'Decision Tree',\n",
        "    'Train_RMSE': dt_train_rmse,\n",
        "    'Test_RMSE': dt_test_rmse,\n",
        "    'Train_R2': dt_train_r2,\n",
        "    'Test_R2': dt_test_r2\n",
        "}])], ignore_index=True)\n"
      ],
      "metadata": {
        "id": "fwiqFVRCw1ER"
      },
      "execution_count": 308,
      "outputs": [],
      "id": "fwiqFVRCw1ER"
    },
    {
      "cell_type": "code",
      "source": [
        "# Evaluate the model\n",
        "print(\"\\nModel Performance Metrics:\")\n",
        "print(f\"Root Mean Squared Error: {dt_test_rmse:.2f}\")\n",
        "print(f\"R-squared Score: {dt_test_r2:.4f}\")"
      ],
      "metadata": {
        "id": "mqGen6Fow1ER",
        "colab": {
          "base_uri": "https://localhost:8080/"
        },
        "outputId": "8b196035-7afb-46eb-f693-682c2fc4ab3d"
      },
      "execution_count": 309,
      "outputs": [
        {
          "output_type": "stream",
          "name": "stdout",
          "text": [
            "\n",
            "Model Performance Metrics:\n",
            "Root Mean Squared Error: 46888.62\n",
            "R-squared Score: 0.4701\n"
          ]
        }
      ],
      "id": "mqGen6Fow1ER"
    },
    {
      "cell_type": "code",
      "source": [
        "#Gradient Boosting\n",
        "# Define parameter grid with only n_estimators\n",
        "gb_param_grid = {\n",
        "    'n_estimators': [50, 100]\n",
        "}\n",
        "\n",
        "# Create grid search\n",
        "gb_grid_search = GridSearchCV(\n",
        "    estimator=GradientBoostingRegressor(\n",
        "        learning_rate=0.01,\n",
        "        max_depth=3,\n",
        "        subsample=0.8,\n",
        "        random_state=42\n",
        "    ),\n",
        "    param_grid=gb_param_grid,\n",
        "    cv=5,\n",
        "    scoring='neg_mean_squared_error',\n",
        "    n_jobs=-1,\n",
        "    verbose=1\n",
        ")\n",
        "\n",
        "# Fit grid search\n",
        "gb_grid_search.fit(X_train_scaled, y_train_scaled.ravel())\n",
        "\n",
        "# Print best parameters\n",
        "print(\"Best Gradient Boosting Parameters:\", gb_grid_search.best_params_)\n",
        "print(\"Best CV Score (RMSE):\", np.sqrt(-gb_grid_search.best_score_))\n",
        "\n",
        "# Get best model\n",
        "gb_best = gb_grid_search.best_estimator_\n",
        "\n",
        "# Make predictions (scaled)\n",
        "gb_train_pred = gb_best.predict(X_train_scaled)\n",
        "gb_test_pred = gb_best.predict(X_test_scaled)\n",
        "\n",
        "# Inverse transform to get original scale\n",
        "gb_train_pred_orig = y_scaler.inverse_transform(gb_train_pred.reshape(-1, 1))\n",
        "gb_test_pred_orig = y_scaler.inverse_transform(gb_test_pred.reshape(-1, 1))\n",
        "\n",
        "# Calculate metrics on original scale\n",
        "gb_train_rmse = np.sqrt(mean_squared_error(y_train_orig, gb_train_pred_orig))\n",
        "gb_test_rmse = np.sqrt(mean_squared_error(y_test_orig, gb_test_pred_orig))\n",
        "gb_train_r2 = r2_score(y_train_orig, gb_train_pred_orig)\n",
        "gb_test_r2 = r2_score(y_test_orig, gb_test_pred_orig)\n",
        "\n",
        "# Add results to DataFrame\n",
        "final_results_df_2 = pd.concat([final_results_df_2, pd.DataFrame([{\n",
        "    'Model': 'Gradient Boosting',\n",
        "    'Train_RMSE': gb_train_rmse,\n",
        "    'Test_RMSE': gb_test_rmse,\n",
        "    'Train_R2': gb_train_r2,\n",
        "    'Test_R2': gb_test_r2\n",
        "}])], ignore_index=True)"
      ],
      "metadata": {
        "id": "6s7qz_bKw1ER",
        "colab": {
          "base_uri": "https://localhost:8080/"
        },
        "outputId": "ca86761e-664f-4695-9cfc-485e5b8e4a3c"
      },
      "execution_count": 310,
      "outputs": [
        {
          "output_type": "stream",
          "name": "stdout",
          "text": [
            "Fitting 5 folds for each of 2 candidates, totalling 10 fits\n",
            "Best Gradient Boosting Parameters: {'n_estimators': 50}\n",
            "Best CV Score (RMSE): 0.9990316826561988\n"
          ]
        }
      ],
      "id": "6s7qz_bKw1ER"
    },
    {
      "cell_type": "code",
      "source": [
        "# Print Gradient Boosting results\n",
        "print(\"\\nTuned Gradient Boosting Performance:\")\n",
        "print(f\"Training RMSE: {gb_train_rmse:.2f}\")\n",
        "print(f\"Testing RMSE: {gb_test_rmse:.2f}\")\n",
        "print(f\"Training R²: {gb_train_r2:.4f}\")\n",
        "print(f\"Testing R²: {gb_test_r2:.4f}\")"
      ],
      "metadata": {
        "id": "OYGh_g4zw1ES",
        "colab": {
          "base_uri": "https://localhost:8080/"
        },
        "outputId": "19e571fc-91b3-4573-c842-7c6ad48fda08"
      },
      "execution_count": 311,
      "outputs": [
        {
          "output_type": "stream",
          "name": "stdout",
          "text": [
            "\n",
            "Tuned Gradient Boosting Performance:\n",
            "Training RMSE: 358548.69\n",
            "Testing RMSE: 59888.62\n",
            "Training R²: 0.5093\n",
            "Testing R²: 0.1356\n"
          ]
        }
      ],
      "id": "OYGh_g4zw1ES"
    },
    {
      "cell_type": "code",
      "source": [
        "# Display final model comparison\n",
        "print(\"\\nFinal Model Comparison:\")\n",
        "print(final_results_df_2)"
      ],
      "metadata": {
        "id": "pzrS1dHegho0",
        "colab": {
          "base_uri": "https://localhost:8080/"
        },
        "outputId": "8aa1bd7d-6358-4e99-a60f-cfdb0f7574a5"
      },
      "id": "pzrS1dHegho0",
      "execution_count": 312,
      "outputs": [
        {
          "output_type": "stream",
          "name": "stdout",
          "text": [
            "\n",
            "Final Model Comparison:\n",
            "               Model     Train_RMSE     Test_RMSE  Train_R2   Test_R2\n",
            "0     Neural Network  497846.567336  45535.034424  0.053949  0.500267\n",
            "1      Decision Tree   44817.855461  46888.618490  0.992333  0.470115\n",
            "2  Gradient Boosting  358548.690672  59888.620254  0.509296  0.135559\n"
          ]
        }
      ]
    },
    {
      "cell_type": "code",
      "source": [],
      "metadata": {
        "id": "qILW-1dzCGRd"
      },
      "id": "qILW-1dzCGRd",
      "execution_count": 57,
      "outputs": []
    },
    {
      "metadata": {
        "ExecuteTime": {
          "end_time": "2025-02-21T03:12:26.321686Z",
          "start_time": "2025-02-21T03:12:26.275569Z"
        },
        "id": "pp-6KelRCKTc"
      },
      "cell_type": "code",
      "source": [
        "# Split dataset into train and test sets\n",
        "X_train, X_test, y_train, y_test = train_test_split(X_selected, y_3, test_size=0.3, random_state=42)"
      ],
      "outputs": [],
      "execution_count": 58,
      "id": "pp-6KelRCKTc"
    },
    {
      "metadata": {
        "id": "MIjfDdTRCKTd"
      },
      "cell_type": "markdown",
      "source": [
        "# feature selection"
      ],
      "id": "MIjfDdTRCKTd"
    },
    {
      "metadata": {
        "ExecuteTime": {
          "end_time": "2025-02-21T03:18:01.479819Z",
          "start_time": "2025-02-21T03:13:28.539968Z"
        },
        "id": "j8EIqT-aCKTd",
        "colab": {
          "base_uri": "https://localhost:8080/"
        },
        "outputId": "652002b9-fd0b-4e89-ae87-993b07043c28"
      },
      "cell_type": "code",
      "source": [
        "rf = RandomForestRegressor(n_estimators=600, random_state=42)\n",
        "rf.fit(X_train, y_train)\n",
        "\n",
        "# Feature importance selection (Now based on X_train's actual columns)\n",
        "feature_importance_rf = pd.DataFrame(list(zip(X_train.columns, rf.feature_importances_)),\n",
        "                                     columns=['predictor', 'feature importance'])\n",
        "\n",
        "# Sort by importance\n",
        "feature_importance_rf = feature_importance_rf.sort_values(by='feature importance', ascending=False)\n",
        "\n",
        "# Select top 100 features\n",
        "selected_features_rf = feature_importance_rf.head(100)['predictor'].tolist()\n",
        "# Print selected features\n",
        "print(\"Top 100 Important Features:\", selected_features_rf)"
      ],
      "outputs": [
        {
          "output_type": "stream",
          "name": "stdout",
          "text": [
            "Top 100 Important Features: ['TitleClean_project manager', 'views', 'application_type_SimpleOnsiteApply', 'feature_policy', 'feature_construction', 'employee_count', 'feature_engineering', 'feature_insurance', 'applies', 'feature_plan', 'feature_performance', 'feature_practice', 'feature_state', 'industry_Software Development', 'formatted_experience_level_Mid-Senior level', 'feature_individual', 'feature_group', 'feature_family', 'industry_IT Services and IT Consulting', 'feature_design', 'feature_member', 'feature_environment', 'industry_Manufacturing', 'industry_Wholesale', 'company_size', 'feature_communication', 'feature_degree', 'feature_software', 'industry_Insurance', 'feature_growth', 'formatted_work_type_Full-time', 'formatted_experience_level_Entry level', 'feature_equipment', 'feature_information', 'TitleClean_sales associate', 'feature_healthcare', 'feature_training', 'feature_salary', 'industry_Hospitals and Health Care', 'feature_responsibility', 'feature_technology', 'Dental insurance', 'feature_disability', 'feature_law', 'feature_market', 'feature_culture', 'industry_Staffing and Recruiting', 'feature_need', 'formatted_experience_level_Other', 'feature_application', 'feature_marketing', 'TitleClean_marketing manager', 'feature_employer', 'formatted_work_type_Part-time', 'TitleClean_support specialist', 'feature_accounting', 'formatted_work_type_Internship', 'feature_resource', 'feature_development', 'feature_patient', 'feature_education', 'feature_area', 'TitleClean_administrative assistant', 'feature_location', 'CompApplication', 'application_type_OffsiteApply', 'formatted_experience_level_Internship', 'industry_Food and Beverage Services', 'Tuition assistance', 'feature_health', 'feature_hour', 'feature_account', 'Paid maternity leave', 'TitleClean_sales representative', 'TitleClean_registered nurse', 'feature_value', 'feature_security', 'remote_allowed', 'Student loan assistance', 'Disability insurance', 'TitleClean_accounts payable', 'formatted_work_type_Temporary', 'Commuter benefits', 'feature_strategy', 'TitleClean_service technician', 'industry_Real Estate', 'industry_Government Administration', 'TitleClean_maintenance technician', 'formatted_experience_level_Director', 'TitleClean_security engineer', 'industry_Oil and Gas', 'TitleClean_senior manager', 'TitleClean_legal assistant', 'industry_Civil Engineering', 'country_US', 'TitleClean_engineering manager', 'feature_sale', 'feature_qualification', 'industry_Retail', 'industry_Advertising Services']\n"
          ]
        }
      ],
      "execution_count": 59,
      "id": "j8EIqT-aCKTd"
    },
    {
      "metadata": {
        "ExecuteTime": {
          "end_time": "2025-02-21T03:19:45.689041Z",
          "start_time": "2025-02-21T03:19:45.681165Z"
        },
        "id": "2PImlN5ECKTd"
      },
      "cell_type": "code",
      "source": [
        "X_train = X_train[selected_features_rf]\n",
        "X_test = X_test[selected_features_rf]"
      ],
      "outputs": [],
      "execution_count": 60,
      "id": "2PImlN5ECKTd"
    },
    {
      "metadata": {
        "ExecuteTime": {
          "end_time": "2025-02-21T03:35:14.491329Z",
          "start_time": "2025-02-21T03:35:14.483387Z"
        },
        "id": "kWnjfBaaCKTd"
      },
      "cell_type": "code",
      "source": [
        "scaler = StandardScaler()\n",
        "X_train_scaled = scaler.fit_transform(X_train)\n",
        "X_test_scaled = scaler.transform(X_test)"
      ],
      "outputs": [],
      "execution_count": 61,
      "id": "kWnjfBaaCKTd"
    },
    {
      "cell_type": "code",
      "source": [
        "y_scaler = StandardScaler()\n",
        "y_train_scaled = y_scaler.fit_transform(y_train.values.reshape(-1, 1))\n",
        "y_test_scaled = y_scaler.transform(y_test.values.reshape(-1, 1))"
      ],
      "metadata": {
        "id": "7PL3Sk06CKTd"
      },
      "execution_count": 62,
      "outputs": [],
      "id": "7PL3Sk06CKTd"
    },
    {
      "metadata": {
        "ExecuteTime": {
          "end_time": "2025-02-21T03:35:54.529869Z",
          "start_time": "2025-02-21T03:35:54.526995Z"
        },
        "id": "HOGBhvZPCKTd"
      },
      "cell_type": "code",
      "source": [
        "# Define model parameters\n",
        "INPUT_DIM = X_train_scaled.shape[1]\n",
        "LEARNING_RATE = 0.001\n",
        "BATCH_SIZE = 32\n",
        "NUM_EPOCHS = 150"
      ],
      "outputs": [],
      "execution_count": 63,
      "id": "HOGBhvZPCKTd"
    },
    {
      "metadata": {
        "ExecuteTime": {
          "end_time": "2025-02-21T03:36:06.736997Z",
          "start_time": "2025-02-21T03:36:06.734086Z"
        },
        "id": "6S2AWIkNCKTd"
      },
      "cell_type": "code",
      "source": [
        "class AdaptiveLayer(layers.Layer):\n",
        "    def __init__(self, units, **kwargs):\n",
        "        super(AdaptiveLayer, self).__init__(**kwargs)\n",
        "        self.units = units\n",
        "        self.dense = layers.Dense(units, activation='relu')\n",
        "        self.batch_norm = layers.BatchNormalization()\n",
        "        self.dropout = layers.Dropout(0.3)\n",
        "        self.activation = layers.ReLU()\n",
        "\n",
        "    def call(self, inputs, training=False):\n",
        "        x = self.dense(inputs)\n",
        "        x = self.batch_norm(x, training=training)\n",
        "        x = self.dropout(x, training=training)\n",
        "        return self.activation(x)"
      ],
      "outputs": [],
      "execution_count": 64,
      "id": "6S2AWIkNCKTd"
    },
    {
      "metadata": {
        "ExecuteTime": {
          "end_time": "2025-02-21T03:36:19.963495Z",
          "start_time": "2025-02-21T03:36:19.960322Z"
        },
        "id": "6NNzlwKZCKTe"
      },
      "cell_type": "code",
      "source": [
        "def create_adaptive_model(input_dim):\n",
        "    inputs = layers.Input(shape=(input_dim,))\n",
        "\n",
        "    # First adaptive layer with larger units\n",
        "    x = AdaptiveLayer(128)(inputs)\n",
        "\n",
        "    # Multiple adaptive layers with decreasing units\n",
        "    x = AdaptiveLayer(64)(x)\n",
        "    x = AdaptiveLayer(32)(x)\n",
        "    x = AdaptiveLayer(16)(x)\n",
        "\n",
        "    # Output layer\n",
        "    outputs = layers.Dense(1, activation='linear')(x)\n",
        "\n",
        "    model = models.Model(inputs=inputs, outputs=outputs)\n",
        "    return model"
      ],
      "outputs": [],
      "execution_count": 65,
      "id": "6NNzlwKZCKTe"
    },
    {
      "metadata": {
        "ExecuteTime": {
          "end_time": "2025-02-21T03:36:42.008499Z",
          "start_time": "2025-02-21T03:36:41.886540Z"
        },
        "id": "Vtw4KgaPCKTe"
      },
      "cell_type": "code",
      "source": [
        "# Create and compile the model\n",
        "model = create_adaptive_model(INPUT_DIM)\n",
        "optimizer = tf.keras.optimizers.Adam(learning_rate=LEARNING_RATE)\n",
        "\n",
        "model.compile(\n",
        "    optimizer=optimizer,\n",
        "    loss='mse',\n",
        "    metrics=['mae', 'mse']\n",
        ")"
      ],
      "outputs": [],
      "execution_count": 66,
      "id": "Vtw4KgaPCKTe"
    },
    {
      "metadata": {
        "ExecuteTime": {
          "end_time": "2025-02-21T03:37:10.529792Z",
          "start_time": "2025-02-21T03:37:10.525550Z"
        },
        "id": "Cy4nI4Q9CKTe"
      },
      "cell_type": "code",
      "source": [
        "# Define callbacks\n",
        "early_stopping = callbacks.EarlyStopping(\n",
        "    monitor='val_loss',\n",
        "    patience=15,\n",
        "    restore_best_weights=True,\n",
        "    verbose=1\n",
        ")\n",
        "\n",
        "reduce_lr = callbacks.ReduceLROnPlateau(\n",
        "    monitor='val_loss',\n",
        "    factor=0.2,\n",
        "    patience=5,\n",
        "    min_lr=0.00001,\n",
        "    verbose=1\n",
        ")\n"
      ],
      "outputs": [],
      "execution_count": 67,
      "id": "Cy4nI4Q9CKTe"
    },
    {
      "metadata": {
        "ExecuteTime": {
          "end_time": "2025-02-21T03:37:22.746481Z",
          "start_time": "2025-02-21T03:37:22.743564Z"
        },
        "id": "YQPadjt8CKTe"
      },
      "cell_type": "code",
      "source": [
        "# Model checkpoint\n",
        "checkpoint = callbacks.ModelCheckpoint(\n",
        "    'best_model.h5',\n",
        "    monitor='val_loss',\n",
        "    save_best_only=True,\n",
        "    verbose=1\n",
        ")"
      ],
      "outputs": [],
      "execution_count": 68,
      "id": "YQPadjt8CKTe"
    },
    {
      "metadata": {
        "ExecuteTime": {
          "end_time": "2025-02-21T03:38:32.941951Z",
          "start_time": "2025-02-21T03:37:33.495235Z"
        },
        "id": "SUupZeVwCKTe",
        "colab": {
          "base_uri": "https://localhost:8080/"
        },
        "outputId": "a6dabac2-cf3d-4fb5-b6ca-122072706725"
      },
      "cell_type": "code",
      "source": [
        "# Train the model\n",
        "history = model.fit(\n",
        "    X_train_scaled,\n",
        "    y_train_scaled,  # Use scaled target\n",
        "    batch_size=BATCH_SIZE,\n",
        "    epochs=NUM_EPOCHS,\n",
        "    validation_split=0.2,\n",
        "    callbacks=[early_stopping, reduce_lr, checkpoint],\n",
        "    verbose=1\n",
        ")\n"
      ],
      "outputs": [
        {
          "output_type": "stream",
          "name": "stdout",
          "text": [
            "Epoch 1/150\n",
            "\u001b[1m700/700\u001b[0m \u001b[32m━━━━━━━━━━━━━━━━━━━━\u001b[0m\u001b[37m\u001b[0m \u001b[1m0s\u001b[0m 6ms/step - loss: 1.7885 - mae: 0.6571 - mse: 1.7885\n",
            "Epoch 1: val_loss improved from inf to 1.22944, saving model to best_model.h5\n"
          ]
        },
        {
          "output_type": "stream",
          "name": "stderr",
          "text": [
            "WARNING:absl:You are saving your model as an HDF5 file via `model.save()` or `keras.saving.save_model(model)`. This file format is considered legacy. We recommend using instead the native Keras format, e.g. `model.save('my_model.keras')` or `keras.saving.save_model(model, 'my_model.keras')`. \n"
          ]
        },
        {
          "output_type": "stream",
          "name": "stdout",
          "text": [
            "\b\b\b\b\b\b\b\b\b\b\b\b\b\b\b\b\b\b\b\b\b\b\b\b\b\b\b\b\b\b\b\b\b\b\b\b\b\b\b\b\b\b\b\b\b\b\b\b\b\b\b\b\b\b\b\b\b\b\b\b\b\b\b\b\b\b\b\b\b\b\b\b\b\b\b\b\b\b\b\b\b\b\b\r\u001b[1m700/700\u001b[0m \u001b[32m━━━━━━━━━━━━━━━━━━━━\u001b[0m\u001b[37m\u001b[0m \u001b[1m13s\u001b[0m 8ms/step - loss: 1.7882 - mae: 0.6568 - mse: 1.7882 - val_loss: 1.2294 - val_mae: 0.1071 - val_mse: 1.2294 - learning_rate: 0.0010\n",
            "Epoch 2/150\n",
            "\u001b[1m696/700\u001b[0m \u001b[32m━━━━━━━━━━━━━━━━━━━\u001b[0m\u001b[37m━\u001b[0m \u001b[1m0s\u001b[0m 3ms/step - loss: 0.8239 - mae: 0.2200 - mse: 0.8239\n",
            "Epoch 2: val_loss improved from 1.22944 to 1.21591, saving model to best_model.h5\n"
          ]
        },
        {
          "output_type": "stream",
          "name": "stderr",
          "text": [
            "WARNING:absl:You are saving your model as an HDF5 file via `model.save()` or `keras.saving.save_model(model)`. This file format is considered legacy. We recommend using instead the native Keras format, e.g. `model.save('my_model.keras')` or `keras.saving.save_model(model, 'my_model.keras')`. \n"
          ]
        },
        {
          "output_type": "stream",
          "name": "stdout",
          "text": [
            "\b\b\b\b\b\b\b\b\b\b\b\b\b\b\b\b\b\b\b\b\b\b\b\b\b\b\b\b\b\b\b\b\b\b\b\b\b\b\b\b\b\b\b\b\b\b\b\b\b\b\b\b\b\b\b\b\b\b\b\b\b\b\b\b\b\b\b\b\b\b\b\b\b\b\b\b\b\b\b\b\b\b\b\r\u001b[1m700/700\u001b[0m \u001b[32m━━━━━━━━━━━━━━━━━━━━\u001b[0m\u001b[37m\u001b[0m \u001b[1m4s\u001b[0m 4ms/step - loss: 0.8253 - mae: 0.2198 - mse: 0.8253 - val_loss: 1.2159 - val_mae: 0.0651 - val_mse: 1.2159 - learning_rate: 0.0010\n",
            "Epoch 3/150\n",
            "\u001b[1m687/700\u001b[0m \u001b[32m━━━━━━━━━━━━━━━━━━━\u001b[0m\u001b[37m━\u001b[0m \u001b[1m0s\u001b[0m 3ms/step - loss: 0.5239 - mae: 0.1187 - mse: 0.5239\n",
            "Epoch 3: val_loss improved from 1.21591 to 1.21237, saving model to best_model.h5\n"
          ]
        },
        {
          "output_type": "stream",
          "name": "stderr",
          "text": [
            "WARNING:absl:You are saving your model as an HDF5 file via `model.save()` or `keras.saving.save_model(model)`. This file format is considered legacy. We recommend using instead the native Keras format, e.g. `model.save('my_model.keras')` or `keras.saving.save_model(model, 'my_model.keras')`. \n"
          ]
        },
        {
          "output_type": "stream",
          "name": "stdout",
          "text": [
            "\b\b\b\b\b\b\b\b\b\b\b\b\b\b\b\b\b\b\b\b\b\b\b\b\b\b\b\b\b\b\b\b\b\b\b\b\b\b\b\b\b\b\b\b\b\b\b\b\b\b\b\b\b\b\b\b\b\b\b\b\b\b\b\b\b\b\b\b\b\b\b\b\b\b\b\b\b\b\b\b\b\b\b\r\u001b[1m700/700\u001b[0m \u001b[32m━━━━━━━━━━━━━━━━━━━━\u001b[0m\u001b[37m\u001b[0m \u001b[1m3s\u001b[0m 4ms/step - loss: 0.5329 - mae: 0.1185 - mse: 0.5329 - val_loss: 1.2124 - val_mae: 0.0466 - val_mse: 1.2124 - learning_rate: 0.0010\n",
            "Epoch 4/150\n",
            "\u001b[1m695/700\u001b[0m \u001b[32m━━━━━━━━━━━━━━━━━━━\u001b[0m\u001b[37m━\u001b[0m \u001b[1m0s\u001b[0m 3ms/step - loss: 0.4015 - mae: 0.0702 - mse: 0.4015\n",
            "Epoch 4: val_loss improved from 1.21237 to 1.21135, saving model to best_model.h5\n"
          ]
        },
        {
          "output_type": "stream",
          "name": "stderr",
          "text": [
            "WARNING:absl:You are saving your model as an HDF5 file via `model.save()` or `keras.saving.save_model(model)`. This file format is considered legacy. We recommend using instead the native Keras format, e.g. `model.save('my_model.keras')` or `keras.saving.save_model(model, 'my_model.keras')`. \n"
          ]
        },
        {
          "output_type": "stream",
          "name": "stdout",
          "text": [
            "\b\b\b\b\b\b\b\b\b\b\b\b\b\b\b\b\b\b\b\b\b\b\b\b\b\b\b\b\b\b\b\b\b\b\b\b\b\b\b\b\b\b\b\b\b\b\b\b\b\b\b\b\b\b\b\b\b\b\b\b\b\b\b\b\b\b\b\b\b\b\b\b\b\b\b\b\b\b\b\b\b\b\b\r\u001b[1m700/700\u001b[0m \u001b[32m━━━━━━━━━━━━━━━━━━━━\u001b[0m\u001b[37m\u001b[0m \u001b[1m3s\u001b[0m 4ms/step - loss: 0.4063 - mae: 0.0702 - mse: 0.4063 - val_loss: 1.2113 - val_mae: 0.0447 - val_mse: 1.2113 - learning_rate: 0.0010\n",
            "Epoch 5/150\n",
            "\u001b[1m693/700\u001b[0m \u001b[32m━━━━━━━━━━━━━━━━━━━\u001b[0m\u001b[37m━\u001b[0m \u001b[1m0s\u001b[0m 3ms/step - loss: 0.8287 - mae: 0.0591 - mse: 0.8287\n",
            "Epoch 5: val_loss did not improve from 1.21135\n",
            "\u001b[1m700/700\u001b[0m \u001b[32m━━━━━━━━━━━━━━━━━━━━\u001b[0m\u001b[37m\u001b[0m \u001b[1m5s\u001b[0m 4ms/step - loss: 0.8298 - mae: 0.0591 - mse: 0.8298 - val_loss: 1.2119 - val_mae: 0.0401 - val_mse: 1.2119 - learning_rate: 0.0010\n",
            "Epoch 6/150\n",
            "\u001b[1m682/700\u001b[0m \u001b[32m━━━━━━━━━━━━━━━━━━━\u001b[0m\u001b[37m━\u001b[0m \u001b[1m0s\u001b[0m 3ms/step - loss: 0.5954 - mae: 0.0489 - mse: 0.5954\n",
            "Epoch 6: val_loss did not improve from 1.21135\n",
            "\u001b[1m700/700\u001b[0m \u001b[32m━━━━━━━━━━━━━━━━━━━━\u001b[0m\u001b[37m\u001b[0m \u001b[1m5s\u001b[0m 3ms/step - loss: 0.6047 - mae: 0.0490 - mse: 0.6047 - val_loss: 1.2114 - val_mae: 0.0391 - val_mse: 1.2114 - learning_rate: 0.0010\n",
            "Epoch 7/150\n",
            "\u001b[1m683/700\u001b[0m \u001b[32m━━━━━━━━━━━━━━━━━━━\u001b[0m\u001b[37m━\u001b[0m \u001b[1m0s\u001b[0m 3ms/step - loss: 0.5867 - mae: 0.0461 - mse: 0.5867\n",
            "Epoch 7: val_loss did not improve from 1.21135\n",
            "\u001b[1m700/700\u001b[0m \u001b[32m━━━━━━━━━━━━━━━━━━━━\u001b[0m\u001b[37m\u001b[0m \u001b[1m3s\u001b[0m 4ms/step - loss: 0.5962 - mae: 0.0463 - mse: 0.5962 - val_loss: 1.2119 - val_mae: 0.0444 - val_mse: 1.2119 - learning_rate: 0.0010\n",
            "Epoch 8/150\n",
            "\u001b[1m699/700\u001b[0m \u001b[32m━━━━━━━━━━━━━━━━━━━\u001b[0m\u001b[37m━\u001b[0m \u001b[1m0s\u001b[0m 3ms/step - loss: 0.5518 - mae: 0.0468 - mse: 0.5518\n",
            "Epoch 8: val_loss did not improve from 1.21135\n",
            "\u001b[1m700/700\u001b[0m \u001b[32m━━━━━━━━━━━━━━━━━━━━\u001b[0m\u001b[37m\u001b[0m \u001b[1m5s\u001b[0m 4ms/step - loss: 0.5529 - mae: 0.0469 - mse: 0.5529 - val_loss: 1.2130 - val_mae: 0.0529 - val_mse: 1.2130 - learning_rate: 0.0010\n",
            "Epoch 9/150\n",
            "\u001b[1m692/700\u001b[0m \u001b[32m━━━━━━━━━━━━━━━━━━━\u001b[0m\u001b[37m━\u001b[0m \u001b[1m0s\u001b[0m 3ms/step - loss: 1.8412 - mae: 0.0744 - mse: 1.8412\n",
            "Epoch 9: val_loss improved from 1.21135 to 1.21068, saving model to best_model.h5\n"
          ]
        },
        {
          "output_type": "stream",
          "name": "stderr",
          "text": [
            "WARNING:absl:You are saving your model as an HDF5 file via `model.save()` or `keras.saving.save_model(model)`. This file format is considered legacy. We recommend using instead the native Keras format, e.g. `model.save('my_model.keras')` or `keras.saving.save_model(model, 'my_model.keras')`. \n"
          ]
        },
        {
          "output_type": "stream",
          "name": "stdout",
          "text": [
            "\b\b\b\b\b\b\b\b\b\b\b\b\b\b\b\b\b\b\b\b\b\b\b\b\b\b\b\b\b\b\b\b\b\b\b\b\b\b\b\b\b\b\b\b\b\b\b\b\b\b\b\b\b\b\b\b\b\b\b\b\b\b\b\b\b\b\b\b\b\b\b\b\b\b\b\b\b\b\b\b\b\b\b\r\u001b[1m700/700\u001b[0m \u001b[32m━━━━━━━━━━━━━━━━━━━━\u001b[0m\u001b[37m\u001b[0m \u001b[1m5s\u001b[0m 4ms/step - loss: 1.8297 - mae: 0.0743 - mse: 1.8297 - val_loss: 1.2107 - val_mae: 0.0472 - val_mse: 1.2107 - learning_rate: 0.0010\n",
            "Epoch 10/150\n",
            "\u001b[1m691/700\u001b[0m \u001b[32m━━━━━━━━━━━━━━━━━━━\u001b[0m\u001b[37m━\u001b[0m \u001b[1m0s\u001b[0m 3ms/step - loss: 3.5780 - mae: 0.0938 - mse: 3.5780\n",
            "Epoch 10: val_loss improved from 1.21068 to 1.20786, saving model to best_model.h5\n"
          ]
        },
        {
          "output_type": "stream",
          "name": "stderr",
          "text": [
            "WARNING:absl:You are saving your model as an HDF5 file via `model.save()` or `keras.saving.save_model(model)`. This file format is considered legacy. We recommend using instead the native Keras format, e.g. `model.save('my_model.keras')` or `keras.saving.save_model(model, 'my_model.keras')`. \n"
          ]
        },
        {
          "output_type": "stream",
          "name": "stdout",
          "text": [
            "\b\b\b\b\b\b\b\b\b\b\b\b\b\b\b\b\b\b\b\b\b\b\b\b\b\b\b\b\b\b\b\b\b\b\b\b\b\b\b\b\b\b\b\b\b\b\b\b\b\b\b\b\b\b\b\b\b\b\b\b\b\b\b\b\b\b\b\b\b\b\b\b\b\b\b\b\b\b\b\b\b\b\b\r\u001b[1m700/700\u001b[0m \u001b[32m━━━━━━━━━━━━━━━━━━━━\u001b[0m\u001b[37m\u001b[0m \u001b[1m5s\u001b[0m 4ms/step - loss: 3.5405 - mae: 0.0934 - mse: 3.5405 - val_loss: 1.2079 - val_mae: 0.0536 - val_mse: 1.2079 - learning_rate: 0.0010\n",
            "Epoch 11/150\n",
            "\u001b[1m699/700\u001b[0m \u001b[32m━━━━━━━━━━━━━━━━━━━\u001b[0m\u001b[37m━\u001b[0m \u001b[1m0s\u001b[0m 4ms/step - loss: 1.1018 - mae: 0.0668 - mse: 1.1018\n",
            "Epoch 11: val_loss did not improve from 1.20786\n",
            "\u001b[1m700/700\u001b[0m \u001b[32m━━━━━━━━━━━━━━━━━━━━\u001b[0m\u001b[37m\u001b[0m \u001b[1m3s\u001b[0m 4ms/step - loss: 1.1013 - mae: 0.0668 - mse: 1.1013 - val_loss: 1.2110 - val_mae: 0.0553 - val_mse: 1.2110 - learning_rate: 0.0010\n",
            "Epoch 12/150\n",
            "\u001b[1m698/700\u001b[0m \u001b[32m━━━━━━━━━━━━━━━━━━━\u001b[0m\u001b[37m━\u001b[0m \u001b[1m0s\u001b[0m 3ms/step - loss: 1.3494 - mae: 0.0657 - mse: 1.3494\n",
            "Epoch 12: val_loss did not improve from 1.20786\n",
            "\u001b[1m700/700\u001b[0m \u001b[32m━━━━━━━━━━━━━━━━━━━━\u001b[0m\u001b[37m\u001b[0m \u001b[1m4s\u001b[0m 3ms/step - loss: 1.3476 - mae: 0.0657 - mse: 1.3476 - val_loss: 1.2110 - val_mae: 0.0532 - val_mse: 1.2110 - learning_rate: 0.0010\n",
            "Epoch 13/150\n",
            "\u001b[1m695/700\u001b[0m \u001b[32m━━━━━━━━━━━━━━━━━━━\u001b[0m\u001b[37m━\u001b[0m \u001b[1m0s\u001b[0m 3ms/step - loss: 0.3975 - mae: 0.0523 - mse: 0.3975\n",
            "Epoch 13: val_loss did not improve from 1.20786\n",
            "\u001b[1m700/700\u001b[0m \u001b[32m━━━━━━━━━━━━━━━━━━━━\u001b[0m\u001b[37m\u001b[0m \u001b[1m3s\u001b[0m 4ms/step - loss: 0.4021 - mae: 0.0524 - mse: 0.4021 - val_loss: 1.2118 - val_mae: 0.0486 - val_mse: 1.2118 - learning_rate: 0.0010\n",
            "Epoch 14/150\n",
            "\u001b[1m687/700\u001b[0m \u001b[32m━━━━━━━━━━━━━━━━━━━\u001b[0m\u001b[37m━\u001b[0m \u001b[1m0s\u001b[0m 3ms/step - loss: 1.2098 - mae: 0.0818 - mse: 1.2098\n",
            "Epoch 14: val_loss did not improve from 1.20786\n",
            "\u001b[1m700/700\u001b[0m \u001b[32m━━━━━━━━━━━━━━━━━━━━\u001b[0m\u001b[37m\u001b[0m \u001b[1m3s\u001b[0m 4ms/step - loss: 1.2045 - mae: 0.0817 - mse: 1.2045 - val_loss: 1.2086 - val_mae: 0.0522 - val_mse: 1.2086 - learning_rate: 0.0010\n",
            "Epoch 15/150\n",
            "\u001b[1m693/700\u001b[0m \u001b[32m━━━━━━━━━━━━━━━━━━━\u001b[0m\u001b[37m━\u001b[0m \u001b[1m0s\u001b[0m 4ms/step - loss: 0.7353 - mae: 0.0622 - mse: 0.7353\n",
            "Epoch 15: ReduceLROnPlateau reducing learning rate to 0.00020000000949949026.\n",
            "\n",
            "Epoch 15: val_loss did not improve from 1.20786\n",
            "\u001b[1m700/700\u001b[0m \u001b[32m━━━━━━━━━━━━━━━━━━━━\u001b[0m\u001b[37m\u001b[0m \u001b[1m3s\u001b[0m 5ms/step - loss: 0.7367 - mae: 0.0622 - mse: 0.7367 - val_loss: 1.2085 - val_mae: 0.0461 - val_mse: 1.2085 - learning_rate: 0.0010\n",
            "Epoch 16/150\n",
            "\u001b[1m694/700\u001b[0m \u001b[32m━━━━━━━━━━━━━━━━━━━\u001b[0m\u001b[37m━\u001b[0m \u001b[1m0s\u001b[0m 3ms/step - loss: 1.1840 - mae: 0.0693 - mse: 1.1840\n",
            "Epoch 16: val_loss improved from 1.20786 to 1.20781, saving model to best_model.h5\n"
          ]
        },
        {
          "output_type": "stream",
          "name": "stderr",
          "text": [
            "WARNING:absl:You are saving your model as an HDF5 file via `model.save()` or `keras.saving.save_model(model)`. This file format is considered legacy. We recommend using instead the native Keras format, e.g. `model.save('my_model.keras')` or `keras.saving.save_model(model, 'my_model.keras')`. \n"
          ]
        },
        {
          "output_type": "stream",
          "name": "stdout",
          "text": [
            "\b\b\b\b\b\b\b\b\b\b\b\b\b\b\b\b\b\b\b\b\b\b\b\b\b\b\b\b\b\b\b\b\b\b\b\b\b\b\b\b\b\b\b\b\b\b\b\b\b\b\b\b\b\b\b\b\b\b\b\b\b\b\b\b\b\b\b\b\b\b\b\b\b\b\b\b\b\b\b\b\b\b\b\r\u001b[1m700/700\u001b[0m \u001b[32m━━━━━━━━━━━━━━━━━━━━\u001b[0m\u001b[37m\u001b[0m \u001b[1m4s\u001b[0m 4ms/step - loss: 1.1816 - mae: 0.0693 - mse: 1.1816 - val_loss: 1.2078 - val_mae: 0.0470 - val_mse: 1.2078 - learning_rate: 2.0000e-04\n",
            "Epoch 17/150\n",
            "\u001b[1m687/700\u001b[0m \u001b[32m━━━━━━━━━━━━━━━━━━━\u001b[0m\u001b[37m━\u001b[0m \u001b[1m0s\u001b[0m 3ms/step - loss: 0.7301 - mae: 0.0621 - mse: 0.7301\n",
            "Epoch 17: val_loss did not improve from 1.20781\n",
            "\u001b[1m700/700\u001b[0m \u001b[32m━━━━━━━━━━━━━━━━━━━━\u001b[0m\u001b[37m\u001b[0m \u001b[1m3s\u001b[0m 4ms/step - loss: 0.7344 - mae: 0.0621 - mse: 0.7344 - val_loss: 1.2079 - val_mae: 0.0489 - val_mse: 1.2079 - learning_rate: 2.0000e-04\n",
            "Epoch 18/150\n",
            "\u001b[1m688/700\u001b[0m \u001b[32m━━━━━━━━━━━━━━━━━━━\u001b[0m\u001b[37m━\u001b[0m \u001b[1m0s\u001b[0m 4ms/step - loss: 0.6827 - mae: 0.0602 - mse: 0.6827\n",
            "Epoch 18: val_loss improved from 1.20781 to 1.20714, saving model to best_model.h5\n"
          ]
        },
        {
          "output_type": "stream",
          "name": "stderr",
          "text": [
            "WARNING:absl:You are saving your model as an HDF5 file via `model.save()` or `keras.saving.save_model(model)`. This file format is considered legacy. We recommend using instead the native Keras format, e.g. `model.save('my_model.keras')` or `keras.saving.save_model(model, 'my_model.keras')`. \n"
          ]
        },
        {
          "output_type": "stream",
          "name": "stdout",
          "text": [
            "\b\b\b\b\b\b\b\b\b\b\b\b\b\b\b\b\b\b\b\b\b\b\b\b\b\b\b\b\b\b\b\b\b\b\b\b\b\b\b\b\b\b\b\b\b\b\b\b\b\b\b\b\b\b\b\b\b\b\b\b\b\b\b\b\b\b\b\b\b\b\b\b\b\b\b\b\b\b\b\b\b\b\b\r\u001b[1m700/700\u001b[0m \u001b[32m━━━━━━━━━━━━━━━━━━━━\u001b[0m\u001b[37m\u001b[0m \u001b[1m6s\u001b[0m 4ms/step - loss: 0.6874 - mae: 0.0603 - mse: 0.6874 - val_loss: 1.2071 - val_mae: 0.0497 - val_mse: 1.2071 - learning_rate: 2.0000e-04\n",
            "Epoch 19/150\n",
            "\u001b[1m696/700\u001b[0m \u001b[32m━━━━━━━━━━━━━━━━━━━\u001b[0m\u001b[37m━\u001b[0m \u001b[1m0s\u001b[0m 3ms/step - loss: 0.5136 - mae: 0.0605 - mse: 0.5136\n",
            "Epoch 19: val_loss improved from 1.20714 to 1.20705, saving model to best_model.h5\n"
          ]
        },
        {
          "output_type": "stream",
          "name": "stderr",
          "text": [
            "WARNING:absl:You are saving your model as an HDF5 file via `model.save()` or `keras.saving.save_model(model)`. This file format is considered legacy. We recommend using instead the native Keras format, e.g. `model.save('my_model.keras')` or `keras.saving.save_model(model, 'my_model.keras')`. \n"
          ]
        },
        {
          "output_type": "stream",
          "name": "stdout",
          "text": [
            "\b\b\b\b\b\b\b\b\b\b\b\b\b\b\b\b\b\b\b\b\b\b\b\b\b\b\b\b\b\b\b\b\b\b\b\b\b\b\b\b\b\b\b\b\b\b\b\b\b\b\b\b\b\b\b\b\b\b\b\b\b\b\b\b\b\b\b\b\b\b\b\b\b\b\b\b\b\b\b\b\b\b\b\r\u001b[1m700/700\u001b[0m \u001b[32m━━━━━━━━━━━━━━━━━━━━\u001b[0m\u001b[37m\u001b[0m \u001b[1m3s\u001b[0m 4ms/step - loss: 0.5165 - mae: 0.0606 - mse: 0.5165 - val_loss: 1.2071 - val_mae: 0.0512 - val_mse: 1.2071 - learning_rate: 2.0000e-04\n",
            "Epoch 20/150\n",
            "\u001b[1m686/700\u001b[0m \u001b[32m━━━━━━━━━━━━━━━━━━━\u001b[0m\u001b[37m━\u001b[0m \u001b[1m0s\u001b[0m 3ms/step - loss: 0.6737 - mae: 0.0627 - mse: 0.6737\n",
            "Epoch 20: val_loss improved from 1.20705 to 1.20666, saving model to best_model.h5\n"
          ]
        },
        {
          "output_type": "stream",
          "name": "stderr",
          "text": [
            "WARNING:absl:You are saving your model as an HDF5 file via `model.save()` or `keras.saving.save_model(model)`. This file format is considered legacy. We recommend using instead the native Keras format, e.g. `model.save('my_model.keras')` or `keras.saving.save_model(model, 'my_model.keras')`. \n"
          ]
        },
        {
          "output_type": "stream",
          "name": "stdout",
          "text": [
            "\b\b\b\b\b\b\b\b\b\b\b\b\b\b\b\b\b\b\b\b\b\b\b\b\b\b\b\b\b\b\b\b\b\b\b\b\b\b\b\b\b\b\b\b\b\b\b\b\b\b\b\b\b\b\b\b\b\b\b\b\b\b\b\b\b\b\b\b\b\b\b\b\b\b\b\b\b\b\b\b\b\b\b\r\u001b[1m700/700\u001b[0m \u001b[32m━━━━━━━━━━━━━━━━━━━━\u001b[0m\u001b[37m\u001b[0m \u001b[1m5s\u001b[0m 4ms/step - loss: 0.6794 - mae: 0.0627 - mse: 0.6794 - val_loss: 1.2067 - val_mae: 0.0505 - val_mse: 1.2067 - learning_rate: 2.0000e-04\n",
            "Epoch 21/150\n",
            "\u001b[1m694/700\u001b[0m \u001b[32m━━━━━━━━━━━━━━━━━━━\u001b[0m\u001b[37m━\u001b[0m \u001b[1m0s\u001b[0m 4ms/step - loss: 0.9092 - mae: 0.0698 - mse: 0.9092\n",
            "Epoch 21: val_loss improved from 1.20666 to 1.20609, saving model to best_model.h5\n"
          ]
        },
        {
          "output_type": "stream",
          "name": "stderr",
          "text": [
            "WARNING:absl:You are saving your model as an HDF5 file via `model.save()` or `keras.saving.save_model(model)`. This file format is considered legacy. We recommend using instead the native Keras format, e.g. `model.save('my_model.keras')` or `keras.saving.save_model(model, 'my_model.keras')`. \n"
          ]
        },
        {
          "output_type": "stream",
          "name": "stdout",
          "text": [
            "\b\b\b\b\b\b\b\b\b\b\b\b\b\b\b\b\b\b\b\b\b\b\b\b\b\b\b\b\b\b\b\b\b\b\b\b\b\b\b\b\b\b\b\b\b\b\b\b\b\b\b\b\b\b\b\b\b\b\b\b\b\b\b\b\b\b\b\b\b\b\b\b\b\b\b\b\b\b\b\b\b\b\b\r\u001b[1m700/700\u001b[0m \u001b[32m━━━━━━━━━━━━━━━━━━━━\u001b[0m\u001b[37m\u001b[0m \u001b[1m3s\u001b[0m 5ms/step - loss: 0.9094 - mae: 0.0698 - mse: 0.9094 - val_loss: 1.2061 - val_mae: 0.0509 - val_mse: 1.2061 - learning_rate: 2.0000e-04\n",
            "Epoch 22/150\n",
            "\u001b[1m684/700\u001b[0m \u001b[32m━━━━━━━━━━━━━━━━━━━\u001b[0m\u001b[37m━\u001b[0m \u001b[1m0s\u001b[0m 3ms/step - loss: 1.1504 - mae: 0.0719 - mse: 1.1504\n",
            "Epoch 22: val_loss did not improve from 1.20609\n",
            "\u001b[1m700/700\u001b[0m \u001b[32m━━━━━━━━━━━━━━━━━━━━\u001b[0m\u001b[37m\u001b[0m \u001b[1m4s\u001b[0m 4ms/step - loss: 1.1451 - mae: 0.0718 - mse: 1.1451 - val_loss: 1.2064 - val_mae: 0.0530 - val_mse: 1.2064 - learning_rate: 2.0000e-04\n",
            "Epoch 23/150\n",
            "\u001b[1m687/700\u001b[0m \u001b[32m━━━━━━━━━━━━━━━━━━━\u001b[0m\u001b[37m━\u001b[0m \u001b[1m0s\u001b[0m 3ms/step - loss: 1.0793 - mae: 0.0799 - mse: 1.0793\n",
            "Epoch 23: val_loss did not improve from 1.20609\n",
            "\u001b[1m700/700\u001b[0m \u001b[32m━━━━━━━━━━━━━━━━━━━━\u001b[0m\u001b[37m\u001b[0m \u001b[1m2s\u001b[0m 4ms/step - loss: 1.0764 - mae: 0.0797 - mse: 1.0764 - val_loss: 1.2068 - val_mae: 0.0553 - val_mse: 1.2068 - learning_rate: 2.0000e-04\n",
            "Epoch 24/150\n",
            "\u001b[1m690/700\u001b[0m \u001b[32m━━━━━━━━━━━━━━━━━━━\u001b[0m\u001b[37m━\u001b[0m \u001b[1m0s\u001b[0m 3ms/step - loss: 1.7999 - mae: 0.0833 - mse: 1.7999\n",
            "Epoch 24: val_loss did not improve from 1.20609\n",
            "\u001b[1m700/700\u001b[0m \u001b[32m━━━━━━━━━━━━━━━━━━━━\u001b[0m\u001b[37m\u001b[0m \u001b[1m3s\u001b[0m 4ms/step - loss: 1.7862 - mae: 0.0832 - mse: 1.7862 - val_loss: 1.2062 - val_mae: 0.0563 - val_mse: 1.2062 - learning_rate: 2.0000e-04\n",
            "Epoch 25/150\n",
            "\u001b[1m688/700\u001b[0m \u001b[32m━━━━━━━━━━━━━━━━━━━\u001b[0m\u001b[37m━\u001b[0m \u001b[1m0s\u001b[0m 3ms/step - loss: 0.5504 - mae: 0.0667 - mse: 0.5504\n",
            "Epoch 25: val_loss improved from 1.20609 to 1.20509, saving model to best_model.h5\n"
          ]
        },
        {
          "output_type": "stream",
          "name": "stderr",
          "text": [
            "WARNING:absl:You are saving your model as an HDF5 file via `model.save()` or `keras.saving.save_model(model)`. This file format is considered legacy. We recommend using instead the native Keras format, e.g. `model.save('my_model.keras')` or `keras.saving.save_model(model, 'my_model.keras')`. \n"
          ]
        },
        {
          "output_type": "stream",
          "name": "stdout",
          "text": [
            "\b\b\b\b\b\b\b\b\b\b\b\b\b\b\b\b\b\b\b\b\b\b\b\b\b\b\b\b\b\b\b\b\b\b\b\b\b\b\b\b\b\b\b\b\b\b\b\b\b\b\b\b\b\b\b\b\b\b\b\b\b\b\b\b\b\b\b\b\b\b\b\b\b\b\b\b\b\b\b\b\b\b\b\r\u001b[1m700/700\u001b[0m \u001b[32m━━━━━━━━━━━━━━━━━━━━\u001b[0m\u001b[37m\u001b[0m \u001b[1m5s\u001b[0m 4ms/step - loss: 0.5575 - mae: 0.0669 - mse: 0.5575 - val_loss: 1.2051 - val_mae: 0.0545 - val_mse: 1.2051 - learning_rate: 2.0000e-04\n",
            "Epoch 26/150\n",
            "\u001b[1m691/700\u001b[0m \u001b[32m━━━━━━━━━━━━━━━━━━━\u001b[0m\u001b[37m━\u001b[0m \u001b[1m0s\u001b[0m 3ms/step - loss: 1.0994 - mae: 0.0816 - mse: 1.0994\n",
            "Epoch 26: val_loss did not improve from 1.20509\n",
            "\u001b[1m700/700\u001b[0m \u001b[32m━━━━━━━━━━━━━━━━━━━━\u001b[0m\u001b[37m\u001b[0m \u001b[1m3s\u001b[0m 4ms/step - loss: 1.0969 - mae: 0.0815 - mse: 1.0969 - val_loss: 1.2053 - val_mae: 0.0566 - val_mse: 1.2053 - learning_rate: 2.0000e-04\n",
            "Epoch 27/150\n",
            "\u001b[1m698/700\u001b[0m \u001b[32m━━━━━━━━━━━━━━━━━━━\u001b[0m\u001b[37m━\u001b[0m \u001b[1m0s\u001b[0m 3ms/step - loss: 0.8257 - mae: 0.0736 - mse: 0.8257\n",
            "Epoch 27: val_loss did not improve from 1.20509\n",
            "\u001b[1m700/700\u001b[0m \u001b[32m━━━━━━━━━━━━━━━━━━━━\u001b[0m\u001b[37m\u001b[0m \u001b[1m3s\u001b[0m 4ms/step - loss: 0.8262 - mae: 0.0736 - mse: 0.8262 - val_loss: 1.2059 - val_mae: 0.0567 - val_mse: 1.2059 - learning_rate: 2.0000e-04\n",
            "Epoch 28/150\n",
            "\u001b[1m700/700\u001b[0m \u001b[32m━━━━━━━━━━━━━━━━━━━━\u001b[0m\u001b[37m\u001b[0m \u001b[1m0s\u001b[0m 3ms/step - loss: 0.3890 - mae: 0.0669 - mse: 0.3890\n",
            "Epoch 28: val_loss improved from 1.20509 to 1.20482, saving model to best_model.h5\n"
          ]
        },
        {
          "output_type": "stream",
          "name": "stderr",
          "text": [
            "WARNING:absl:You are saving your model as an HDF5 file via `model.save()` or `keras.saving.save_model(model)`. This file format is considered legacy. We recommend using instead the native Keras format, e.g. `model.save('my_model.keras')` or `keras.saving.save_model(model, 'my_model.keras')`. \n"
          ]
        },
        {
          "output_type": "stream",
          "name": "stdout",
          "text": [
            "\b\b\b\b\b\b\b\b\b\b\b\b\b\b\b\b\b\b\b\b\b\b\b\b\b\b\b\b\b\b\b\b\b\b\b\b\b\b\b\b\b\b\b\b\b\b\b\b\b\b\b\b\b\b\b\b\b\b\b\b\b\b\b\b\b\b\b\b\b\b\b\b\b\b\b\b\b\b\b\b\b\b\b\r\u001b[1m700/700\u001b[0m \u001b[32m━━━━━━━━━━━━━━━━━━━━\u001b[0m\u001b[37m\u001b[0m \u001b[1m5s\u001b[0m 4ms/step - loss: 0.3897 - mae: 0.0669 - mse: 0.3897 - val_loss: 1.2048 - val_mae: 0.0541 - val_mse: 1.2048 - learning_rate: 2.0000e-04\n",
            "Epoch 29/150\n",
            "\u001b[1m698/700\u001b[0m \u001b[32m━━━━━━━━━━━━━━━━━━━\u001b[0m\u001b[37m━\u001b[0m \u001b[1m0s\u001b[0m 3ms/step - loss: 1.4063 - mae: 0.0855 - mse: 1.4063\n",
            "Epoch 29: val_loss did not improve from 1.20482\n",
            "\u001b[1m700/700\u001b[0m \u001b[32m━━━━━━━━━━━━━━━━━━━━\u001b[0m\u001b[37m\u001b[0m \u001b[1m3s\u001b[0m 4ms/step - loss: 1.4042 - mae: 0.0854 - mse: 1.4042 - val_loss: 1.2052 - val_mae: 0.0572 - val_mse: 1.2052 - learning_rate: 2.0000e-04\n",
            "Epoch 30/150\n",
            "\u001b[1m689/700\u001b[0m \u001b[32m━━━━━━━━━━━━━━━━━━━\u001b[0m\u001b[37m━\u001b[0m \u001b[1m0s\u001b[0m 3ms/step - loss: 2.1444 - mae: 0.0996 - mse: 2.1444\n",
            "Epoch 30: val_loss did not improve from 1.20482\n",
            "\u001b[1m700/700\u001b[0m \u001b[32m━━━━━━━━━━━━━━━━━━━━\u001b[0m\u001b[37m\u001b[0m \u001b[1m5s\u001b[0m 4ms/step - loss: 2.1235 - mae: 0.0994 - mse: 2.1235 - val_loss: 1.2049 - val_mae: 0.0600 - val_mse: 1.2049 - learning_rate: 2.0000e-04\n",
            "Epoch 31/150\n",
            "\u001b[1m695/700\u001b[0m \u001b[32m━━━━━━━━━━━━━━━━━━━\u001b[0m\u001b[37m━\u001b[0m \u001b[1m0s\u001b[0m 3ms/step - loss: 0.5737 - mae: 0.0793 - mse: 0.5737\n",
            "Epoch 31: val_loss improved from 1.20482 to 1.20374, saving model to best_model.h5\n"
          ]
        },
        {
          "output_type": "stream",
          "name": "stderr",
          "text": [
            "WARNING:absl:You are saving your model as an HDF5 file via `model.save()` or `keras.saving.save_model(model)`. This file format is considered legacy. We recommend using instead the native Keras format, e.g. `model.save('my_model.keras')` or `keras.saving.save_model(model, 'my_model.keras')`. \n"
          ]
        },
        {
          "output_type": "stream",
          "name": "stdout",
          "text": [
            "\b\b\b\b\b\b\b\b\b\b\b\b\b\b\b\b\b\b\b\b\b\b\b\b\b\b\b\b\b\b\b\b\b\b\b\b\b\b\b\b\b\b\b\b\b\b\b\b\b\b\b\b\b\b\b\b\b\b\b\b\b\b\b\b\b\b\b\b\b\b\b\b\b\b\b\b\b\b\b\b\b\b\b\r\u001b[1m700/700\u001b[0m \u001b[32m━━━━━━━━━━━━━━━━━━━━\u001b[0m\u001b[37m\u001b[0m \u001b[1m5s\u001b[0m 4ms/step - loss: 0.5766 - mae: 0.0794 - mse: 0.5766 - val_loss: 1.2037 - val_mae: 0.0579 - val_mse: 1.2037 - learning_rate: 2.0000e-04\n",
            "Epoch 32/150\n",
            "\u001b[1m684/700\u001b[0m \u001b[32m━━━━━━━━━━━━━━━━━━━\u001b[0m\u001b[37m━\u001b[0m \u001b[1m0s\u001b[0m 3ms/step - loss: 1.3378 - mae: 0.0907 - mse: 1.3378\n",
            "Epoch 32: val_loss did not improve from 1.20374\n",
            "\u001b[1m700/700\u001b[0m \u001b[32m━━━━━━━━━━━━━━━━━━━━\u001b[0m\u001b[37m\u001b[0m \u001b[1m3s\u001b[0m 4ms/step - loss: 1.3278 - mae: 0.0906 - mse: 1.3278 - val_loss: 1.2041 - val_mae: 0.0598 - val_mse: 1.2041 - learning_rate: 2.0000e-04\n",
            "Epoch 33/150\n",
            "\u001b[1m690/700\u001b[0m \u001b[32m━━━━━━━━━━━━━━━━━━━\u001b[0m\u001b[37m━\u001b[0m \u001b[1m0s\u001b[0m 3ms/step - loss: 0.4823 - mae: 0.0793 - mse: 0.4823\n",
            "Epoch 33: val_loss did not improve from 1.20374\n",
            "\u001b[1m700/700\u001b[0m \u001b[32m━━━━━━━━━━━━━━━━━━━━\u001b[0m\u001b[37m\u001b[0m \u001b[1m3s\u001b[0m 4ms/step - loss: 0.4890 - mae: 0.0794 - mse: 0.4890 - val_loss: 1.2044 - val_mae: 0.0572 - val_mse: 1.2044 - learning_rate: 2.0000e-04\n",
            "Epoch 34/150\n",
            "\u001b[1m688/700\u001b[0m \u001b[32m━━━━━━━━━━━━━━━━━━━\u001b[0m\u001b[37m━\u001b[0m \u001b[1m0s\u001b[0m 3ms/step - loss: 0.7054 - mae: 0.0850 - mse: 0.7054\n",
            "Epoch 34: val_loss did not improve from 1.20374\n",
            "\u001b[1m700/700\u001b[0m \u001b[32m━━━━━━━━━━━━━━━━━━━━\u001b[0m\u001b[37m\u001b[0m \u001b[1m5s\u001b[0m 4ms/step - loss: 0.7093 - mae: 0.0850 - mse: 0.7093 - val_loss: 1.2045 - val_mae: 0.0566 - val_mse: 1.2045 - learning_rate: 2.0000e-04\n",
            "Epoch 35/150\n",
            "\u001b[1m686/700\u001b[0m \u001b[32m━━━━━━━━━━━━━━━━━━━\u001b[0m\u001b[37m━\u001b[0m \u001b[1m0s\u001b[0m 3ms/step - loss: 0.6854 - mae: 0.0832 - mse: 0.6854\n",
            "Epoch 35: val_loss did not improve from 1.20374\n",
            "\u001b[1m700/700\u001b[0m \u001b[32m━━━━━━━━━━━━━━━━━━━━\u001b[0m\u001b[37m\u001b[0m \u001b[1m3s\u001b[0m 4ms/step - loss: 0.6900 - mae: 0.0833 - mse: 0.6900 - val_loss: 1.2061 - val_mae: 0.0595 - val_mse: 1.2061 - learning_rate: 2.0000e-04\n",
            "Epoch 36/150\n",
            "\u001b[1m697/700\u001b[0m \u001b[32m━━━━━━━━━━━━━━━━━━━\u001b[0m\u001b[37m━\u001b[0m \u001b[1m0s\u001b[0m 3ms/step - loss: 0.7051 - mae: 0.0881 - mse: 0.7051\n",
            "Epoch 36: ReduceLROnPlateau reducing learning rate to 4.0000001899898055e-05.\n",
            "\n",
            "Epoch 36: val_loss did not improve from 1.20374\n",
            "\u001b[1m700/700\u001b[0m \u001b[32m━━━━━━━━━━━━━━━━━━━━\u001b[0m\u001b[37m\u001b[0m \u001b[1m3s\u001b[0m 4ms/step - loss: 0.7062 - mae: 0.0881 - mse: 0.7062 - val_loss: 1.2083 - val_mae: 0.0630 - val_mse: 1.2083 - learning_rate: 2.0000e-04\n",
            "Epoch 37/150\n",
            "\u001b[1m692/700\u001b[0m \u001b[32m━━━━━━━━━━━━━━━━━━━\u001b[0m\u001b[37m━\u001b[0m \u001b[1m0s\u001b[0m 3ms/step - loss: 1.0352 - mae: 0.0935 - mse: 1.0352\n",
            "Epoch 37: val_loss did not improve from 1.20374\n",
            "\u001b[1m700/700\u001b[0m \u001b[32m━━━━━━━━━━━━━━━━━━━━\u001b[0m\u001b[37m\u001b[0m \u001b[1m3s\u001b[0m 4ms/step - loss: 1.0336 - mae: 0.0935 - mse: 1.0336 - val_loss: 1.2079 - val_mae: 0.0631 - val_mse: 1.2079 - learning_rate: 4.0000e-05\n",
            "Epoch 38/150\n",
            "\u001b[1m693/700\u001b[0m \u001b[32m━━━━━━━━━━━━━━━━━━━\u001b[0m\u001b[37m━\u001b[0m \u001b[1m0s\u001b[0m 3ms/step - loss: 1.2233 - mae: 0.1001 - mse: 1.2233\n",
            "Epoch 38: val_loss did not improve from 1.20374\n",
            "\u001b[1m700/700\u001b[0m \u001b[32m━━━━━━━━━━━━━━━━━━━━\u001b[0m\u001b[37m\u001b[0m \u001b[1m5s\u001b[0m 4ms/step - loss: 1.2197 - mae: 0.1000 - mse: 1.2197 - val_loss: 1.2069 - val_mae: 0.0629 - val_mse: 1.2069 - learning_rate: 4.0000e-05\n",
            "Epoch 39/150\n",
            "\u001b[1m694/700\u001b[0m \u001b[32m━━━━━━━━━━━━━━━━━━━\u001b[0m\u001b[37m━\u001b[0m \u001b[1m0s\u001b[0m 3ms/step - loss: 1.6192 - mae: 0.1015 - mse: 1.6192\n",
            "Epoch 39: val_loss did not improve from 1.20374\n",
            "\u001b[1m700/700\u001b[0m \u001b[32m━━━━━━━━━━━━━━━━━━━━\u001b[0m\u001b[37m\u001b[0m \u001b[1m3s\u001b[0m 4ms/step - loss: 1.6120 - mae: 0.1015 - mse: 1.6120 - val_loss: 1.2058 - val_mae: 0.0631 - val_mse: 1.2058 - learning_rate: 4.0000e-05\n",
            "Epoch 40/150\n",
            "\u001b[1m699/700\u001b[0m \u001b[32m━━━━━━━━━━━━━━━━━━━\u001b[0m\u001b[37m━\u001b[0m \u001b[1m0s\u001b[0m 3ms/step - loss: 1.2780 - mae: 0.1021 - mse: 1.2780\n",
            "Epoch 40: val_loss did not improve from 1.20374\n",
            "\u001b[1m700/700\u001b[0m \u001b[32m━━━━━━━━━━━━━━━━━━━━\u001b[0m\u001b[37m\u001b[0m \u001b[1m3s\u001b[0m 4ms/step - loss: 1.2770 - mae: 0.1021 - mse: 1.2770 - val_loss: 1.2067 - val_mae: 0.0633 - val_mse: 1.2067 - learning_rate: 4.0000e-05\n",
            "Epoch 41/150\n",
            "\u001b[1m695/700\u001b[0m \u001b[32m━━━━━━━━━━━━━━━━━━━\u001b[0m\u001b[37m━\u001b[0m \u001b[1m0s\u001b[0m 4ms/step - loss: 0.8203 - mae: 0.0924 - mse: 0.8203\n",
            "Epoch 41: ReduceLROnPlateau reducing learning rate to 1e-05.\n",
            "\n",
            "Epoch 41: val_loss did not improve from 1.20374\n",
            "\u001b[1m700/700\u001b[0m \u001b[32m━━━━━━━━━━━━━━━━━━━━\u001b[0m\u001b[37m\u001b[0m \u001b[1m3s\u001b[0m 5ms/step - loss: 0.8210 - mae: 0.0925 - mse: 0.8210 - val_loss: 1.2066 - val_mae: 0.0634 - val_mse: 1.2066 - learning_rate: 4.0000e-05\n",
            "Epoch 42/150\n",
            "\u001b[1m689/700\u001b[0m \u001b[32m━━━━━━━━━━━━━━━━━━━\u001b[0m\u001b[37m━\u001b[0m \u001b[1m0s\u001b[0m 3ms/step - loss: 0.5881 - mae: 0.0904 - mse: 0.5881\n",
            "Epoch 42: val_loss did not improve from 1.20374\n",
            "\u001b[1m700/700\u001b[0m \u001b[32m━━━━━━━━━━━━━━━━━━━━\u001b[0m\u001b[37m\u001b[0m \u001b[1m3s\u001b[0m 4ms/step - loss: 0.5938 - mae: 0.0905 - mse: 0.5938 - val_loss: 1.2065 - val_mae: 0.0635 - val_mse: 1.2065 - learning_rate: 1.0000e-05\n",
            "Epoch 43/150\n",
            "\u001b[1m684/700\u001b[0m \u001b[32m━━━━━━━━━━━━━━━━━━━\u001b[0m\u001b[37m━\u001b[0m \u001b[1m0s\u001b[0m 3ms/step - loss: 0.6930 - mae: 0.0949 - mse: 0.6930\n",
            "Epoch 43: val_loss did not improve from 1.20374\n",
            "\u001b[1m700/700\u001b[0m \u001b[32m━━━━━━━━━━━━━━━━━━━━\u001b[0m\u001b[37m\u001b[0m \u001b[1m3s\u001b[0m 4ms/step - loss: 0.6984 - mae: 0.0949 - mse: 0.6984 - val_loss: 1.2064 - val_mae: 0.0634 - val_mse: 1.2064 - learning_rate: 1.0000e-05\n",
            "Epoch 44/150\n",
            "\u001b[1m689/700\u001b[0m \u001b[32m━━━━━━━━━━━━━━━━━━━\u001b[0m\u001b[37m━\u001b[0m \u001b[1m0s\u001b[0m 3ms/step - loss: 0.7671 - mae: 0.0917 - mse: 0.7671\n",
            "Epoch 44: val_loss did not improve from 1.20374\n",
            "\u001b[1m700/700\u001b[0m \u001b[32m━━━━━━━━━━━━━━━━━━━━\u001b[0m\u001b[37m\u001b[0m \u001b[1m3s\u001b[0m 4ms/step - loss: 0.7694 - mae: 0.0917 - mse: 0.7694 - val_loss: 1.2067 - val_mae: 0.0635 - val_mse: 1.2067 - learning_rate: 1.0000e-05\n",
            "Epoch 45/150\n",
            "\u001b[1m699/700\u001b[0m \u001b[32m━━━━━━━━━━━━━━━━━━━\u001b[0m\u001b[37m━\u001b[0m \u001b[1m0s\u001b[0m 3ms/step - loss: 0.3190 - mae: 0.0866 - mse: 0.3190\n",
            "Epoch 45: val_loss did not improve from 1.20374\n",
            "\u001b[1m700/700\u001b[0m \u001b[32m━━━━━━━━━━━━━━━━━━━━\u001b[0m\u001b[37m\u001b[0m \u001b[1m3s\u001b[0m 4ms/step - loss: 0.3207 - mae: 0.0867 - mse: 0.3207 - val_loss: 1.2069 - val_mae: 0.0638 - val_mse: 1.2069 - learning_rate: 1.0000e-05\n",
            "Epoch 46/150\n",
            "\u001b[1m685/700\u001b[0m \u001b[32m━━━━━━━━━━━━━━━━━━━\u001b[0m\u001b[37m━\u001b[0m \u001b[1m0s\u001b[0m 3ms/step - loss: 0.8708 - mae: 0.0948 - mse: 0.8708\n",
            "Epoch 46: val_loss did not improve from 1.20374\n",
            "\u001b[1m700/700\u001b[0m \u001b[32m━━━━━━━━━━━━━━━━━━━━\u001b[0m\u001b[37m\u001b[0m \u001b[1m3s\u001b[0m 4ms/step - loss: 0.8718 - mae: 0.0949 - mse: 0.8718 - val_loss: 1.2069 - val_mae: 0.0636 - val_mse: 1.2069 - learning_rate: 1.0000e-05\n",
            "Epoch 46: early stopping\n",
            "Restoring model weights from the end of the best epoch: 31.\n"
          ]
        }
      ],
      "execution_count": 69,
      "id": "SUupZeVwCKTe"
    },
    {
      "cell_type": "code",
      "source": [
        "y_train_pred_scaled = model.predict(X_train_scaled)\n",
        "y_train_pred = y_scaler.inverse_transform(y_train_pred_scaled)\n",
        "\n",
        "train_mse = mean_squared_error(y_train, y_train_pred)\n",
        "train_rmse = np.sqrt(train_mse)\n",
        "train_r2 = r2_score(y_train, y_train_pred)\n",
        "y_pred_scaled = model.predict(X_test_scaled)\n",
        "y_pred = y_scaler.inverse_transform(y_pred_scaled)\n",
        "\n",
        "mse = mean_squared_error(y_test, y_pred)\n",
        "rmse = np.sqrt(mse)\n",
        "r2 = r2_score(y_test, y_pred)\n",
        "\n",
        "# Add neural network results to DataFrame\n",
        "final_results_df_3 = pd.concat([final_results_df_3, pd.DataFrame([{\n",
        "    'Model': 'Neural Network',\n",
        "    'Train_RMSE': train_rmse,\n",
        "    'Test_RMSE': rmse,\n",
        "    'Train_R2': train_r2,\n",
        "    'Test_R2': r2\n",
        "}])], ignore_index=True)"
      ],
      "metadata": {
        "id": "PVaaZgmRCKTe",
        "colab": {
          "base_uri": "https://localhost:8080/"
        },
        "outputId": "e277342a-ff96-4bbe-c3c5-2ebbc912baa8"
      },
      "execution_count": 70,
      "outputs": [
        {
          "output_type": "stream",
          "name": "stdout",
          "text": [
            "\u001b[1m875/875\u001b[0m \u001b[32m━━━━━━━━━━━━━━━━━━━━\u001b[0m\u001b[37m\u001b[0m \u001b[1m2s\u001b[0m 2ms/step\n",
            "\u001b[1m375/375\u001b[0m \u001b[32m━━━━━━━━━━━━━━━━━━━━\u001b[0m\u001b[37m\u001b[0m \u001b[1m1s\u001b[0m 2ms/step\n"
          ]
        },
        {
          "output_type": "stream",
          "name": "stderr",
          "text": [
            "<ipython-input-70-2c99ad6c6cff>:15: FutureWarning: The behavior of DataFrame concatenation with empty or all-NA entries is deprecated. In a future version, this will no longer exclude empty or all-NA columns when determining the result dtypes. To retain the old behavior, exclude the relevant entries before the concat operation.\n",
            "  final_results_df_3 = pd.concat([final_results_df_3, pd.DataFrame([{\n"
          ]
        }
      ],
      "id": "PVaaZgmRCKTe"
    },
    {
      "cell_type": "code",
      "source": [
        "# Evaluate the model\n",
        "print(\"\\nModel Performance Metrics:\")\n",
        "print(f\"Root Mean Squared Error: {rmse:.2f}\")\n",
        "print(f\"R-squared Score: {r2:.4f}\")\n"
      ],
      "metadata": {
        "id": "PqR_ivseCKTe",
        "colab": {
          "base_uri": "https://localhost:8080/"
        },
        "outputId": "6641100b-02c1-4376-8c0c-6e3b66dbe095"
      },
      "execution_count": 71,
      "outputs": [
        {
          "output_type": "stream",
          "name": "stdout",
          "text": [
            "\n",
            "Model Performance Metrics:\n",
            "Root Mean Squared Error: 1551.72\n",
            "R-squared Score: 0.1115\n"
          ]
        }
      ],
      "id": "PqR_ivseCKTe"
    },
    {
      "cell_type": "code",
      "source": [
        "# Plot MAE\n",
        "plt.subplot(1, 3, 2)\n",
        "plt.plot(history.history['mae'], label='Training MAE')\n",
        "plt.plot(history.history['val_mae'], label='Validation MAE')\n",
        "plt.title('Model MAE')\n",
        "plt.xlabel('Epoch')\n",
        "plt.ylabel('MAE')\n",
        "plt.legend()\n",
        "\n"
      ],
      "metadata": {
        "id": "g3fOoXyiCKTe",
        "colab": {
          "base_uri": "https://localhost:8080/",
          "height": 490
        },
        "outputId": "e63f7aac-1ff3-4e30-bae2-d9f6f9aebb8d"
      },
      "execution_count": 72,
      "outputs": [
        {
          "output_type": "execute_result",
          "data": {
            "text/plain": [
              "<matplotlib.legend.Legend at 0x7af68c3f1490>"
            ]
          },
          "metadata": {},
          "execution_count": 72
        },
        {
          "output_type": "display_data",
          "data": {
            "text/plain": [
              "<Figure size 640x480 with 1 Axes>"
            ],
            "image/png": "[encoded data removed]"
          },
          "metadata": {}
        }
      ],
      "id": "g3fOoXyiCKTe"
    },
    {
      "cell_type": "code",
      "source": [
        "dt_param_grid = {\n",
        "    'max_depth': [5, 10],\n",
        "    'min_samples_split': [2, 5],\n",
        "    'min_samples_leaf': [1, 2]\n",
        "}\n",
        "\n",
        "# Create grid search for Decision Tree\n",
        "dt_grid_search = GridSearchCV(\n",
        "    estimator=DecisionTreeRegressor(random_state=42),\n",
        "    param_grid=dt_param_grid,\n",
        "    cv=5,\n",
        "    scoring='neg_mean_squared_error',\n",
        "    n_jobs=-1,\n",
        "    verbose=1\n",
        ")"
      ],
      "metadata": {
        "id": "fiCP5Ejn1R1i"
      },
      "id": "fiCP5Ejn1R1i",
      "execution_count": 73,
      "outputs": []
    },
    {
      "cell_type": "code",
      "source": [
        "# Fit grid search\n",
        "dt_grid_search.fit(X_train_scaled, y_train_scaled.ravel())\n",
        "\n",
        "# Print best parameters\n",
        "print(\"Best Decision Tree Parameters:\", dt_grid_search.best_params_)\n",
        "print(\"Best CV Score (RMSE):\", np.sqrt(-dt_grid_search.best_score_))\n",
        "\n"
      ],
      "metadata": {
        "id": "Bn185dDCCKTe",
        "colab": {
          "base_uri": "https://localhost:8080/"
        },
        "outputId": "5a8ce120-2574-48e5-b36c-3a33a581a98e"
      },
      "execution_count": 74,
      "outputs": [
        {
          "output_type": "stream",
          "name": "stdout",
          "text": [
            "Fitting 5 folds for each of 8 candidates, totalling 40 fits\n",
            "Best Decision Tree Parameters: {'max_depth': 5, 'min_samples_leaf': 2, 'min_samples_split': 2}\n",
            "Best CV Score (RMSE): 1.0451546188399115\n"
          ]
        }
      ],
      "id": "Bn185dDCCKTe"
    },
    {
      "cell_type": "code",
      "source": [
        "# Get best model\n",
        "dt_best = dt_grid_search.best_estimator_\n",
        "\n",
        "# Make predictions (scaled)\n",
        "dt_train_pred = dt_best.predict(X_train_scaled)\n",
        "dt_test_pred = dt_best.predict(X_test_scaled)\n",
        "\n",
        "# Inverse transform to get original scale\n",
        "dt_train_pred_orig = y_scaler.inverse_transform(dt_train_pred.reshape(-1, 1))\n",
        "dt_test_pred_orig = y_scaler.inverse_transform(dt_test_pred.reshape(-1, 1))\n",
        "y_train_orig = y_scaler.inverse_transform(y_train_scaled)\n",
        "y_test_orig = y_scaler.inverse_transform(y_test_scaled)\n",
        "\n",
        "# Calculate metrics on original scale\n",
        "dt_train_rmse = np.sqrt(mean_squared_error(y_train_orig, dt_train_pred_orig))\n",
        "dt_test_rmse = np.sqrt(mean_squared_error(y_test_orig, dt_test_pred_orig))\n",
        "dt_train_r2 = r2_score(y_train_orig, dt_train_pred_orig)\n",
        "dt_test_r2 = r2_score(y_test_orig, dt_test_pred_orig)\n",
        "\n",
        "# Add results to DataFrame\n",
        "final_results_df_3 = pd.concat([final_results_df_3, pd.DataFrame([{\n",
        "    'Model': 'Decision Tree',\n",
        "    'Train_RMSE': dt_train_rmse,\n",
        "    'Test_RMSE': dt_test_rmse,\n",
        "    'Train_R2': dt_train_r2,\n",
        "    'Test_R2': dt_test_r2\n",
        "}])], ignore_index=True)\n"
      ],
      "metadata": {
        "id": "-uu0iJU8CKTe"
      },
      "execution_count": 75,
      "outputs": [],
      "id": "-uu0iJU8CKTe"
    },
    {
      "cell_type": "code",
      "source": [
        "# Evaluate the model\n",
        "print(\"\\nModel Performance Metrics:\")\n",
        "print(f\"Root Mean Squared Error: {dt_test_rmse:.2f}\")\n",
        "print(f\"R-squared Score: {dt_test_r2:.4f}\")"
      ],
      "metadata": {
        "id": "i6AXE6lCCKTf",
        "colab": {
          "base_uri": "https://localhost:8080/"
        },
        "outputId": "bf32a28d-74aa-428e-d2e4-957fa6af43a5"
      },
      "execution_count": 76,
      "outputs": [
        {
          "output_type": "stream",
          "name": "stdout",
          "text": [
            "\n",
            "Model Performance Metrics:\n",
            "Root Mean Squared Error: 2320.79\n",
            "R-squared Score: -0.9874\n"
          ]
        }
      ],
      "id": "i6AXE6lCCKTf"
    },
    {
      "cell_type": "code",
      "source": [
        "#Gradient Boosting\n",
        "# Define parameter grid with only n_estimators\n",
        "gb_param_grid = {\n",
        "    'n_estimators': [50, 100]\n",
        "}\n",
        "\n",
        "# Create grid search\n",
        "gb_grid_search = GridSearchCV(\n",
        "    estimator=GradientBoostingRegressor(\n",
        "        learning_rate=0.01,\n",
        "        max_depth=3,\n",
        "        subsample=0.8,\n",
        "        random_state=42\n",
        "    ),\n",
        "    param_grid=gb_param_grid,\n",
        "    cv=5,\n",
        "    scoring='neg_mean_squared_error',\n",
        "    n_jobs=-1,\n",
        "    verbose=1\n",
        ")\n",
        "\n",
        "# Fit grid search\n",
        "gb_grid_search.fit(X_train_scaled, y_train_scaled.ravel())\n",
        "\n",
        "# Print best parameters\n",
        "print(\"Best Gradient Boosting Parameters:\", gb_grid_search.best_params_)\n",
        "print(\"Best CV Score (RMSE):\", np.sqrt(-gb_grid_search.best_score_))\n",
        "\n",
        "# Get best model\n",
        "gb_best = gb_grid_search.best_estimator_\n",
        "\n",
        "# Make predictions (scaled)\n",
        "gb_train_pred = gb_best.predict(X_train_scaled)\n",
        "gb_test_pred = gb_best.predict(X_test_scaled)\n",
        "\n",
        "# Inverse transform to get original scale\n",
        "gb_train_pred_orig = y_scaler.inverse_transform(gb_train_pred.reshape(-1, 1))\n",
        "gb_test_pred_orig = y_scaler.inverse_transform(gb_test_pred.reshape(-1, 1))\n",
        "\n",
        "# Calculate metrics on original scale\n",
        "gb_train_rmse = np.sqrt(mean_squared_error(y_train_orig, gb_train_pred_orig))\n",
        "gb_test_rmse = np.sqrt(mean_squared_error(y_test_orig, gb_test_pred_orig))\n",
        "gb_train_r2 = r2_score(y_train_orig, gb_train_pred_orig)\n",
        "gb_test_r2 = r2_score(y_test_orig, gb_test_pred_orig)\n",
        "\n",
        "# Add results to DataFrame\n",
        "final_results_df_3 = pd.concat([final_results_df_3, pd.DataFrame([{\n",
        "    'Model': 'Gradient Boosting',\n",
        "    'Train_RMSE': gb_train_rmse,\n",
        "    'Test_RMSE': gb_test_rmse,\n",
        "    'Train_R2': gb_train_r2,\n",
        "    'Test_R2': gb_test_r2\n",
        "}])], ignore_index=True)"
      ],
      "metadata": {
        "id": "oqcVhFUVCKTf",
        "colab": {
          "base_uri": "https://localhost:8080/"
        },
        "outputId": "ecb7473e-bf0e-4e6a-c13a-75e1f22809bd"
      },
      "execution_count": 77,
      "outputs": [
        {
          "output_type": "stream",
          "name": "stdout",
          "text": [
            "Fitting 5 folds for each of 2 candidates, totalling 10 fits\n",
            "Best Gradient Boosting Parameters: {'n_estimators': 50}\n",
            "Best CV Score (RMSE): 1.0173487850092588\n"
          ]
        }
      ],
      "id": "oqcVhFUVCKTf"
    },
    {
      "cell_type": "code",
      "source": [
        "# Print Gradient Boosting results\n",
        "print(\"\\nTuned Gradient Boosting Performance:\")\n",
        "print(f\"Training RMSE: {gb_train_rmse:.2f}\")\n",
        "print(f\"Testing RMSE: {gb_test_rmse:.2f}\")\n",
        "print(f\"Training R²: {gb_train_r2:.4f}\")\n",
        "print(f\"Testing R²: {gb_test_r2:.4f}\")"
      ],
      "metadata": {
        "id": "a5s2WBE-CKTf",
        "colab": {
          "base_uri": "https://localhost:8080/"
        },
        "outputId": "08be6e10-101a-410c-f057-b4788456346e"
      },
      "execution_count": 78,
      "outputs": [
        {
          "output_type": "stream",
          "name": "stdout",
          "text": [
            "\n",
            "Tuned Gradient Boosting Performance:\n",
            "Training RMSE: 2447.94\n",
            "Testing RMSE: 1710.37\n",
            "Training R²: 0.1282\n",
            "Testing R²: -0.0794\n"
          ]
        }
      ],
      "id": "a5s2WBE-CKTf"
    },
    {
      "cell_type": "code",
      "source": [
        "# Display final model comparison\n",
        "print(\"\\nFinal Model Comparison:\")\n",
        "print(final_results_df_3)"
      ],
      "metadata": {
        "id": "3bcxv-j7CKTf",
        "colab": {
          "base_uri": "https://localhost:8080/"
        },
        "outputId": "96bf3d9b-4d2d-4f16-de87-fa5572d53c81"
      },
      "execution_count": 79,
      "outputs": [
        {
          "output_type": "stream",
          "name": "stdout",
          "text": [
            "\n",
            "Final Model Comparison:\n",
            "               Model   Train_RMSE    Test_RMSE  Train_R2   Test_R2\n",
            "0     Neural Network  2379.427379  1551.718080  0.176309  0.111550\n",
            "1      Decision Tree  2245.409017  2320.786726  0.266483 -0.987366\n",
            "2  Gradient Boosting  2447.938190  1710.365083  0.128193 -0.079407\n"
          ]
        }
      ],
      "id": "3bcxv-j7CKTf"
    },
    {
      "cell_type": "code",
      "source": [],
      "metadata": {
        "id": "TGIBHxw0CQYA"
      },
      "id": "TGIBHxw0CQYA",
      "execution_count": 79,
      "outputs": []
    }
  ],
  "metadata": {
    "kernelspec": {
      "display_name": "Python 3",
      "name": "python3"
    },
    "language_info": {
      "codemirror_mode": {
        "name": "ipython",
        "version": 2
      },
      "file_extension": ".py",
      "mimetype": "text/x-python",
      "name": "python",
      "nbconvert_exporter": "python",
      "pygments_lexer": "ipython2",
      "version": "2.7.6"
    },
    "colab": {
      "provenance": [],
      "machine_shape": "hm",
      "gpuType": "T4"
    },
    "accelerator": "GPU"
  },
  "nbformat": 4,
  "nbformat_minor": 5
}